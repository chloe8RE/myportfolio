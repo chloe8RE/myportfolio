{
 "cells": [
  {
   "cell_type": "markdown",
   "id": "992ad0aa-8947-4e4b-b8a5-c13c580dc327",
   "metadata": {},
   "source": [
    "# Project 4: Predict Dengue Cases"
   ]
  },
  {
   "cell_type": "markdown",
   "id": "60ccc81c-64c0-49fb-ab58-f8149a2bf8a4",
   "metadata": {},
   "source": [
    "**Notebook 1.1 - Contents:**<br>\n",
    "[1.1.1 Context](#1.1.1-Context)<br>\n",
    "[1.1.2 Problem Statement](#1.1.2-Problem-Statement)<br>\n",
    "[1.1.3 Methodology, Models and Metrics](#1.1.3-Methodology,-Models-and-Metrics)<br>\n",
    "[1.1.4 Data Collection](#1.1.4-Data-Collection)<br>"
   ]
  },
  {
   "cell_type": "markdown",
   "id": "b03e9683-af69-4f12-a11a-04e008565ed6",
   "metadata": {},
   "source": [
    "## 1.1.1 Context"
   ]
  },
  {
   "cell_type": "markdown",
   "id": "f3244c3b-225c-4cfd-aacc-bd0d463c1b91",
   "metadata": {},
   "source": [
    "[Dengue fever](https://www.healthhub.sg/a-z/diseases-and-conditions/192/topic_dengue_fever_MOH) is a mosquito-borne viral disease caused by the bite of the Aedes mosquito. It poses a significant public health threat in tropical and subtropical regions, including Singapore. To prevent dengue fever, the key strategy is to eliminate the breeding habitats of the Aedes mosquito. The National Environment Agency (NEA) in Singapore has launched the STOP Dengue Now campaign to combat the spread of dengue by encouraging citizens to actively participate in mosquito breeding prevention.\n",
    "\n",
    "In pursuit of effective dengue control, innovative approaches such as the Wolbachia project have been implemented. The Wolbachia method involves releasing male mosquitoes infected with the Wolbachia bacteria, which curtails the ability of Aedes mosquitoes to transmit dengue. This approach has shown promise in reducing mosquito populations and subsequently limiting disease transmission.\n",
    "\n",
    "The factors influencing dengue transmission are complex and include weather patterns, particularly rainfall and temperature, which impact the availability of standing water for mosquito breeding. Additionally, there is evidence to suggest that online search behavior for dengue-related terms might be indicative of disease prevalence, as those at higher risk of infection may be more likely to search for information on the topic. The integration of these factors, along with the influence of the Wolbachia project, forms the basis for our comprehensive study to predict and address dengue cases and their impacts in Singapore."
   ]
  },
  {
   "cell_type": "markdown",
   "id": "b0e8758f-5a63-487b-8f42-c0eb3ec5f074",
   "metadata": {},
   "source": [
    "## 1.1.2 Problem Statement"
   ]
  },
  {
   "cell_type": "markdown",
   "id": "bb7a891d-1f85-4ed6-b6d1-78cfc3ff192d",
   "metadata": {},
   "source": [
    "The objective of this study is to develop a comprehensive predictive model for dengue cases by synergizing climate data and Google search trends. The proposed solution consists of two interconnected parts:\n",
    "\n",
    "**Part 1: Integrated Prediction Model**<br>\n",
    "Develop a precise model by merging climate data and Google search trends to predict dengue cases and fatalities. By analyzing historical climate patterns and search trends, we aim to create an accurate predictive model as a tool for proactive public health strategies.\n",
    "\n",
    "**Part 2: Cost-Based Analysis of Wolbachia Implementation** <br>\n",
    "Evaluate the long-term Wolbachia project's effectiveness in reducing dengue transmission in Tampines and Yishun. This analysis, considering costs and outcomes, will determine the project's economic viability and its contribution to dengue prevention in Singapore."
   ]
  },
  {
   "cell_type": "markdown",
   "id": "d186194d-1b07-4e9b-9799-c74a2e34b34b",
   "metadata": {},
   "source": [
    "## 1.1.3 Methodology, Models and Metrics"
   ]
  },
  {
   "cell_type": "markdown",
   "id": "bced210c-adfa-475e-a27d-5478f7f79c43",
   "metadata": {},
   "source": [
    "Below is our project workflow:\n",
    "\n",
    "<img src=\"../images/Workflow Diagram 1.png\" alt=\"drawing\" width=\"700\"/>"
   ]
  },
  {
   "cell_type": "markdown",
   "id": "9aa84864-1b64-4a43-8915-464186b8c5d0",
   "metadata": {},
   "source": [
    "### Models"
   ]
  },
  {
   "cell_type": "markdown",
   "id": "f541fbb6-9c82-4b0a-ab12-b56b3e139ec4",
   "metadata": {},
   "source": [
    "The data models used can be split into 2 main categories: Time Series Forecasting models and Regression Models.\n",
    "\n",
    "* **Time Series Forecasting Models**\n",
    "    * `SARIMA` (Seasonal Autoregressive Integrated Moving Average) and `SARIMAX` (Seasonal Autoregressive Integrated Moving Average with Exogenous Variables) are used, since we are analyzing and predicting time-dependent data.\n",
    "    * Instead of the ARIMA and ARIMAX, we used SARIMA and SARIMAX they can handle seasonality, since our data likely has recurring patterns, such as yearly or monthly fluctuations (as dengue is related to weather conditions).\n",
    "    * SARIMAX is an extension of our baseline SARIMA model, allowing for the inclusion of exogenous variables.\n",
    "<br>\n",
    " \n",
    "* **Regression Models**\n",
    "    * `Decision Tree`, `Random Forest` and `SVM` (Support Vector Machines) will be tested as well.\n",
    "    * Decision Trees have clear interpretability and allows us to inspect the relative importance of different features in making predictions. \n",
    "    * Random Forest models are robust and  can automatically perform feature selection by evaluating the importance of each feature across multiple trees. \n",
    "    * SVM is effective in capturing complex relationships between predictors and the target variable."
   ]
  },
  {
   "cell_type": "markdown",
   "id": "06ac964f-b57c-4e35-847d-9c341b7236fc",
   "metadata": {},
   "source": [
    "### Metrics"
   ]
  },
  {
   "cell_type": "markdown",
   "id": "be1431da-263d-44cc-834c-044c8a26d8f2",
   "metadata": {},
   "source": [
    "* For the time series models, the metric used will be `Mean Absolute Percentage Error (MAPE)`: Measures the average percentage difference between predicted and actual values, suitable for relative comparisons.<br>\n",
    "* For the regression models, the metric used will be `Root Mean Squared Error (RMSE)`: Square root of the MSE, provides an interpretable metric in the same unit as the target variable."
   ]
  },
  {
   "cell_type": "markdown",
   "id": "f5e43d47-971a-4275-b215-4bd9bb0d2628",
   "metadata": {},
   "source": [
    "## 1.1.4 Data Collection"
   ]
  },
  {
   "cell_type": "markdown",
   "id": "15cd5719-24a3-4067-98cb-cc0d27c382e0",
   "metadata": {},
   "source": [
    "### Imports"
   ]
  },
  {
   "cell_type": "code",
   "execution_count": 3,
   "id": "a51479dc-762e-474d-b455-603377f49acd",
   "metadata": {},
   "outputs": [],
   "source": [
    "import pandas as pd\n",
    "import numpy as np\n",
    "import io\n",
    "import requests\n",
    "import time\n",
    "from bs4 import BeautifulSoup\n",
    "import pickle"
   ]
  },
  {
   "cell_type": "markdown",
   "id": "e48447c5-f4f0-499f-8a83-de9d61139bac",
   "metadata": {},
   "source": [
    "### Metereological Service Singapore"
   ]
  },
  {
   "cell_type": "markdown",
   "id": "18f49ad3-884d-4e67-b280-b0081a4dda52",
   "metadata": {},
   "source": [
    "While we are able to simply download datasets from the data.gov and google.trends, we will need to pull data from the [Metereological Service Singapore](http://www.weather.gov.sg/climate-historical-daily/), where historical daily records of weather are posted. Data extraction via the code below enables a more efficient process of directly concatenating all the monthly weather data into a single dataframe, instead of manually downloading the monthly data month-by-month."
   ]
  },
  {
   "cell_type": "code",
   "execution_count": 4,
   "id": "947b9147-59ab-45ad-80c3-38bb8fb4cddd",
   "metadata": {},
   "outputs": [],
   "source": [
    "#create function to download MSS data\n",
    "def weather_data(station_no):\n",
    "    base_url = \"http://www.weather.gov.sg/files/dailydata/DAILYDATA_\"\n",
    "    stations_list = [station_no]\n",
    "    \n",
    "    data_frames = []\n",
    "    \n",
    "    for station in stations_list:\n",
    "        station_string = \"S\" + str(station).zfill(2)\n",
    "        \n",
    "        for year in range(2012, 2023):\n",
    "            for month in range(1, 13):\n",
    "                month_string = str(month).zfill(2)\n",
    "                url = f\"{base_url}{station_string}_{year}{month_string}.csv\"\n",
    "    \n",
    "                try:\n",
    "                    response = requests.get(url, allow_redirects=True)\n",
    "                    if response.status_code == 200:\n",
    "                        csv_data = response.content\n",
    "                        # Use io.StringIO to create a string buffer for reading CSV data\n",
    "                        buffer = io.StringIO(csv_data.decode(\"ISO-8859-1\"))\n",
    "                        df = pd.read_csv(buffer)\n",
    "                        # Remove BOM characters and convert column names to lowercase\n",
    "                        df.columns = df.columns.str.replace(\"ï»¿\", \"\")\n",
    "                        df.columns = df.columns.str.replace(\"Â\", \"\")\n",
    "                        df.columns = df.columns.str.lower()\n",
    "                        data_frames.append(df)\n",
    "                    else:\n",
    "                        print(f\"Failed to download: {url} (Status code: {response.status_code})\")\n",
    "                except requests.exceptions.RequestException as e:\n",
    "                    print(f\"Error downloading {url}: {e}\")\n",
    "                    continue\n",
    "    \n",
    "    # Concatenate all data frames into a single DataFrame\n",
    "    weather_df = pd.concat(data_frames, axis=0, ignore_index=True)\n",
    "    return weather_df"
   ]
  },
  {
   "cell_type": "markdown",
   "id": "f14c4b11-81ae-400c-9205-45229ed4fde2",
   "metadata": {},
   "source": [
    "Using the function above, we can download the data for Changi and Yishun.\n",
    "We will download data from years 2012 to 2022, as dengue data is only available for these years.<br>\n",
    "\n",
    "We picked Changi because it is the [main climate station](http://www.weather.gov.sg/learn_climate/#:~:text=Since%201984%2C%20the%20climate%20station%20has%20been%20located%20at%20Changi.) for Singapore - it monitors the climate over a long-term period, and has minimally 30 years of rainfall and temperature data. Changi is also the closest weather station to Tampines, one of the areas of Singapore involved in Project Wolbachia since early stages.\n",
    "\n",
    "Another area we select to download weather data is Yishun, the second area involved in Project Wolbachia since early stages."
   ]
  },
  {
   "cell_type": "markdown",
   "id": "6e90ecdb-582e-4ccd-bbdb-f73def63c493",
   "metadata": {},
   "source": [
    "##### Generate weather data for Changi (no 24)"
   ]
  },
  {
   "cell_type": "code",
   "execution_count": 5,
   "id": "e8885524-1735-4144-a256-2e13a4c59986",
   "metadata": {},
   "outputs": [
    {
     "data": {
      "text/html": [
       "<div>\n",
       "<style scoped>\n",
       "    .dataframe tbody tr th:only-of-type {\n",
       "        vertical-align: middle;\n",
       "    }\n",
       "\n",
       "    .dataframe tbody tr th {\n",
       "        vertical-align: top;\n",
       "    }\n",
       "\n",
       "    .dataframe thead th {\n",
       "        text-align: right;\n",
       "    }\n",
       "</style>\n",
       "<table border=\"1\" class=\"dataframe\">\n",
       "  <thead>\n",
       "    <tr style=\"text-align: right;\">\n",
       "      <th></th>\n",
       "      <th>station</th>\n",
       "      <th>year</th>\n",
       "      <th>month</th>\n",
       "      <th>day</th>\n",
       "      <th>daily rainfall total (mm)</th>\n",
       "      <th>highest 30 min rainfall (mm)</th>\n",
       "      <th>highest 60 min rainfall (mm)</th>\n",
       "      <th>highest 120 min rainfall (mm)</th>\n",
       "      <th>mean temperature (°c)</th>\n",
       "      <th>maximum temperature (°c)</th>\n",
       "      <th>minimum temperature (°c)</th>\n",
       "      <th>mean wind speed (km/h)</th>\n",
       "      <th>max wind speed (km/h)</th>\n",
       "    </tr>\n",
       "  </thead>\n",
       "  <tbody>\n",
       "    <tr>\n",
       "      <th>0</th>\n",
       "      <td>Changi</td>\n",
       "      <td>2012</td>\n",
       "      <td>1</td>\n",
       "      <td>1</td>\n",
       "      <td>0.6</td>\n",
       "      <td></td>\n",
       "      <td></td>\n",
       "      <td></td>\n",
       "      <td>27.2</td>\n",
       "      <td>31.4</td>\n",
       "      <td>25.2</td>\n",
       "      <td>8.4</td>\n",
       "      <td>28.4</td>\n",
       "    </tr>\n",
       "    <tr>\n",
       "      <th>1</th>\n",
       "      <td>Changi</td>\n",
       "      <td>2012</td>\n",
       "      <td>1</td>\n",
       "      <td>2</td>\n",
       "      <td>0.0</td>\n",
       "      <td></td>\n",
       "      <td></td>\n",
       "      <td></td>\n",
       "      <td>27.7</td>\n",
       "      <td>31.3</td>\n",
       "      <td>25.4</td>\n",
       "      <td>13.6</td>\n",
       "      <td>33.1</td>\n",
       "    </tr>\n",
       "    <tr>\n",
       "      <th>2</th>\n",
       "      <td>Changi</td>\n",
       "      <td>2012</td>\n",
       "      <td>1</td>\n",
       "      <td>3</td>\n",
       "      <td>0.0</td>\n",
       "      <td></td>\n",
       "      <td></td>\n",
       "      <td></td>\n",
       "      <td>27.6</td>\n",
       "      <td>30.9</td>\n",
       "      <td>25.7</td>\n",
       "      <td>15.4</td>\n",
       "      <td>34.6</td>\n",
       "    </tr>\n",
       "    <tr>\n",
       "      <th>3</th>\n",
       "      <td>Changi</td>\n",
       "      <td>2012</td>\n",
       "      <td>1</td>\n",
       "      <td>4</td>\n",
       "      <td>0.0</td>\n",
       "      <td></td>\n",
       "      <td></td>\n",
       "      <td></td>\n",
       "      <td>27.4</td>\n",
       "      <td>31.0</td>\n",
       "      <td>25.0</td>\n",
       "      <td>13.3</td>\n",
       "      <td>33.8</td>\n",
       "    </tr>\n",
       "    <tr>\n",
       "      <th>4</th>\n",
       "      <td>Changi</td>\n",
       "      <td>2012</td>\n",
       "      <td>1</td>\n",
       "      <td>5</td>\n",
       "      <td>0.0</td>\n",
       "      <td></td>\n",
       "      <td></td>\n",
       "      <td></td>\n",
       "      <td>27.0</td>\n",
       "      <td>30.7</td>\n",
       "      <td>24.5</td>\n",
       "      <td>12.2</td>\n",
       "      <td>33.8</td>\n",
       "    </tr>\n",
       "  </tbody>\n",
       "</table>\n",
       "</div>"
      ],
      "text/plain": [
       "  station  year  month  day  daily rainfall total (mm)  \\\n",
       "0  Changi  2012      1    1                        0.6   \n",
       "1  Changi  2012      1    2                        0.0   \n",
       "2  Changi  2012      1    3                        0.0   \n",
       "3  Changi  2012      1    4                        0.0   \n",
       "4  Changi  2012      1    5                        0.0   \n",
       "\n",
       "  highest 30 min rainfall (mm) highest 60 min rainfall (mm)  \\\n",
       "0                                                           \n",
       "1                                                           \n",
       "2                                                           \n",
       "3                                                           \n",
       "4                                                           \n",
       "\n",
       "  highest 120 min rainfall (mm)  mean temperature (°c)  \\\n",
       "0                                                27.2   \n",
       "1                                                27.7   \n",
       "2                                                27.6   \n",
       "3                                                27.4   \n",
       "4                                                27.0   \n",
       "\n",
       "   maximum temperature (°c)  minimum temperature (°c) mean wind speed (km/h)  \\\n",
       "0                      31.4                      25.2                    8.4   \n",
       "1                      31.3                      25.4                   13.6   \n",
       "2                      30.9                      25.7                   15.4   \n",
       "3                      31.0                      25.0                   13.3   \n",
       "4                      30.7                      24.5                   12.2   \n",
       "\n",
       "  max wind speed (km/h)  \n",
       "0                  28.4  \n",
       "1                  33.1  \n",
       "2                  34.6  \n",
       "3                  33.8  \n",
       "4                  33.8  "
      ]
     },
     "execution_count": 5,
     "metadata": {},
     "output_type": "execute_result"
    }
   ],
   "source": [
    "changi_df = weather_data(24)\n",
    "changi_df.head()"
   ]
  },
  {
   "cell_type": "code",
   "execution_count": 6,
   "id": "80468b35-f97b-4484-9a53-d4a24916b468",
   "metadata": {},
   "outputs": [],
   "source": [
    "import os # to work with files/directories\n",
    "if not os.path.exists('../data/weather.gov'): \n",
    "    os.makedirs('../data/weather.gov') \n",
    "\n",
    "# Save the DataFrame to a CSV file\n",
    "changi_df.to_csv('../data/weather.gov/changi_weather.csv', index=False)"
   ]
  },
  {
   "cell_type": "code",
   "execution_count": null,
   "id": "39187e58-85db-4c70-b6c3-4dfb5a0e3c4c",
   "metadata": {},
   "outputs": [],
   "source": []
  }
 ],
 "metadata": {
  "kernelspec": {
   "display_name": "Python 3 (ipykernel)",
   "language": "python",
   "name": "python3"
  },
  "language_info": {
   "codemirror_mode": {
    "name": "ipython",
    "version": 3
   },
   "file_extension": ".py",
   "mimetype": "text/x-python",
   "name": "python",
   "nbconvert_exporter": "python",
   "pygments_lexer": "ipython3",
   "version": "3.8.17"
  }
 },
 "nbformat": 4,
 "nbformat_minor": 5
}
