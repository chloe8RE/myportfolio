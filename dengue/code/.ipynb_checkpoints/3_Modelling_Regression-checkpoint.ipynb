{
 "cells": [
  {
   "cell_type": "markdown",
   "id": "40d4fcbe-bb78-4b9a-ad42-d954bada245b",
   "metadata": {},
   "source": [
    "# Project 4: Predict Dengue Cases"
   ]
  },
  {
   "cell_type": "markdown",
   "id": "33c9aab9-5e66-4cd3-b04d-b21a2203ed5c",
   "metadata": {},
   "source": [
    "**Notebook 3 - Contents:**<br>\n",
    "[2.1 Exploratory Data Analysis](#2.1-Exploratory-Data-Analysis)<br>\n",
    "[2.2 Problem Statement](#2.2-Problem-Statement)<br>\n",
    "[2.3 Data Collection](#2.3-Data-Collection)<br>\n",
    "[2.4 Data Inspection, Cleaning](#2.4-Data-Inspection,-Cleaning)<br>\n",
    "[2.5 Notebook Summary](#2.5-Notebook-Summary)\n",
    "\n",
    "<mark>**EDIT LATER ON**</mark>"
   ]
  },
  {
   "cell_type": "markdown",
   "id": "585cca88-4000-432c-a9d1-d2d3cac3c76b",
   "metadata": {},
   "source": [
    "**Imports**"
   ]
  },
  {
   "cell_type": "code",
   "execution_count": 1,
   "id": "cb57cd3c-5430-43d6-9980-e84c2fafa762",
   "metadata": {},
   "outputs": [],
   "source": [
    "import pandas as pd\n",
    "import numpy as np\n",
    "import seaborn as sns\n",
    "import matplotlib.pyplot as plt\n",
    "import pickle\n",
    "\n",
    "from sklearn.preprocessing import StandardScaler\n",
    "from sklearn.model_selection import train_test_split, GridSearchCV\n",
    "from sklearn.metrics import mean_absolute_percentage_error, mean_squared_error, mean_absolute_error\n",
    "from sklearn.ensemble import BaggingRegressor, RandomForestRegressor, AdaBoostRegressor\n",
    "from sklearn.tree import DecisionTreeRegressor\n",
    "from sklearn.pipeline import Pipeline\n",
    "from sklearn.svm import LinearSVR\n",
    "from sklearn.inspection import permutation_importance\n",
    "\n",
    "pd.set_option('display.float_format', lambda x: '%.8f' % x)"
   ]
  },
  {
   "cell_type": "code",
   "execution_count": 2,
   "id": "3170a182-061e-4ec3-bdcc-a67bf8633277",
   "metadata": {},
   "outputs": [],
   "source": [
    "import compiled_functions"
   ]
  },
  {
   "cell_type": "markdown",
   "id": "f919b004-b758-456e-b3ec-a3e181f65e6e",
   "metadata": {},
   "source": [
    "**Load pickled dataframes**"
   ]
  },
  {
   "cell_type": "code",
   "execution_count": 3,
   "id": "a6ab1b79-9394-4e9b-a505-7c4651a3a9e5",
   "metadata": {},
   "outputs": [],
   "source": [
    "#load pickled df\n",
    "dengue_wk = pickle.load(open('../pkls/dengue_wk.pkl', 'rb'))"
   ]
  },
  {
   "cell_type": "code",
   "execution_count": 4,
   "id": "b12f7241-001f-4458-9da6-9d004e479951",
   "metadata": {},
   "outputs": [
    {
     "name": "stdout",
     "output_type": "stream",
     "text": [
      "dengue_wk dataset shape:\n",
      "(574, 15)\n",
      "\n",
      "dengue_wk dataset head:\n"
     ]
    },
    {
     "data": {
      "text/html": [
       "<div>\n",
       "<style scoped>\n",
       "    .dataframe tbody tr th:only-of-type {\n",
       "        vertical-align: middle;\n",
       "    }\n",
       "\n",
       "    .dataframe tbody tr th {\n",
       "        vertical-align: top;\n",
       "    }\n",
       "\n",
       "    .dataframe thead th {\n",
       "        text-align: right;\n",
       "    }\n",
       "</style>\n",
       "<table border=\"1\" class=\"dataframe\">\n",
       "  <thead>\n",
       "    <tr style=\"text-align: right;\">\n",
       "      <th></th>\n",
       "      <th>df</th>\n",
       "      <th>dhf</th>\n",
       "      <th>dengue_cases</th>\n",
       "      <th>daily_rainf_total</th>\n",
       "      <th>highest_30min_rainf</th>\n",
       "      <th>highest_60min_rainf</th>\n",
       "      <th>highest_120min_rainf</th>\n",
       "      <th>mean_temp</th>\n",
       "      <th>max_temp</th>\n",
       "      <th>min_temp</th>\n",
       "      <th>mean_wind_speed</th>\n",
       "      <th>max_wind_speed</th>\n",
       "      <th>dengue_searches</th>\n",
       "      <th>dengue_fever_searches</th>\n",
       "      <th>dengue_symptoms_searches</th>\n",
       "    </tr>\n",
       "  </thead>\n",
       "  <tbody>\n",
       "    <tr>\n",
       "      <th>2012-01-01</th>\n",
       "      <td>74.00000000</td>\n",
       "      <td>0.00000000</td>\n",
       "      <td>74.00000000</td>\n",
       "      <td>0.60000000</td>\n",
       "      <td>0.60000000</td>\n",
       "      <td>0.60000000</td>\n",
       "      <td>0.60000000</td>\n",
       "      <td>27.20000000</td>\n",
       "      <td>31.40000000</td>\n",
       "      <td>25.20000000</td>\n",
       "      <td>8.40000000</td>\n",
       "      <td>28.40000000</td>\n",
       "      <td>7</td>\n",
       "      <td>5</td>\n",
       "      <td>2</td>\n",
       "    </tr>\n",
       "    <tr>\n",
       "      <th>2012-01-08</th>\n",
       "      <td>64.00000000</td>\n",
       "      <td>2.00000000</td>\n",
       "      <td>66.00000000</td>\n",
       "      <td>4.00000000</td>\n",
       "      <td>1.46829602</td>\n",
       "      <td>1.46829602</td>\n",
       "      <td>1.77658460</td>\n",
       "      <td>26.97142857</td>\n",
       "      <td>30.54285714</td>\n",
       "      <td>24.78571429</td>\n",
       "      <td>12.21428571</td>\n",
       "      <td>34.60000000</td>\n",
       "      <td>5</td>\n",
       "      <td>5</td>\n",
       "      <td>0</td>\n",
       "    </tr>\n",
       "    <tr>\n",
       "      <th>2012-01-15</th>\n",
       "      <td>60.00000000</td>\n",
       "      <td>1.00000000</td>\n",
       "      <td>61.00000000</td>\n",
       "      <td>3.68571429</td>\n",
       "      <td>0.80830817</td>\n",
       "      <td>1.15831354</td>\n",
       "      <td>1.75474560</td>\n",
       "      <td>26.22857143</td>\n",
       "      <td>29.50000000</td>\n",
       "      <td>23.82857143</td>\n",
       "      <td>7.81428571</td>\n",
       "      <td>34.21428571</td>\n",
       "      <td>8</td>\n",
       "      <td>4</td>\n",
       "      <td>2</td>\n",
       "    </tr>\n",
       "    <tr>\n",
       "      <th>2012-01-22</th>\n",
       "      <td>50.00000000</td>\n",
       "      <td>2.00000000</td>\n",
       "      <td>52.00000000</td>\n",
       "      <td>4.00000000</td>\n",
       "      <td>2.70147089</td>\n",
       "      <td>3.20659998</td>\n",
       "      <td>3.22517445</td>\n",
       "      <td>26.91428571</td>\n",
       "      <td>31.30000000</td>\n",
       "      <td>24.47142857</td>\n",
       "      <td>7.35714286</td>\n",
       "      <td>28.04285714</td>\n",
       "      <td>6</td>\n",
       "      <td>7</td>\n",
       "      <td>3</td>\n",
       "    </tr>\n",
       "    <tr>\n",
       "      <th>2012-01-29</th>\n",
       "      <td>84.00000000</td>\n",
       "      <td>1.00000000</td>\n",
       "      <td>85.00000000</td>\n",
       "      <td>1.22857143</td>\n",
       "      <td>0.87199679</td>\n",
       "      <td>0.91666498</td>\n",
       "      <td>0.96251217</td>\n",
       "      <td>26.60000000</td>\n",
       "      <td>30.60000000</td>\n",
       "      <td>24.40000000</td>\n",
       "      <td>8.58571429</td>\n",
       "      <td>30.85714286</td>\n",
       "      <td>6</td>\n",
       "      <td>3</td>\n",
       "      <td>0</td>\n",
       "    </tr>\n",
       "  </tbody>\n",
       "</table>\n",
       "</div>"
      ],
      "text/plain": [
       "                    df        dhf  dengue_cases  daily_rainf_total  \\\n",
       "2012-01-01 74.00000000 0.00000000   74.00000000         0.60000000   \n",
       "2012-01-08 64.00000000 2.00000000   66.00000000         4.00000000   \n",
       "2012-01-15 60.00000000 1.00000000   61.00000000         3.68571429   \n",
       "2012-01-22 50.00000000 2.00000000   52.00000000         4.00000000   \n",
       "2012-01-29 84.00000000 1.00000000   85.00000000         1.22857143   \n",
       "\n",
       "            highest_30min_rainf  highest_60min_rainf  highest_120min_rainf  \\\n",
       "2012-01-01           0.60000000           0.60000000            0.60000000   \n",
       "2012-01-08           1.46829602           1.46829602            1.77658460   \n",
       "2012-01-15           0.80830817           1.15831354            1.75474560   \n",
       "2012-01-22           2.70147089           3.20659998            3.22517445   \n",
       "2012-01-29           0.87199679           0.91666498            0.96251217   \n",
       "\n",
       "             mean_temp    max_temp    min_temp  mean_wind_speed  \\\n",
       "2012-01-01 27.20000000 31.40000000 25.20000000       8.40000000   \n",
       "2012-01-08 26.97142857 30.54285714 24.78571429      12.21428571   \n",
       "2012-01-15 26.22857143 29.50000000 23.82857143       7.81428571   \n",
       "2012-01-22 26.91428571 31.30000000 24.47142857       7.35714286   \n",
       "2012-01-29 26.60000000 30.60000000 24.40000000       8.58571429   \n",
       "\n",
       "            max_wind_speed  dengue_searches  dengue_fever_searches  \\\n",
       "2012-01-01     28.40000000                7                      5   \n",
       "2012-01-08     34.60000000                5                      5   \n",
       "2012-01-15     34.21428571                8                      4   \n",
       "2012-01-22     28.04285714                6                      7   \n",
       "2012-01-29     30.85714286                6                      3   \n",
       "\n",
       "            dengue_symptoms_searches  \n",
       "2012-01-01                         2  \n",
       "2012-01-08                         0  \n",
       "2012-01-15                         2  \n",
       "2012-01-22                         3  \n",
       "2012-01-29                         0  "
      ]
     },
     "execution_count": 4,
     "metadata": {},
     "output_type": "execute_result"
    }
   ],
   "source": [
    "compiled_functions.shape_head(dengue_wk, \"dengue_wk\")"
   ]
  },
  {
   "cell_type": "code",
   "execution_count": 5,
   "id": "693aae3e-374c-497f-8eff-cbe01903382e",
   "metadata": {},
   "outputs": [
    {
     "data": {
      "text/html": [
       "<div>\n",
       "<style scoped>\n",
       "    .dataframe tbody tr th:only-of-type {\n",
       "        vertical-align: middle;\n",
       "    }\n",
       "\n",
       "    .dataframe tbody tr th {\n",
       "        vertical-align: top;\n",
       "    }\n",
       "\n",
       "    .dataframe thead th {\n",
       "        text-align: right;\n",
       "    }\n",
       "</style>\n",
       "<table border=\"1\" class=\"dataframe\">\n",
       "  <thead>\n",
       "    <tr style=\"text-align: right;\">\n",
       "      <th></th>\n",
       "      <th>df</th>\n",
       "      <th>dhf</th>\n",
       "      <th>dengue_cases</th>\n",
       "      <th>daily_rainf_total</th>\n",
       "      <th>highest_30min_rainf</th>\n",
       "      <th>highest_60min_rainf</th>\n",
       "      <th>highest_120min_rainf</th>\n",
       "      <th>mean_temp</th>\n",
       "      <th>max_temp</th>\n",
       "      <th>min_temp</th>\n",
       "      <th>mean_wind_speed</th>\n",
       "      <th>max_wind_speed</th>\n",
       "      <th>dengue_searches</th>\n",
       "      <th>dengue_fever_searches</th>\n",
       "      <th>dengue_symptoms_searches</th>\n",
       "    </tr>\n",
       "  </thead>\n",
       "  <tbody>\n",
       "    <tr>\n",
       "      <th>count</th>\n",
       "      <td>574.00000000</td>\n",
       "      <td>574.00000000</td>\n",
       "      <td>574.00000000</td>\n",
       "      <td>574.00000000</td>\n",
       "      <td>574.00000000</td>\n",
       "      <td>574.00000000</td>\n",
       "      <td>574.00000000</td>\n",
       "      <td>574.00000000</td>\n",
       "      <td>574.00000000</td>\n",
       "      <td>574.00000000</td>\n",
       "      <td>574.00000000</td>\n",
       "      <td>574.00000000</td>\n",
       "      <td>574.00000000</td>\n",
       "      <td>574.00000000</td>\n",
       "      <td>574.00000000</td>\n",
       "    </tr>\n",
       "    <tr>\n",
       "      <th>mean</th>\n",
       "      <td>285.39808362</td>\n",
       "      <td>0.74041812</td>\n",
       "      <td>286.13850174</td>\n",
       "      <td>5.39868094</td>\n",
       "      <td>2.80428299</td>\n",
       "      <td>3.50545199</td>\n",
       "      <td>4.05500261</td>\n",
       "      <td>27.96717272</td>\n",
       "      <td>31.62814833</td>\n",
       "      <td>25.38297661</td>\n",
       "      <td>8.67796256</td>\n",
       "      <td>32.55364377</td>\n",
       "      <td>19.58885017</td>\n",
       "      <td>5.10104530</td>\n",
       "      <td>4.30662021</td>\n",
       "    </tr>\n",
       "    <tr>\n",
       "      <th>std</th>\n",
       "      <td>295.70590930</td>\n",
       "      <td>1.07957582</td>\n",
       "      <td>296.09430611</td>\n",
       "      <td>5.86040062</td>\n",
       "      <td>2.68829611</td>\n",
       "      <td>3.42306309</td>\n",
       "      <td>4.00308276</td>\n",
       "      <td>0.86949917</td>\n",
       "      <td>1.00140239</td>\n",
       "      <td>0.87654857</td>\n",
       "      <td>2.36019296</td>\n",
       "      <td>3.29042187</td>\n",
       "      <td>16.62579466</td>\n",
       "      <td>3.67628582</td>\n",
       "      <td>4.00262454</td>\n",
       "    </tr>\n",
       "    <tr>\n",
       "      <th>min</th>\n",
       "      <td>24.00000000</td>\n",
       "      <td>0.00000000</td>\n",
       "      <td>24.00000000</td>\n",
       "      <td>0.00000000</td>\n",
       "      <td>0.00000000</td>\n",
       "      <td>0.00000000</td>\n",
       "      <td>0.00000000</td>\n",
       "      <td>24.50000000</td>\n",
       "      <td>26.70000000</td>\n",
       "      <td>22.78571429</td>\n",
       "      <td>5.11428571</td>\n",
       "      <td>22.75714286</td>\n",
       "      <td>3.00000000</td>\n",
       "      <td>0.00000000</td>\n",
       "      <td>0.00000000</td>\n",
       "    </tr>\n",
       "    <tr>\n",
       "      <th>25%</th>\n",
       "      <td>81.00000000</td>\n",
       "      <td>0.00000000</td>\n",
       "      <td>81.00000000</td>\n",
       "      <td>1.17857143</td>\n",
       "      <td>0.72024033</td>\n",
       "      <td>0.88571429</td>\n",
       "      <td>1.00426721</td>\n",
       "      <td>27.40357143</td>\n",
       "      <td>31.05714286</td>\n",
       "      <td>24.74642857</td>\n",
       "      <td>6.84285714</td>\n",
       "      <td>30.15714286</td>\n",
       "      <td>10.00000000</td>\n",
       "      <td>3.00000000</td>\n",
       "      <td>2.00000000</td>\n",
       "    </tr>\n",
       "    <tr>\n",
       "      <th>50%</th>\n",
       "      <td>207.00000000</td>\n",
       "      <td>0.00000000</td>\n",
       "      <td>208.75000000</td>\n",
       "      <td>4.04285714</td>\n",
       "      <td>2.17071341</td>\n",
       "      <td>2.74285714</td>\n",
       "      <td>3.08534447</td>\n",
       "      <td>27.97142857</td>\n",
       "      <td>31.65714286</td>\n",
       "      <td>25.32857143</td>\n",
       "      <td>8.07857143</td>\n",
       "      <td>32.28571429</td>\n",
       "      <td>13.00000000</td>\n",
       "      <td>4.00000000</td>\n",
       "      <td>3.00000000</td>\n",
       "    </tr>\n",
       "    <tr>\n",
       "      <th>75%</th>\n",
       "      <td>372.00000000</td>\n",
       "      <td>1.00000000</td>\n",
       "      <td>373.75000000</td>\n",
       "      <td>7.25000000</td>\n",
       "      <td>3.99355731</td>\n",
       "      <td>4.87595539</td>\n",
       "      <td>5.47857143</td>\n",
       "      <td>28.52857143</td>\n",
       "      <td>32.28214286</td>\n",
       "      <td>25.92500000</td>\n",
       "      <td>10.22500000</td>\n",
       "      <td>34.73571429</td>\n",
       "      <td>22.75000000</td>\n",
       "      <td>6.00000000</td>\n",
       "      <td>5.00000000</td>\n",
       "    </tr>\n",
       "    <tr>\n",
       "      <th>max</th>\n",
       "      <td>1791.00000000</td>\n",
       "      <td>8.00000000</td>\n",
       "      <td>1792.00000000</td>\n",
       "      <td>50.54285714</td>\n",
       "      <td>15.85714286</td>\n",
       "      <td>18.68571429</td>\n",
       "      <td>22.51428571</td>\n",
       "      <td>30.02857143</td>\n",
       "      <td>33.94285714</td>\n",
       "      <td>27.81428571</td>\n",
       "      <td>16.25714286</td>\n",
       "      <td>42.48571429</td>\n",
       "      <td>100.00000000</td>\n",
       "      <td>41.00000000</td>\n",
       "      <td>28.00000000</td>\n",
       "    </tr>\n",
       "  </tbody>\n",
       "</table>\n",
       "</div>"
      ],
      "text/plain": [
       "                 df          dhf  dengue_cases  daily_rainf_total  \\\n",
       "count  574.00000000 574.00000000  574.00000000       574.00000000   \n",
       "mean   285.39808362   0.74041812  286.13850174         5.39868094   \n",
       "std    295.70590930   1.07957582  296.09430611         5.86040062   \n",
       "min     24.00000000   0.00000000   24.00000000         0.00000000   \n",
       "25%     81.00000000   0.00000000   81.00000000         1.17857143   \n",
       "50%    207.00000000   0.00000000  208.75000000         4.04285714   \n",
       "75%    372.00000000   1.00000000  373.75000000         7.25000000   \n",
       "max   1791.00000000   8.00000000 1792.00000000        50.54285714   \n",
       "\n",
       "       highest_30min_rainf  highest_60min_rainf  highest_120min_rainf  \\\n",
       "count         574.00000000         574.00000000          574.00000000   \n",
       "mean            2.80428299           3.50545199            4.05500261   \n",
       "std             2.68829611           3.42306309            4.00308276   \n",
       "min             0.00000000           0.00000000            0.00000000   \n",
       "25%             0.72024033           0.88571429            1.00426721   \n",
       "50%             2.17071341           2.74285714            3.08534447   \n",
       "75%             3.99355731           4.87595539            5.47857143   \n",
       "max            15.85714286          18.68571429           22.51428571   \n",
       "\n",
       "         mean_temp     max_temp     min_temp  mean_wind_speed  max_wind_speed  \\\n",
       "count 574.00000000 574.00000000 574.00000000     574.00000000    574.00000000   \n",
       "mean   27.96717272  31.62814833  25.38297661       8.67796256     32.55364377   \n",
       "std     0.86949917   1.00140239   0.87654857       2.36019296      3.29042187   \n",
       "min    24.50000000  26.70000000  22.78571429       5.11428571     22.75714286   \n",
       "25%    27.40357143  31.05714286  24.74642857       6.84285714     30.15714286   \n",
       "50%    27.97142857  31.65714286  25.32857143       8.07857143     32.28571429   \n",
       "75%    28.52857143  32.28214286  25.92500000      10.22500000     34.73571429   \n",
       "max    30.02857143  33.94285714  27.81428571      16.25714286     42.48571429   \n",
       "\n",
       "       dengue_searches  dengue_fever_searches  dengue_symptoms_searches  \n",
       "count     574.00000000           574.00000000              574.00000000  \n",
       "mean       19.58885017             5.10104530                4.30662021  \n",
       "std        16.62579466             3.67628582                4.00262454  \n",
       "min         3.00000000             0.00000000                0.00000000  \n",
       "25%        10.00000000             3.00000000                2.00000000  \n",
       "50%        13.00000000             4.00000000                3.00000000  \n",
       "75%        22.75000000             6.00000000                5.00000000  \n",
       "max       100.00000000            41.00000000               28.00000000  "
      ]
     },
     "execution_count": 5,
     "metadata": {},
     "output_type": "execute_result"
    }
   ],
   "source": [
    "dengue_wk.describe()"
   ]
  },
  {
   "cell_type": "markdown",
   "id": "d6d3dc87-538c-48c5-91b0-4b2e90999d24",
   "metadata": {},
   "source": [
    "## 1. Function to calculate model's scores"
   ]
  },
  {
   "cell_type": "code",
   "execution_count": 6,
   "id": "3e0021c4-c27f-4757-9668-98c050cf87c5",
   "metadata": {},
   "outputs": [],
   "source": [
    "def model_score(model, X_train, X_test, y_train, y_test):\n",
    "    mse_train = mean_squared_error(y_true = y_train, y_pred = model.predict(X_train))\n",
    "    mse_test = mean_squared_error(y_true = y_test, y_pred = model.predict(X_test))\n",
    "    rmse_train = round(mse_train ** 0.5)\n",
    "    rmse_test = round(mse_test ** 0.5)\n",
    "    print('The training RMSE is: ' + str(rmse_train))\n",
    "    print('The testing RMSE is: ' + str(rmse_test))\n",
    "    coef_train = round(model.score(X_train, y_train),4)\n",
    "    coef_test = round(model.score(X_test, y_test),4)\n",
    "    print('The training R2 is: ' + str(coef_train))\n",
    "    print('The testing R2 is: ' + str(coef_test))"
   ]
  },
  {
   "cell_type": "markdown",
   "id": "65d435d7-15bb-43fd-bc29-561d4b77cb7e",
   "metadata": {},
   "source": [
    "## 2. Train Test Split"
   ]
  },
  {
   "cell_type": "markdown",
   "id": "5b171800-2fd2-42b0-acf2-33a8c6a1b06a",
   "metadata": {},
   "source": [
    "We split the dengue datasets into 90% of time series in year 2012-2021 as training data, and remaining 10% (52 weeks in year 2022) as testing data.  Then we will use trained model to predict 2022 dengue cases and compare against our testing data. "
   ]
  },
  {
   "cell_type": "code",
   "execution_count": 7,
   "id": "d3aa35bc-da80-4e98-a561-c88dd20898ac",
   "metadata": {},
   "outputs": [],
   "source": [
    "X = dengue_wk.drop('dengue_cases',axis=1)\n",
    "y = dengue_wk['dengue_cases']"
   ]
  },
  {
   "cell_type": "code",
   "execution_count": 8,
   "id": "0fc6f7bd-d6eb-4c19-96ee-ebdb401fab47",
   "metadata": {},
   "outputs": [],
   "source": [
    "X_train, X_test, y_train, y_test = X[:-52], X[-52:], y[:-52], y[-52:]"
   ]
  },
  {
   "cell_type": "code",
   "execution_count": 9,
   "id": "bd7fa9e1-2e1f-4e85-a45c-b79ddee6bc1d",
   "metadata": {},
   "outputs": [
    {
     "name": "stdout",
     "output_type": "stream",
     "text": [
      "X_train dataframe rows, columns:  (522, 14)\n",
      "y_train rows:  (522,)\n",
      "X_test dataframe rows, columns:  (52, 14)\n",
      "y_test rows:  (52,)\n"
     ]
    }
   ],
   "source": [
    "print('X_train dataframe rows, columns: ', X_train.shape)\n",
    "print('y_train rows: ', y_train.shape)\n",
    "print('X_test dataframe rows, columns: ', X_test.shape)\n",
    "print('y_test rows: ', y_test.shape)"
   ]
  },
  {
   "cell_type": "markdown",
   "id": "9c17e34c-132b-4f61-a0e9-6bdd81a09b9d",
   "metadata": {},
   "source": [
    "## 3.1 Random Forest"
   ]
  },
  {
   "cell_type": "markdown",
   "id": "a20f756d-ddf5-4356-a4c7-ef2f7348be33",
   "metadata": {},
   "source": [
    "Random forest (RF) is ensemble of tree-based algorithms commonly used for time series forecasting.  We use RF to train individual tree to give prediction and take the average as our model's prediction. The randomness makes each prediction different hence more robust and less prone to overfitting that the Decision Tree suffers from. \n",
    "\n",
    "Hyperparameters tuning: random_state is set to controls the randomness of the bootstrapping of the samples used when building trees and the sampling of the features to consider when looking for the best split at each node, as we want consistence in the result of the dataset every time"
   ]
  },
  {
   "cell_type": "markdown",
   "id": "98c71214-802b-4523-be1e-45d77eb3ecf7",
   "metadata": {},
   "source": [
    "### 3.1.1 Modelling"
   ]
  },
  {
   "cell_type": "code",
   "execution_count": 10,
   "id": "4952ec8e-4cfe-4e87-8877-76328e649e31",
   "metadata": {},
   "outputs": [],
   "source": [
    "pipe_rf = Pipeline([('ss', StandardScaler()),\n",
    "                    ('rf', RandomForestRegressor())])"
   ]
  },
  {
   "cell_type": "code",
   "execution_count": 11,
   "id": "9c988611-ae02-4e97-8268-eaee9b6ad534",
   "metadata": {},
   "outputs": [],
   "source": [
    "pipe_rf_params = {'rf__criterion': ['squared_error'],    # training using “squared_error” is significantly faster than when using “absolute_error”.\n",
    "                  'rf__n_estimators':[30],    # number of trees\n",
    "                  'rf__max_depth': [15],\n",
    "                  'rf__min_samples_split': [2],\n",
    "                  'rf__min_samples_leaf': [5],\n",
    "                  'rf__random_state': [111]}"
   ]
  },
  {
   "cell_type": "code",
   "execution_count": 12,
   "id": "2c9f71b9-60c1-4008-910b-ec6e17b2b618",
   "metadata": {},
   "outputs": [],
   "source": [
    "gs_rf = GridSearchCV(pipe_rf, \n",
    "                     param_grid=pipe_rf_params, \n",
    "                     cv=3)"
   ]
  },
  {
   "cell_type": "code",
   "execution_count": 13,
   "id": "4c16f99d-a17c-458e-908e-c9ab7673f32b",
   "metadata": {},
   "outputs": [
    {
     "data": {
      "text/html": [
       "<style>#sk-container-id-1 {color: black;background-color: white;}#sk-container-id-1 pre{padding: 0;}#sk-container-id-1 div.sk-toggleable {background-color: white;}#sk-container-id-1 label.sk-toggleable__label {cursor: pointer;display: block;width: 100%;margin-bottom: 0;padding: 0.3em;box-sizing: border-box;text-align: center;}#sk-container-id-1 label.sk-toggleable__label-arrow:before {content: \"▸\";float: left;margin-right: 0.25em;color: #696969;}#sk-container-id-1 label.sk-toggleable__label-arrow:hover:before {color: black;}#sk-container-id-1 div.sk-estimator:hover label.sk-toggleable__label-arrow:before {color: black;}#sk-container-id-1 div.sk-toggleable__content {max-height: 0;max-width: 0;overflow: hidden;text-align: left;background-color: #f0f8ff;}#sk-container-id-1 div.sk-toggleable__content pre {margin: 0.2em;color: black;border-radius: 0.25em;background-color: #f0f8ff;}#sk-container-id-1 input.sk-toggleable__control:checked~div.sk-toggleable__content {max-height: 200px;max-width: 100%;overflow: auto;}#sk-container-id-1 input.sk-toggleable__control:checked~label.sk-toggleable__label-arrow:before {content: \"▾\";}#sk-container-id-1 div.sk-estimator input.sk-toggleable__control:checked~label.sk-toggleable__label {background-color: #d4ebff;}#sk-container-id-1 div.sk-label input.sk-toggleable__control:checked~label.sk-toggleable__label {background-color: #d4ebff;}#sk-container-id-1 input.sk-hidden--visually {border: 0;clip: rect(1px 1px 1px 1px);clip: rect(1px, 1px, 1px, 1px);height: 1px;margin: -1px;overflow: hidden;padding: 0;position: absolute;width: 1px;}#sk-container-id-1 div.sk-estimator {font-family: monospace;background-color: #f0f8ff;border: 1px dotted black;border-radius: 0.25em;box-sizing: border-box;margin-bottom: 0.5em;}#sk-container-id-1 div.sk-estimator:hover {background-color: #d4ebff;}#sk-container-id-1 div.sk-parallel-item::after {content: \"\";width: 100%;border-bottom: 1px solid gray;flex-grow: 1;}#sk-container-id-1 div.sk-label:hover label.sk-toggleable__label {background-color: #d4ebff;}#sk-container-id-1 div.sk-serial::before {content: \"\";position: absolute;border-left: 1px solid gray;box-sizing: border-box;top: 0;bottom: 0;left: 50%;z-index: 0;}#sk-container-id-1 div.sk-serial {display: flex;flex-direction: column;align-items: center;background-color: white;padding-right: 0.2em;padding-left: 0.2em;position: relative;}#sk-container-id-1 div.sk-item {position: relative;z-index: 1;}#sk-container-id-1 div.sk-parallel {display: flex;align-items: stretch;justify-content: center;background-color: white;position: relative;}#sk-container-id-1 div.sk-item::before, #sk-container-id-1 div.sk-parallel-item::before {content: \"\";position: absolute;border-left: 1px solid gray;box-sizing: border-box;top: 0;bottom: 0;left: 50%;z-index: -1;}#sk-container-id-1 div.sk-parallel-item {display: flex;flex-direction: column;z-index: 1;position: relative;background-color: white;}#sk-container-id-1 div.sk-parallel-item:first-child::after {align-self: flex-end;width: 50%;}#sk-container-id-1 div.sk-parallel-item:last-child::after {align-self: flex-start;width: 50%;}#sk-container-id-1 div.sk-parallel-item:only-child::after {width: 0;}#sk-container-id-1 div.sk-dashed-wrapped {border: 1px dashed gray;margin: 0 0.4em 0.5em 0.4em;box-sizing: border-box;padding-bottom: 0.4em;background-color: white;}#sk-container-id-1 div.sk-label label {font-family: monospace;font-weight: bold;display: inline-block;line-height: 1.2em;}#sk-container-id-1 div.sk-label-container {text-align: center;}#sk-container-id-1 div.sk-container {/* jupyter's `normalize.less` sets `[hidden] { display: none; }` but bootstrap.min.css set `[hidden] { display: none !important; }` so we also need the `!important` here to be able to override the default hidden behavior on the sphinx rendered scikit-learn.org. See: https://github.com/scikit-learn/scikit-learn/issues/21755 */display: inline-block !important;position: relative;}#sk-container-id-1 div.sk-text-repr-fallback {display: none;}</style><div id=\"sk-container-id-1\" class=\"sk-top-container\"><div class=\"sk-text-repr-fallback\"><pre>GridSearchCV(cv=3,\n",
       "             estimator=Pipeline(steps=[(&#x27;ss&#x27;, StandardScaler()),\n",
       "                                       (&#x27;rf&#x27;, RandomForestRegressor())]),\n",
       "             param_grid={&#x27;rf__criterion&#x27;: [&#x27;squared_error&#x27;],\n",
       "                         &#x27;rf__max_depth&#x27;: [15], &#x27;rf__min_samples_leaf&#x27;: [5],\n",
       "                         &#x27;rf__min_samples_split&#x27;: [2], &#x27;rf__n_estimators&#x27;: [30],\n",
       "                         &#x27;rf__random_state&#x27;: [111]})</pre><b>In a Jupyter environment, please rerun this cell to show the HTML representation or trust the notebook. <br />On GitHub, the HTML representation is unable to render, please try loading this page with nbviewer.org.</b></div><div class=\"sk-container\" hidden><div class=\"sk-item sk-dashed-wrapped\"><div class=\"sk-label-container\"><div class=\"sk-label sk-toggleable\"><input class=\"sk-toggleable__control sk-hidden--visually\" id=\"sk-estimator-id-1\" type=\"checkbox\" ><label for=\"sk-estimator-id-1\" class=\"sk-toggleable__label sk-toggleable__label-arrow\">GridSearchCV</label><div class=\"sk-toggleable__content\"><pre>GridSearchCV(cv=3,\n",
       "             estimator=Pipeline(steps=[(&#x27;ss&#x27;, StandardScaler()),\n",
       "                                       (&#x27;rf&#x27;, RandomForestRegressor())]),\n",
       "             param_grid={&#x27;rf__criterion&#x27;: [&#x27;squared_error&#x27;],\n",
       "                         &#x27;rf__max_depth&#x27;: [15], &#x27;rf__min_samples_leaf&#x27;: [5],\n",
       "                         &#x27;rf__min_samples_split&#x27;: [2], &#x27;rf__n_estimators&#x27;: [30],\n",
       "                         &#x27;rf__random_state&#x27;: [111]})</pre></div></div></div><div class=\"sk-parallel\"><div class=\"sk-parallel-item\"><div class=\"sk-item\"><div class=\"sk-label-container\"><div class=\"sk-label sk-toggleable\"><input class=\"sk-toggleable__control sk-hidden--visually\" id=\"sk-estimator-id-2\" type=\"checkbox\" ><label for=\"sk-estimator-id-2\" class=\"sk-toggleable__label sk-toggleable__label-arrow\">estimator: Pipeline</label><div class=\"sk-toggleable__content\"><pre>Pipeline(steps=[(&#x27;ss&#x27;, StandardScaler()), (&#x27;rf&#x27;, RandomForestRegressor())])</pre></div></div></div><div class=\"sk-serial\"><div class=\"sk-item\"><div class=\"sk-serial\"><div class=\"sk-item\"><div class=\"sk-estimator sk-toggleable\"><input class=\"sk-toggleable__control sk-hidden--visually\" id=\"sk-estimator-id-3\" type=\"checkbox\" ><label for=\"sk-estimator-id-3\" class=\"sk-toggleable__label sk-toggleable__label-arrow\">StandardScaler</label><div class=\"sk-toggleable__content\"><pre>StandardScaler()</pre></div></div></div><div class=\"sk-item\"><div class=\"sk-estimator sk-toggleable\"><input class=\"sk-toggleable__control sk-hidden--visually\" id=\"sk-estimator-id-4\" type=\"checkbox\" ><label for=\"sk-estimator-id-4\" class=\"sk-toggleable__label sk-toggleable__label-arrow\">RandomForestRegressor</label><div class=\"sk-toggleable__content\"><pre>RandomForestRegressor()</pre></div></div></div></div></div></div></div></div></div></div></div></div>"
      ],
      "text/plain": [
       "GridSearchCV(cv=3,\n",
       "             estimator=Pipeline(steps=[('ss', StandardScaler()),\n",
       "                                       ('rf', RandomForestRegressor())]),\n",
       "             param_grid={'rf__criterion': ['squared_error'],\n",
       "                         'rf__max_depth': [15], 'rf__min_samples_leaf': [5],\n",
       "                         'rf__min_samples_split': [2], 'rf__n_estimators': [30],\n",
       "                         'rf__random_state': [111]})"
      ]
     },
     "execution_count": 13,
     "metadata": {},
     "output_type": "execute_result"
    }
   ],
   "source": [
    "gs_rf.fit(X_train, y_train)"
   ]
  },
  {
   "cell_type": "code",
   "execution_count": 14,
   "id": "b183b94a-3751-43d2-a764-4157efa1a5ee",
   "metadata": {},
   "outputs": [
    {
     "data": {
      "text/html": [
       "<div>\n",
       "<style scoped>\n",
       "    .dataframe tbody tr th:only-of-type {\n",
       "        vertical-align: middle;\n",
       "    }\n",
       "\n",
       "    .dataframe tbody tr th {\n",
       "        vertical-align: top;\n",
       "    }\n",
       "\n",
       "    .dataframe thead th {\n",
       "        text-align: right;\n",
       "    }\n",
       "</style>\n",
       "<table border=\"1\" class=\"dataframe\">\n",
       "  <thead>\n",
       "    <tr style=\"text-align: right;\">\n",
       "      <th></th>\n",
       "      <th>mean_fit_time</th>\n",
       "      <th>std_fit_time</th>\n",
       "      <th>mean_score_time</th>\n",
       "      <th>std_score_time</th>\n",
       "      <th>param_rf__criterion</th>\n",
       "      <th>param_rf__max_depth</th>\n",
       "      <th>param_rf__min_samples_leaf</th>\n",
       "      <th>param_rf__min_samples_split</th>\n",
       "      <th>param_rf__n_estimators</th>\n",
       "      <th>param_rf__random_state</th>\n",
       "      <th>params</th>\n",
       "      <th>split0_test_score</th>\n",
       "      <th>split1_test_score</th>\n",
       "      <th>split2_test_score</th>\n",
       "      <th>mean_test_score</th>\n",
       "      <th>std_test_score</th>\n",
       "      <th>rank_test_score</th>\n",
       "    </tr>\n",
       "  </thead>\n",
       "  <tbody>\n",
       "    <tr>\n",
       "      <th>0</th>\n",
       "      <td>0.12565255</td>\n",
       "      <td>0.00637158</td>\n",
       "      <td>0.00781496</td>\n",
       "      <td>0.00579215</td>\n",
       "      <td>squared_error</td>\n",
       "      <td>15</td>\n",
       "      <td>5</td>\n",
       "      <td>2</td>\n",
       "      <td>30</td>\n",
       "      <td>111</td>\n",
       "      <td>{'rf__criterion': 'squared_error', 'rf__max_de...</td>\n",
       "      <td>0.95075173</td>\n",
       "      <td>0.99843798</td>\n",
       "      <td>0.72745204</td>\n",
       "      <td>0.89221392</td>\n",
       "      <td>0.11811958</td>\n",
       "      <td>1</td>\n",
       "    </tr>\n",
       "  </tbody>\n",
       "</table>\n",
       "</div>"
      ],
      "text/plain": [
       "   mean_fit_time  std_fit_time  mean_score_time  std_score_time  \\\n",
       "0     0.12565255    0.00637158       0.00781496      0.00579215   \n",
       "\n",
       "  param_rf__criterion param_rf__max_depth param_rf__min_samples_leaf  \\\n",
       "0       squared_error                  15                          5   \n",
       "\n",
       "  param_rf__min_samples_split param_rf__n_estimators param_rf__random_state  \\\n",
       "0                           2                     30                    111   \n",
       "\n",
       "                                              params  split0_test_score  \\\n",
       "0  {'rf__criterion': 'squared_error', 'rf__max_de...         0.95075173   \n",
       "\n",
       "   split1_test_score  split2_test_score  mean_test_score  std_test_score  \\\n",
       "0         0.99843798         0.72745204       0.89221392      0.11811958   \n",
       "\n",
       "   rank_test_score  \n",
       "0                1  "
      ]
     },
     "execution_count": 14,
     "metadata": {},
     "output_type": "execute_result"
    }
   ],
   "source": [
    "rf_result = pd.DataFrame(gs_rf.cv_results_).sort_values('rank_test_score',ascending=False)\n",
    "rf_result"
   ]
  },
  {
   "cell_type": "markdown",
   "id": "1d6d156c-fd48-41f5-9448-5a69186c5b6d",
   "metadata": {},
   "source": [
    "### 3.1.2 Model Evaluation"
   ]
  },
  {
   "cell_type": "code",
   "execution_count": 15,
   "id": "b87764ac-1edb-44f9-8003-39b766a67ede",
   "metadata": {},
   "outputs": [
    {
     "name": "stdout",
     "output_type": "stream",
     "text": [
      "The training RMSE is: 28\n",
      "The testing RMSE is: 74\n",
      "The training R2 is: 0.988\n",
      "The testing R2 is: 0.9675\n"
     ]
    }
   ],
   "source": [
    "model_score(gs_rf, X_train, X_test, y_train, y_test)"
   ]
  },
  {
   "cell_type": "markdown",
   "id": "1d0c9207-aed5-47c0-a1cd-103641398755",
   "metadata": {},
   "source": [
    "<mark>Evaluate model performance - interpretation</mark>"
   ]
  },
  {
   "cell_type": "markdown",
   "id": "0fc248f3-de3e-4fda-acdc-4313f3e45e48",
   "metadata": {},
   "source": [
    "### 3.1.3 Plotting"
   ]
  },
  {
   "cell_type": "code",
   "execution_count": 16,
   "id": "ca16581b-fe0b-48ff-ac1c-db9dd6fcdedc",
   "metadata": {},
   "outputs": [],
   "source": [
    "def plot_forecast(model):\n",
    "    y_pred_train = gs_rf.predict(X_train)\n",
    "    y_pred_test = gs_rf.predict(X_test)\n",
    "    plt.figure(figsize=(20,8))\n",
    "    plt.plot(y_train, color='cornflowerblue', label='y_train')\n",
    "    plt.plot(y_test, color='orange', label='y_test', alpha = 0.7)\n",
    "    plt.plot(X_train.index, y_pred_train, color='green', label='y_train_pred', alpha = 0.9, ls = '--')\n",
    "    plt.plot(X_test.index, y_pred_test, color='green', label='y_test_pred', alpha = 0.9, ls = '--')\n",
    "    plt.ylabel('No. of Dengue Cases')\n",
    "    mape =  mean_absolute_percentage_error(y_test,y_pred_test)\n",
    "    plt.title(label = f'Dengue Cases Prediction - Random Forest\\n MAPE: {mape:.4f}', fontsize=16)\n",
    "    plt.legend(fontsize = 14, loc = 'upper left'); "
   ]
  },
  {
   "cell_type": "code",
   "execution_count": 17,
   "id": "0ee754a3-38a3-47c5-8caf-226893fb63be",
   "metadata": {},
   "outputs": [
    {
     "data": {
      "image/png": "[encoded data removed]",
      "text/plain": [
       "<Figure size 2000x800 with 1 Axes>"
      ]
     },
     "metadata": {},
     "output_type": "display_data"
    }
   ],
   "source": [
    "plot_forecast(gs_rf)"
   ]
  },
  {
   "cell_type": "markdown",
   "id": "3a61d5d5-9a22-48d0-b279-a954e48c8445",
   "metadata": {},
   "source": [
    "<mark>Evaluate graph - interpretation</mark>"
   ]
  },
  {
   "cell_type": "markdown",
   "id": "f5602912-f7a2-46c9-a5aa-cca3ed9850b6",
   "metadata": {},
   "source": [
    "### 3.1.4 Feature Importance"
   ]
  },
  {
   "cell_type": "code",
   "execution_count": 18,
   "id": "7b8f16a8-e7bc-4632-9a90-1153b0deaa86",
   "metadata": {},
   "outputs": [
    {
     "data": {
      "text/html": [
       "<div>\n",
       "<style scoped>\n",
       "    .dataframe tbody tr th:only-of-type {\n",
       "        vertical-align: middle;\n",
       "    }\n",
       "\n",
       "    .dataframe tbody tr th {\n",
       "        vertical-align: top;\n",
       "    }\n",
       "\n",
       "    .dataframe thead th {\n",
       "        text-align: right;\n",
       "    }\n",
       "</style>\n",
       "<table border=\"1\" class=\"dataframe\">\n",
       "  <thead>\n",
       "    <tr style=\"text-align: right;\">\n",
       "      <th></th>\n",
       "      <th>feature</th>\n",
       "      <th>importance</th>\n",
       "    </tr>\n",
       "  </thead>\n",
       "  <tbody>\n",
       "    <tr>\n",
       "      <th>0</th>\n",
       "      <td>df</td>\n",
       "      <td>0.99990260</td>\n",
       "    </tr>\n",
       "    <tr>\n",
       "      <th>3</th>\n",
       "      <td>highest_30min_rainf</td>\n",
       "      <td>0.00008210</td>\n",
       "    </tr>\n",
       "    <tr>\n",
       "      <th>7</th>\n",
       "      <td>max_temp</td>\n",
       "      <td>0.00000484</td>\n",
       "    </tr>\n",
       "    <tr>\n",
       "      <th>10</th>\n",
       "      <td>max_wind_speed</td>\n",
       "      <td>0.00000444</td>\n",
       "    </tr>\n",
       "    <tr>\n",
       "      <th>6</th>\n",
       "      <td>mean_temp</td>\n",
       "      <td>0.00000239</td>\n",
       "    </tr>\n",
       "    <tr>\n",
       "      <th>8</th>\n",
       "      <td>min_temp</td>\n",
       "      <td>0.00000110</td>\n",
       "    </tr>\n",
       "    <tr>\n",
       "      <th>13</th>\n",
       "      <td>dengue_symptoms_searches</td>\n",
       "      <td>0.00000085</td>\n",
       "    </tr>\n",
       "    <tr>\n",
       "      <th>5</th>\n",
       "      <td>highest_120min_rainf</td>\n",
       "      <td>0.00000075</td>\n",
       "    </tr>\n",
       "    <tr>\n",
       "      <th>4</th>\n",
       "      <td>highest_60min_rainf</td>\n",
       "      <td>0.00000035</td>\n",
       "    </tr>\n",
       "    <tr>\n",
       "      <th>9</th>\n",
       "      <td>mean_wind_speed</td>\n",
       "      <td>0.00000028</td>\n",
       "    </tr>\n",
       "    <tr>\n",
       "      <th>11</th>\n",
       "      <td>dengue_searches</td>\n",
       "      <td>0.00000013</td>\n",
       "    </tr>\n",
       "    <tr>\n",
       "      <th>2</th>\n",
       "      <td>daily_rainf_total</td>\n",
       "      <td>0.00000007</td>\n",
       "    </tr>\n",
       "    <tr>\n",
       "      <th>12</th>\n",
       "      <td>dengue_fever_searches</td>\n",
       "      <td>0.00000006</td>\n",
       "    </tr>\n",
       "    <tr>\n",
       "      <th>1</th>\n",
       "      <td>dhf</td>\n",
       "      <td>0.00000005</td>\n",
       "    </tr>\n",
       "  </tbody>\n",
       "</table>\n",
       "</div>"
      ],
      "text/plain": [
       "                     feature  importance\n",
       "0                         df  0.99990260\n",
       "3        highest_30min_rainf  0.00008210\n",
       "7                   max_temp  0.00000484\n",
       "10            max_wind_speed  0.00000444\n",
       "6                  mean_temp  0.00000239\n",
       "8                   min_temp  0.00000110\n",
       "13  dengue_symptoms_searches  0.00000085\n",
       "5       highest_120min_rainf  0.00000075\n",
       "4        highest_60min_rainf  0.00000035\n",
       "9            mean_wind_speed  0.00000028\n",
       "11           dengue_searches  0.00000013\n",
       "2          daily_rainf_total  0.00000007\n",
       "12     dengue_fever_searches  0.00000006\n",
       "1                        dhf  0.00000005"
      ]
     },
     "execution_count": 18,
     "metadata": {},
     "output_type": "execute_result"
    }
   ],
   "source": [
    "# Extract the model's feature importances based on Gini impurity\n",
    "feature_importances = gs_rf.best_estimator_.named_steps['rf'].feature_importances_\n",
    "\n",
    "# Getting the feature names \n",
    "feature_names = gs_rf.best_estimator_.named_steps['ss'].get_feature_names_out()\n",
    "\n",
    "# display the feature importances\n",
    "fi_df = pd.DataFrame({'feature': feature_names, 'importance': feature_importances})\n",
    "fi_df.sort_values(by='importance', ascending=False, inplace=True)\n",
    "fi_df"
   ]
  },
  {
   "cell_type": "markdown",
   "id": "9b66f015-a5b9-48cc-894c-c2ba470966e9",
   "metadata": {},
   "source": [
    "Feature Importance: Dengue fever (df) is the most important feature in relation to dengue cases. It is understandable that dengue cases and dengue fever strongly correlated.  Rainfalls in 30mins is the 2nd most important feature contributing to dengue cases, this can be explained in EDA whereby rainfall and dengue cases are positively correlated. "
   ]
  },
  {
   "cell_type": "markdown",
   "id": "acd0f495-60d5-4e7e-9fd4-053180da8f45",
   "metadata": {},
   "source": [
    "## 3.2 Support Vector Regression (SVR)"
   ]
  },
  {
   "cell_type": "markdown",
   "id": "af2a3295-006a-4f00-8b6b-15bb3ff8c7a4",
   "metadata": {},
   "source": [
    "Support Vector Regression (SVR) is a type of Support Vector Machine which solve problems that can be solved with linear regression.  But unlike linear regression, SVR allows modelling of non-linear relationships between variables and provides the flexibility to adjust the model's robustness by tuning hyperparameters.   It uses a subset of training points in the decision function (called support vectors), hence memory efficient.  "
   ]
  },
  {
   "cell_type": "markdown",
   "id": "edebaddd-634b-4e24-bb22-a59fd31dcce0",
   "metadata": {},
   "source": [
    "### 3.2.1 Modelling"
   ]
  },
  {
   "cell_type": "code",
   "execution_count": 19,
   "id": "666e48ae-c8d3-4c6e-82e5-3b217ef61bf0",
   "metadata": {},
   "outputs": [],
   "source": [
    "pipe_svr = Pipeline([('ss', StandardScaler()),\n",
    "                    ('svr', LinearSVR())])"
   ]
  },
  {
   "cell_type": "code",
   "execution_count": 20,
   "id": "bf1bc6b4-9d12-471f-a280-75d45762ac43",
   "metadata": {},
   "outputs": [],
   "source": [
    "pipe_svr_params = {'svr__loss': ['epsilon_insensitive'], # epsilon_insensitive means L1 loss\n",
    "                   'svr__C': [0.0 , 0.01, 0.1],\n",
    "                   'svr__epsilon': [0.01, 0.1],\n",
    "                   'svr__max_iter': [1000,2000],\n",
    "                   'svr__random_state' : [42]}"
   ]
  },
  {
   "cell_type": "code",
   "execution_count": 21,
   "id": "eededd59-d659-4ac1-9b2a-bfd9e0ba983b",
   "metadata": {},
   "outputs": [],
   "source": [
    "gs_svr = GridSearchCV(pipe_svr,\n",
    "                       param_grid=pipe_svr_params,\n",
    "                       cv=3)"
   ]
  },
  {
   "cell_type": "code",
   "execution_count": 22,
   "id": "82e33430-3f90-46c8-b34d-3c55b656531c",
   "metadata": {},
   "outputs": [
    {
     "name": "stderr",
     "output_type": "stream",
     "text": [
      "C:\\Users\\chloe\\mambaforge\\envs\\dsi-sg\\lib\\site-packages\\sklearn\\model_selection\\_validation.py:378: FitFailedWarning: \n",
      "12 fits failed out of a total of 36.\n",
      "The score on these train-test partitions for these parameters will be set to nan.\n",
      "If these failures are not expected, you can try to debug them by setting error_score='raise'.\n",
      "\n",
      "Below are more details about the failures:\n",
      "--------------------------------------------------------------------------------\n",
      "12 fits failed with the following error:\n",
      "Traceback (most recent call last):\n",
      "  File \"C:\\Users\\chloe\\mambaforge\\envs\\dsi-sg\\lib\\site-packages\\sklearn\\model_selection\\_validation.py\", line 686, in _fit_and_score\n",
      "    estimator.fit(X_train, y_train, **fit_params)\n",
      "  File \"C:\\Users\\chloe\\mambaforge\\envs\\dsi-sg\\lib\\site-packages\\sklearn\\pipeline.py\", line 405, in fit\n",
      "    self._final_estimator.fit(Xt, y, **fit_params_last_step)\n",
      "  File \"C:\\Users\\chloe\\mambaforge\\envs\\dsi-sg\\lib\\site-packages\\sklearn\\svm\\_classes.py\", line 507, in fit\n",
      "    self._validate_params()\n",
      "  File \"C:\\Users\\chloe\\mambaforge\\envs\\dsi-sg\\lib\\site-packages\\sklearn\\base.py\", line 600, in _validate_params\n",
      "    validate_parameter_constraints(\n",
      "  File \"C:\\Users\\chloe\\mambaforge\\envs\\dsi-sg\\lib\\site-packages\\sklearn\\utils\\_param_validation.py\", line 97, in validate_parameter_constraints\n",
      "    raise InvalidParameterError(\n",
      "sklearn.utils._param_validation.InvalidParameterError: The 'C' parameter of LinearSVR must be a float in the range (0.0, inf). Got 0.0 instead.\n",
      "\n",
      "  warnings.warn(some_fits_failed_message, FitFailedWarning)\n",
      "C:\\Users\\chloe\\mambaforge\\envs\\dsi-sg\\lib\\site-packages\\sklearn\\model_selection\\_search.py:952: UserWarning: One or more of the test scores are non-finite: [        nan         nan         nan         nan -1.32859742 -1.32859742\n",
      " -1.32859742 -1.32859742 -0.9783111  -0.9783111  -0.97830527 -0.97830527]\n",
      "  warnings.warn(\n"
     ]
    },
    {
     "data": {
      "text/html": [
       "<style>#sk-container-id-2 {color: black;background-color: white;}#sk-container-id-2 pre{padding: 0;}#sk-container-id-2 div.sk-toggleable {background-color: white;}#sk-container-id-2 label.sk-toggleable__label {cursor: pointer;display: block;width: 100%;margin-bottom: 0;padding: 0.3em;box-sizing: border-box;text-align: center;}#sk-container-id-2 label.sk-toggleable__label-arrow:before {content: \"▸\";float: left;margin-right: 0.25em;color: #696969;}#sk-container-id-2 label.sk-toggleable__label-arrow:hover:before {color: black;}#sk-container-id-2 div.sk-estimator:hover label.sk-toggleable__label-arrow:before {color: black;}#sk-container-id-2 div.sk-toggleable__content {max-height: 0;max-width: 0;overflow: hidden;text-align: left;background-color: #f0f8ff;}#sk-container-id-2 div.sk-toggleable__content pre {margin: 0.2em;color: black;border-radius: 0.25em;background-color: #f0f8ff;}#sk-container-id-2 input.sk-toggleable__control:checked~div.sk-toggleable__content {max-height: 200px;max-width: 100%;overflow: auto;}#sk-container-id-2 input.sk-toggleable__control:checked~label.sk-toggleable__label-arrow:before {content: \"▾\";}#sk-container-id-2 div.sk-estimator input.sk-toggleable__control:checked~label.sk-toggleable__label {background-color: #d4ebff;}#sk-container-id-2 div.sk-label input.sk-toggleable__control:checked~label.sk-toggleable__label {background-color: #d4ebff;}#sk-container-id-2 input.sk-hidden--visually {border: 0;clip: rect(1px 1px 1px 1px);clip: rect(1px, 1px, 1px, 1px);height: 1px;margin: -1px;overflow: hidden;padding: 0;position: absolute;width: 1px;}#sk-container-id-2 div.sk-estimator {font-family: monospace;background-color: #f0f8ff;border: 1px dotted black;border-radius: 0.25em;box-sizing: border-box;margin-bottom: 0.5em;}#sk-container-id-2 div.sk-estimator:hover {background-color: #d4ebff;}#sk-container-id-2 div.sk-parallel-item::after {content: \"\";width: 100%;border-bottom: 1px solid gray;flex-grow: 1;}#sk-container-id-2 div.sk-label:hover label.sk-toggleable__label {background-color: #d4ebff;}#sk-container-id-2 div.sk-serial::before {content: \"\";position: absolute;border-left: 1px solid gray;box-sizing: border-box;top: 0;bottom: 0;left: 50%;z-index: 0;}#sk-container-id-2 div.sk-serial {display: flex;flex-direction: column;align-items: center;background-color: white;padding-right: 0.2em;padding-left: 0.2em;position: relative;}#sk-container-id-2 div.sk-item {position: relative;z-index: 1;}#sk-container-id-2 div.sk-parallel {display: flex;align-items: stretch;justify-content: center;background-color: white;position: relative;}#sk-container-id-2 div.sk-item::before, #sk-container-id-2 div.sk-parallel-item::before {content: \"\";position: absolute;border-left: 1px solid gray;box-sizing: border-box;top: 0;bottom: 0;left: 50%;z-index: -1;}#sk-container-id-2 div.sk-parallel-item {display: flex;flex-direction: column;z-index: 1;position: relative;background-color: white;}#sk-container-id-2 div.sk-parallel-item:first-child::after {align-self: flex-end;width: 50%;}#sk-container-id-2 div.sk-parallel-item:last-child::after {align-self: flex-start;width: 50%;}#sk-container-id-2 div.sk-parallel-item:only-child::after {width: 0;}#sk-container-id-2 div.sk-dashed-wrapped {border: 1px dashed gray;margin: 0 0.4em 0.5em 0.4em;box-sizing: border-box;padding-bottom: 0.4em;background-color: white;}#sk-container-id-2 div.sk-label label {font-family: monospace;font-weight: bold;display: inline-block;line-height: 1.2em;}#sk-container-id-2 div.sk-label-container {text-align: center;}#sk-container-id-2 div.sk-container {/* jupyter's `normalize.less` sets `[hidden] { display: none; }` but bootstrap.min.css set `[hidden] { display: none !important; }` so we also need the `!important` here to be able to override the default hidden behavior on the sphinx rendered scikit-learn.org. See: https://github.com/scikit-learn/scikit-learn/issues/21755 */display: inline-block !important;position: relative;}#sk-container-id-2 div.sk-text-repr-fallback {display: none;}</style><div id=\"sk-container-id-2\" class=\"sk-top-container\"><div class=\"sk-text-repr-fallback\"><pre>GridSearchCV(cv=3,\n",
       "             estimator=Pipeline(steps=[(&#x27;ss&#x27;, StandardScaler()),\n",
       "                                       (&#x27;svr&#x27;, LinearSVR())]),\n",
       "             param_grid={&#x27;svr__C&#x27;: [0.0, 0.01, 0.1],\n",
       "                         &#x27;svr__epsilon&#x27;: [0.01, 0.1],\n",
       "                         &#x27;svr__loss&#x27;: [&#x27;epsilon_insensitive&#x27;],\n",
       "                         &#x27;svr__max_iter&#x27;: [1000, 2000],\n",
       "                         &#x27;svr__random_state&#x27;: [42]})</pre><b>In a Jupyter environment, please rerun this cell to show the HTML representation or trust the notebook. <br />On GitHub, the HTML representation is unable to render, please try loading this page with nbviewer.org.</b></div><div class=\"sk-container\" hidden><div class=\"sk-item sk-dashed-wrapped\"><div class=\"sk-label-container\"><div class=\"sk-label sk-toggleable\"><input class=\"sk-toggleable__control sk-hidden--visually\" id=\"sk-estimator-id-5\" type=\"checkbox\" ><label for=\"sk-estimator-id-5\" class=\"sk-toggleable__label sk-toggleable__label-arrow\">GridSearchCV</label><div class=\"sk-toggleable__content\"><pre>GridSearchCV(cv=3,\n",
       "             estimator=Pipeline(steps=[(&#x27;ss&#x27;, StandardScaler()),\n",
       "                                       (&#x27;svr&#x27;, LinearSVR())]),\n",
       "             param_grid={&#x27;svr__C&#x27;: [0.0, 0.01, 0.1],\n",
       "                         &#x27;svr__epsilon&#x27;: [0.01, 0.1],\n",
       "                         &#x27;svr__loss&#x27;: [&#x27;epsilon_insensitive&#x27;],\n",
       "                         &#x27;svr__max_iter&#x27;: [1000, 2000],\n",
       "                         &#x27;svr__random_state&#x27;: [42]})</pre></div></div></div><div class=\"sk-parallel\"><div class=\"sk-parallel-item\"><div class=\"sk-item\"><div class=\"sk-label-container\"><div class=\"sk-label sk-toggleable\"><input class=\"sk-toggleable__control sk-hidden--visually\" id=\"sk-estimator-id-6\" type=\"checkbox\" ><label for=\"sk-estimator-id-6\" class=\"sk-toggleable__label sk-toggleable__label-arrow\">estimator: Pipeline</label><div class=\"sk-toggleable__content\"><pre>Pipeline(steps=[(&#x27;ss&#x27;, StandardScaler()), (&#x27;svr&#x27;, LinearSVR())])</pre></div></div></div><div class=\"sk-serial\"><div class=\"sk-item\"><div class=\"sk-serial\"><div class=\"sk-item\"><div class=\"sk-estimator sk-toggleable\"><input class=\"sk-toggleable__control sk-hidden--visually\" id=\"sk-estimator-id-7\" type=\"checkbox\" ><label for=\"sk-estimator-id-7\" class=\"sk-toggleable__label sk-toggleable__label-arrow\">StandardScaler</label><div class=\"sk-toggleable__content\"><pre>StandardScaler()</pre></div></div></div><div class=\"sk-item\"><div class=\"sk-estimator sk-toggleable\"><input class=\"sk-toggleable__control sk-hidden--visually\" id=\"sk-estimator-id-8\" type=\"checkbox\" ><label for=\"sk-estimator-id-8\" class=\"sk-toggleable__label sk-toggleable__label-arrow\">LinearSVR</label><div class=\"sk-toggleable__content\"><pre>LinearSVR()</pre></div></div></div></div></div></div></div></div></div></div></div></div>"
      ],
      "text/plain": [
       "GridSearchCV(cv=3,\n",
       "             estimator=Pipeline(steps=[('ss', StandardScaler()),\n",
       "                                       ('svr', LinearSVR())]),\n",
       "             param_grid={'svr__C': [0.0, 0.01, 0.1],\n",
       "                         'svr__epsilon': [0.01, 0.1],\n",
       "                         'svr__loss': ['epsilon_insensitive'],\n",
       "                         'svr__max_iter': [1000, 2000],\n",
       "                         'svr__random_state': [42]})"
      ]
     },
     "execution_count": 22,
     "metadata": {},
     "output_type": "execute_result"
    }
   ],
   "source": [
    "gs_svr.fit(X_train, y_train)"
   ]
  },
  {
   "cell_type": "code",
   "execution_count": 23,
   "id": "a061af49-26ba-4b7e-9a20-2d205e73c639",
   "metadata": {},
   "outputs": [
    {
     "data": {
      "text/html": [
       "<div>\n",
       "<style scoped>\n",
       "    .dataframe tbody tr th:only-of-type {\n",
       "        vertical-align: middle;\n",
       "    }\n",
       "\n",
       "    .dataframe tbody tr th {\n",
       "        vertical-align: top;\n",
       "    }\n",
       "\n",
       "    .dataframe thead th {\n",
       "        text-align: right;\n",
       "    }\n",
       "</style>\n",
       "<table border=\"1\" class=\"dataframe\">\n",
       "  <thead>\n",
       "    <tr style=\"text-align: right;\">\n",
       "      <th></th>\n",
       "      <th>mean_fit_time</th>\n",
       "      <th>std_fit_time</th>\n",
       "      <th>mean_score_time</th>\n",
       "      <th>std_score_time</th>\n",
       "      <th>param_svr__C</th>\n",
       "      <th>param_svr__epsilon</th>\n",
       "      <th>param_svr__loss</th>\n",
       "      <th>param_svr__max_iter</th>\n",
       "      <th>param_svr__random_state</th>\n",
       "      <th>params</th>\n",
       "      <th>split0_test_score</th>\n",
       "      <th>split1_test_score</th>\n",
       "      <th>split2_test_score</th>\n",
       "      <th>mean_test_score</th>\n",
       "      <th>std_test_score</th>\n",
       "      <th>rank_test_score</th>\n",
       "    </tr>\n",
       "  </thead>\n",
       "  <tbody>\n",
       "    <tr>\n",
       "      <th>0</th>\n",
       "      <td>0.01049169</td>\n",
       "      <td>0.00741877</td>\n",
       "      <td>0.00000000</td>\n",
       "      <td>0.00000000</td>\n",
       "      <td>0.00000000</td>\n",
       "      <td>0.01000000</td>\n",
       "      <td>epsilon_insensitive</td>\n",
       "      <td>1000</td>\n",
       "      <td>42</td>\n",
       "      <td>{'svr__C': 0.0, 'svr__epsilon': 0.01, 'svr__lo...</td>\n",
       "      <td>NaN</td>\n",
       "      <td>NaN</td>\n",
       "      <td>NaN</td>\n",
       "      <td>NaN</td>\n",
       "      <td>NaN</td>\n",
       "      <td>9</td>\n",
       "    </tr>\n",
       "    <tr>\n",
       "      <th>1</th>\n",
       "      <td>0.01043487</td>\n",
       "      <td>0.00737859</td>\n",
       "      <td>0.00000000</td>\n",
       "      <td>0.00000000</td>\n",
       "      <td>0.00000000</td>\n",
       "      <td>0.01000000</td>\n",
       "      <td>epsilon_insensitive</td>\n",
       "      <td>2000</td>\n",
       "      <td>42</td>\n",
       "      <td>{'svr__C': 0.0, 'svr__epsilon': 0.01, 'svr__lo...</td>\n",
       "      <td>NaN</td>\n",
       "      <td>NaN</td>\n",
       "      <td>NaN</td>\n",
       "      <td>NaN</td>\n",
       "      <td>NaN</td>\n",
       "      <td>9</td>\n",
       "    </tr>\n",
       "    <tr>\n",
       "      <th>2</th>\n",
       "      <td>0.00535512</td>\n",
       "      <td>0.00757328</td>\n",
       "      <td>0.00000000</td>\n",
       "      <td>0.00000000</td>\n",
       "      <td>0.00000000</td>\n",
       "      <td>0.10000000</td>\n",
       "      <td>epsilon_insensitive</td>\n",
       "      <td>1000</td>\n",
       "      <td>42</td>\n",
       "      <td>{'svr__C': 0.0, 'svr__epsilon': 0.1, 'svr__los...</td>\n",
       "      <td>NaN</td>\n",
       "      <td>NaN</td>\n",
       "      <td>NaN</td>\n",
       "      <td>NaN</td>\n",
       "      <td>NaN</td>\n",
       "      <td>9</td>\n",
       "    </tr>\n",
       "    <tr>\n",
       "      <th>3</th>\n",
       "      <td>0.01042581</td>\n",
       "      <td>0.00737217</td>\n",
       "      <td>0.00000000</td>\n",
       "      <td>0.00000000</td>\n",
       "      <td>0.00000000</td>\n",
       "      <td>0.10000000</td>\n",
       "      <td>epsilon_insensitive</td>\n",
       "      <td>2000</td>\n",
       "      <td>42</td>\n",
       "      <td>{'svr__C': 0.0, 'svr__epsilon': 0.1, 'svr__los...</td>\n",
       "      <td>NaN</td>\n",
       "      <td>NaN</td>\n",
       "      <td>NaN</td>\n",
       "      <td>NaN</td>\n",
       "      <td>NaN</td>\n",
       "      <td>9</td>\n",
       "    </tr>\n",
       "    <tr>\n",
       "      <th>4</th>\n",
       "      <td>0.00981943</td>\n",
       "      <td>0.00909878</td>\n",
       "      <td>0.00070087</td>\n",
       "      <td>0.00099118</td>\n",
       "      <td>0.01000000</td>\n",
       "      <td>0.01000000</td>\n",
       "      <td>epsilon_insensitive</td>\n",
       "      <td>1000</td>\n",
       "      <td>42</td>\n",
       "      <td>{'svr__C': 0.01, 'svr__epsilon': 0.01, 'svr__l...</td>\n",
       "      <td>-1.94321071</td>\n",
       "      <td>-1.20296350</td>\n",
       "      <td>-0.83961806</td>\n",
       "      <td>-1.32859742</td>\n",
       "      <td>0.45921462</td>\n",
       "      <td>5</td>\n",
       "    </tr>\n",
       "  </tbody>\n",
       "</table>\n",
       "</div>"
      ],
      "text/plain": [
       "   mean_fit_time  std_fit_time  mean_score_time  std_score_time param_svr__C  \\\n",
       "0     0.01049169    0.00741877       0.00000000      0.00000000   0.00000000   \n",
       "1     0.01043487    0.00737859       0.00000000      0.00000000   0.00000000   \n",
       "2     0.00535512    0.00757328       0.00000000      0.00000000   0.00000000   \n",
       "3     0.01042581    0.00737217       0.00000000      0.00000000   0.00000000   \n",
       "4     0.00981943    0.00909878       0.00070087      0.00099118   0.01000000   \n",
       "\n",
       "  param_svr__epsilon      param_svr__loss param_svr__max_iter  \\\n",
       "0         0.01000000  epsilon_insensitive                1000   \n",
       "1         0.01000000  epsilon_insensitive                2000   \n",
       "2         0.10000000  epsilon_insensitive                1000   \n",
       "3         0.10000000  epsilon_insensitive                2000   \n",
       "4         0.01000000  epsilon_insensitive                1000   \n",
       "\n",
       "  param_svr__random_state                                             params  \\\n",
       "0                      42  {'svr__C': 0.0, 'svr__epsilon': 0.01, 'svr__lo...   \n",
       "1                      42  {'svr__C': 0.0, 'svr__epsilon': 0.01, 'svr__lo...   \n",
       "2                      42  {'svr__C': 0.0, 'svr__epsilon': 0.1, 'svr__los...   \n",
       "3                      42  {'svr__C': 0.0, 'svr__epsilon': 0.1, 'svr__los...   \n",
       "4                      42  {'svr__C': 0.01, 'svr__epsilon': 0.01, 'svr__l...   \n",
       "\n",
       "   split0_test_score  split1_test_score  split2_test_score  mean_test_score  \\\n",
       "0                NaN                NaN                NaN              NaN   \n",
       "1                NaN                NaN                NaN              NaN   \n",
       "2                NaN                NaN                NaN              NaN   \n",
       "3                NaN                NaN                NaN              NaN   \n",
       "4        -1.94321071        -1.20296350        -0.83961806      -1.32859742   \n",
       "\n",
       "   std_test_score  rank_test_score  \n",
       "0             NaN                9  \n",
       "1             NaN                9  \n",
       "2             NaN                9  \n",
       "3             NaN                9  \n",
       "4      0.45921462                5  "
      ]
     },
     "execution_count": 23,
     "metadata": {},
     "output_type": "execute_result"
    }
   ],
   "source": [
    "rf_result = pd.DataFrame(gs_svr.cv_results_).sort_values('rank_test_score',ascending=False)\n",
    "rf_result.head(5)"
   ]
  },
  {
   "cell_type": "markdown",
   "id": "a24aba72-3325-4d3d-8329-959215a4dd62",
   "metadata": {},
   "source": [
    "### 3.2.2 Model Evaluation"
   ]
  },
  {
   "cell_type": "code",
   "execution_count": 24,
   "id": "de598878-92f5-4d47-aa4e-08830e370201",
   "metadata": {},
   "outputs": [
    {
     "name": "stdout",
     "output_type": "stream",
     "text": [
      "The training RMSE is: 324\n",
      "The testing RMSE is: 680\n",
      "The training R2 is: -0.5546\n",
      "The testing R2 is: -1.7514\n"
     ]
    }
   ],
   "source": [
    "model_score(gs_svr, X_train, X_test, y_train, y_test)"
   ]
  },
  {
   "cell_type": "markdown",
   "id": "041db63d-a159-45b1-ba1f-f159584954e9",
   "metadata": {},
   "source": [
    "<mark>Evaluate model performance - interpretation</mark>"
   ]
  },
  {
   "cell_type": "code",
   "execution_count": null,
   "id": "3d14b04b-1397-4ffc-a8f6-1967037e0850",
   "metadata": {},
   "outputs": [],
   "source": []
  },
  {
   "cell_type": "code",
   "execution_count": null,
   "id": "60e86f6d-fce0-4548-b308-60c49cede025",
   "metadata": {},
   "outputs": [],
   "source": []
  },
  {
   "cell_type": "code",
   "execution_count": null,
   "id": "92af0434-df3b-4a9d-ad59-37240e3aa14e",
   "metadata": {},
   "outputs": [],
   "source": []
  }
 ],
 "metadata": {
  "kernelspec": {
   "display_name": "Python 3 (ipykernel)",
   "language": "python",
   "name": "python3"
  },
  "language_info": {
   "codemirror_mode": {
    "name": "ipython",
    "version": 3
   },
   "file_extension": ".py",
   "mimetype": "text/x-python",
   "name": "python",
   "nbconvert_exporter": "python",
   "pygments_lexer": "ipython3",
   "version": "3.8.16"
  }
 },
 "nbformat": 4,
 "nbformat_minor": 5
}
