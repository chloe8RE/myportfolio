{
 "cells": [
  {
   "cell_type": "markdown",
   "id": "e5122387-0113-4bf8-8e80-1c34d002102b",
   "metadata": {},
   "source": [
    "\n",
    "# Project 3: Sentiment Analysis on Artificial Intelligence Discussion by Mo Gawdat - Part 2"
   ]
  },
  {
   "cell_type": "markdown",
   "id": "61a0a547-e40c-4e1f-9c85-43fc778c1617",
   "metadata": {},
   "source": [
    "# 1. Pre-processing"
   ]
  },
  {
   "cell_type": "code",
   "execution_count": 1,
   "id": "ad50e3d3-f6df-4d85-af35-86a518ce9748",
   "metadata": {},
   "outputs": [],
   "source": [
    "# Import libraries\n",
    "import pandas as pd\n",
    "import numpy as np\n",
    "import matplotlib.pyplot as plt\n",
    "import seaborn as sns\n",
    "\n",
    "from nltk.tokenize import word_tokenize, WhitespaceTokenizer\n",
    "from nltk.stem import WordNetLemmatizer\n",
    "from nltk.stem.porter import PorterStemmer\n",
    "from nltk.corpus import stopwords\n",
    "\n",
    "from sklearn.model_selection import train_test_split, GridSearchCV\n",
    "from sklearn.linear_model import LogisticRegression\n",
    "from sklearn.ensemble import RandomForestClassifier\n",
    "from sklearn.feature_extraction.text import CountVectorizer, TfidfVectorizer\n",
    "from sklearn.naive_bayes import MultinomialNB\n",
    "from sklearn.pipeline import Pipeline as SklearnPipeline\n",
    "from sklearn.svm import LinearSVC, SVC\n",
    "\n",
    "from sklearn.metrics import accuracy_score, precision_score, recall_score, f1_score, classification_report, confusion_matrix, ConfusionMatrixDisplay \n",
    "from sklearn.metrics import auc, roc_auc_score, RocCurveDisplay \n",
    "\n",
    "%matplotlib inline"
   ]
  },
  {
   "cell_type": "code",
   "execution_count": 24,
   "id": "0f75061a-5c6d-4a4e-b454-cb65fd7cf6ee",
   "metadata": {},
   "outputs": [],
   "source": [
    "df = pd.read_csv('data/cleaned_comments.csv')"
   ]
  },
  {
   "cell_type": "code",
   "execution_count": 25,
   "id": "4142225e-0238-4e36-9e51-24387652422f",
   "metadata": {},
   "outputs": [
    {
     "name": "stdout",
     "output_type": "stream",
     "text": [
      "<class 'pandas.core.frame.DataFrame'>\n",
      "RangeIndex: 23137 entries, 0 to 23136\n",
      "Data columns (total 7 columns):\n",
      " #   Column           Non-Null Count  Dtype  \n",
      "---  ------           --------------  -----  \n",
      " 0   comment_id       23137 non-null  object \n",
      " 1   author           23132 non-null  object \n",
      " 2   likes            23137 non-null  int64  \n",
      " 3   cleaned_comment  23137 non-null  object \n",
      " 4   vader_compound   23137 non-null  float64\n",
      " 5   vader_label      23137 non-null  object \n",
      " 6   label            23137 non-null  int64  \n",
      "dtypes: float64(1), int64(2), object(4)\n",
      "memory usage: 1.2+ MB\n"
     ]
    }
   ],
   "source": [
    "df.info()"
   ]
  },
  {
   "cell_type": "markdown",
   "id": "2cac2ee9-ef62-498a-9941-b70e30b6c230",
   "metadata": {},
   "source": [
    "### 1.1. Tokenizer and Lemmatizer"
   ]
  },
  {
   "cell_type": "markdown",
   "id": "3d3d2caf-5dc3-4546-be84-f44c89f53e96",
   "metadata": {},
   "source": [
    "> Pre-processing is to feature-engineering text data into format that machine can understand and learn to faciliate sentiment analysis. \n",
    "\n",
    "> Noises in the text data (punctuations, emojis, special characters e.g. exclamation marks) have been removed through data cleaning.\n",
    "\n",
    "> Tokenizer is used to split the string of sentence into words/tokens. Whitespace Tokenizer is used to split words by whitespace since the words have been stripped off noises in the upstream data cleaning.  It is better than other tokenizers by regular expression, punctuations-based and Tweet.\n",
    "\n",
    "> Lemmatization bring the word to its common base/root, meaningful for NLP.  For example, words such as 'better' and 'compassion' would not work in Stemming, while lemmatization is able to recognize these words and return to 'good' and remain as 'compassion').  While Stemming is deemed too agressive for my case study as I would like to preserve the meaning of words.  \n",
    "\n",
    "> After tokenize and lemmatize the 'comment' column, words are joined back to its original dataframe/corpus."
   ]
  },
  {
   "cell_type": "code",
   "execution_count": 26,
   "id": "e16b2922-309d-49db-8c5a-08aa862bd7ee",
   "metadata": {},
   "outputs": [],
   "source": [
    "# Instantiate Tokenizer to bring a string of texts to words\n",
    "w_tokenizer = WhitespaceTokenizer()\n",
    "lemmatizer = WordNetLemmatizer()\n",
    "\n",
    "def lemmatize_text(text):\n",
    "    return [lemmatizer.lemmatize(w) for w in w_tokenizer.tokenize(text)]\n",
    "\n",
    "# Apply the function to the 'cleaned_comment' column and create a new 'lemmatized text' column\n",
    "df['comment'] = df['cleaned_comment'].apply(lemmatize_text)\n",
    "df['comment'] = df['comment'].apply(lambda lemma: ' '.join(lemma))"
   ]
  },
  {
   "cell_type": "code",
   "execution_count": 27,
   "id": "6e48e388-251e-4ef2-a620-b5a584accf8d",
   "metadata": {
    "scrolled": true
   },
   "outputs": [
    {
     "data": {
      "text/html": [
       "<div>\n",
       "<style scoped>\n",
       "    .dataframe tbody tr th:only-of-type {\n",
       "        vertical-align: middle;\n",
       "    }\n",
       "\n",
       "    .dataframe tbody tr th {\n",
       "        vertical-align: top;\n",
       "    }\n",
       "\n",
       "    .dataframe thead th {\n",
       "        text-align: right;\n",
       "    }\n",
       "</style>\n",
       "<table border=\"1\" class=\"dataframe\">\n",
       "  <thead>\n",
       "    <tr style=\"text-align: right;\">\n",
       "      <th></th>\n",
       "      <th>comment_id</th>\n",
       "      <th>author</th>\n",
       "      <th>likes</th>\n",
       "      <th>cleaned_comment</th>\n",
       "      <th>vader_compound</th>\n",
       "      <th>vader_label</th>\n",
       "      <th>label</th>\n",
       "      <th>comment</th>\n",
       "    </tr>\n",
       "  </thead>\n",
       "  <tbody>\n",
       "    <tr>\n",
       "      <th>0</th>\n",
       "      <td>UgxRNRfy58W4Z5XzyNh4AaABAg</td>\n",
       "      <td>The Diary Of A CEO</td>\n",
       "      <td>3341</td>\n",
       "      <td>mo is back and this is honestly a conversation...</td>\n",
       "      <td>0.9673</td>\n",
       "      <td>positive</td>\n",
       "      <td>1</td>\n",
       "      <td>mo is back and this is honestly a conversation...</td>\n",
       "    </tr>\n",
       "    <tr>\n",
       "      <th>1</th>\n",
       "      <td>UgxRNRfy58W4Z5XzyNh4AaABAg.9qPc3Mj_li_9siUH0VwDat</td>\n",
       "      <td>erNomic</td>\n",
       "      <td>0</td>\n",
       "      <td>wisdom and compassion come with experience the...</td>\n",
       "      <td>0.9184</td>\n",
       "      <td>positive</td>\n",
       "      <td>1</td>\n",
       "      <td>wisdom and compassion come with experience the...</td>\n",
       "    </tr>\n",
       "    <tr>\n",
       "      <th>2</th>\n",
       "      <td>UgxRNRfy58W4Z5XzyNh4AaABAg.9qPc3Mj_li_9sddl685hN7</td>\n",
       "      <td>Puppet Master</td>\n",
       "      <td>0</td>\n",
       "      <td>yea and i noticed he has his notebook out for ...</td>\n",
       "      <td>0.4404</td>\n",
       "      <td>positive</td>\n",
       "      <td>1</td>\n",
       "      <td>yea and i noticed he ha his notebook out for y...</td>\n",
       "    </tr>\n",
       "    <tr>\n",
       "      <th>3</th>\n",
       "      <td>UgxRNRfy58W4Z5XzyNh4AaABAg.9qPc3Mj_li_9s3h9LwfsIl</td>\n",
       "      <td>TrueNemesisPrime</td>\n",
       "      <td>0</td>\n",
       "      <td>jacque fresco was clearly years ahead of the c...</td>\n",
       "      <td>0.8905</td>\n",
       "      <td>positive</td>\n",
       "      <td>1</td>\n",
       "      <td>jacque fresco wa clearly year ahead of the cur...</td>\n",
       "    </tr>\n",
       "    <tr>\n",
       "      <th>4</th>\n",
       "      <td>UgxRNRfy58W4Z5XzyNh4AaABAg.9qPc3Mj_li_9rPcFroz8Xo</td>\n",
       "      <td>Student of Life</td>\n",
       "      <td>0</td>\n",
       "      <td>well said</td>\n",
       "      <td>0.2732</td>\n",
       "      <td>positive</td>\n",
       "      <td>1</td>\n",
       "      <td>well said</td>\n",
       "    </tr>\n",
       "    <tr>\n",
       "      <th>...</th>\n",
       "      <td>...</td>\n",
       "      <td>...</td>\n",
       "      <td>...</td>\n",
       "      <td>...</td>\n",
       "      <td>...</td>\n",
       "      <td>...</td>\n",
       "      <td>...</td>\n",
       "      <td>...</td>\n",
       "    </tr>\n",
       "    <tr>\n",
       "      <th>23132</th>\n",
       "      <td>UgwA5WFFLf95BBumMDF4AaABAg</td>\n",
       "      <td>Vicki</td>\n",
       "      <td>0</td>\n",
       "      <td>they truly are delusional</td>\n",
       "      <td>0.4404</td>\n",
       "      <td>positive</td>\n",
       "      <td>1</td>\n",
       "      <td>they truly are delusional</td>\n",
       "    </tr>\n",
       "    <tr>\n",
       "      <th>23133</th>\n",
       "      <td>UgzJamxrhuLi7r1tG154AaABAg</td>\n",
       "      <td>Mowlid Ahmed barre</td>\n",
       "      <td>6</td>\n",
       "      <td>it is beyond an emergency</td>\n",
       "      <td>-0.3818</td>\n",
       "      <td>negative</td>\n",
       "      <td>0</td>\n",
       "      <td>it is beyond an emergency</td>\n",
       "    </tr>\n",
       "    <tr>\n",
       "      <th>23134</th>\n",
       "      <td>UgySod5MqpsBVy_PMrx4AaABAg</td>\n",
       "      <td>awkwardmochi.</td>\n",
       "      <td>5</td>\n",
       "      <td>thank you for this video a very needed convers...</td>\n",
       "      <td>0.3612</td>\n",
       "      <td>positive</td>\n",
       "      <td>1</td>\n",
       "      <td>thank you for this video a very needed convers...</td>\n",
       "    </tr>\n",
       "    <tr>\n",
       "      <th>23135</th>\n",
       "      <td>UgycItCNgwKO5RmnNaB4AaABAg</td>\n",
       "      <td>Alex Z</td>\n",
       "      <td>0</td>\n",
       "      <td>disgusting trying to destroy the traditional f...</td>\n",
       "      <td>-0.7845</td>\n",
       "      <td>negative</td>\n",
       "      <td>0</td>\n",
       "      <td>disgusting trying to destroy the traditional f...</td>\n",
       "    </tr>\n",
       "    <tr>\n",
       "      <th>23136</th>\n",
       "      <td>Ugwwlx0bJsUdM9iwim94AaABAg</td>\n",
       "      <td>V B</td>\n",
       "      <td>1</td>\n",
       "      <td>dang</td>\n",
       "      <td>0.0000</td>\n",
       "      <td>negative</td>\n",
       "      <td>0</td>\n",
       "      <td>dang</td>\n",
       "    </tr>\n",
       "  </tbody>\n",
       "</table>\n",
       "<p>23137 rows × 8 columns</p>\n",
       "</div>"
      ],
      "text/plain": [
       "                                              comment_id              author  \\\n",
       "0                             UgxRNRfy58W4Z5XzyNh4AaABAg  The Diary Of A CEO   \n",
       "1      UgxRNRfy58W4Z5XzyNh4AaABAg.9qPc3Mj_li_9siUH0VwDat             erNomic   \n",
       "2      UgxRNRfy58W4Z5XzyNh4AaABAg.9qPc3Mj_li_9sddl685hN7       Puppet Master   \n",
       "3      UgxRNRfy58W4Z5XzyNh4AaABAg.9qPc3Mj_li_9s3h9LwfsIl    TrueNemesisPrime   \n",
       "4      UgxRNRfy58W4Z5XzyNh4AaABAg.9qPc3Mj_li_9rPcFroz8Xo     Student of Life   \n",
       "...                                                  ...                 ...   \n",
       "23132                         UgwA5WFFLf95BBumMDF4AaABAg               Vicki   \n",
       "23133                         UgzJamxrhuLi7r1tG154AaABAg  Mowlid Ahmed barre   \n",
       "23134                         UgySod5MqpsBVy_PMrx4AaABAg       awkwardmochi.   \n",
       "23135                         UgycItCNgwKO5RmnNaB4AaABAg              Alex Z   \n",
       "23136                         Ugwwlx0bJsUdM9iwim94AaABAg                 V B   \n",
       "\n",
       "       likes                                    cleaned_comment  \\\n",
       "0       3341  mo is back and this is honestly a conversation...   \n",
       "1          0  wisdom and compassion come with experience the...   \n",
       "2          0  yea and i noticed he has his notebook out for ...   \n",
       "3          0  jacque fresco was clearly years ahead of the c...   \n",
       "4          0                                         well said    \n",
       "...      ...                                                ...   \n",
       "23132      0                          they truly are delusional   \n",
       "23133      6                         it is beyond an emergency    \n",
       "23134      5  thank you for this video a very needed convers...   \n",
       "23135      0  disgusting trying to destroy the traditional f...   \n",
       "23136      1                                               dang   \n",
       "\n",
       "       vader_compound vader_label  label  \\\n",
       "0              0.9673    positive      1   \n",
       "1              0.9184    positive      1   \n",
       "2              0.4404    positive      1   \n",
       "3              0.8905    positive      1   \n",
       "4              0.2732    positive      1   \n",
       "...               ...         ...    ...   \n",
       "23132          0.4404    positive      1   \n",
       "23133         -0.3818    negative      0   \n",
       "23134          0.3612    positive      1   \n",
       "23135         -0.7845    negative      0   \n",
       "23136          0.0000    negative      0   \n",
       "\n",
       "                                                 comment  \n",
       "0      mo is back and this is honestly a conversation...  \n",
       "1      wisdom and compassion come with experience the...  \n",
       "2      yea and i noticed he ha his notebook out for y...  \n",
       "3      jacque fresco wa clearly year ahead of the cur...  \n",
       "4                                              well said  \n",
       "...                                                  ...  \n",
       "23132                          they truly are delusional  \n",
       "23133                          it is beyond an emergency  \n",
       "23134  thank you for this video a very needed convers...  \n",
       "23135  disgusting trying to destroy the traditional f...  \n",
       "23136                                               dang  \n",
       "\n",
       "[23137 rows x 8 columns]"
      ]
     },
     "execution_count": 27,
     "metadata": {},
     "output_type": "execute_result"
    }
   ],
   "source": [
    "df"
   ]
  },
  {
   "cell_type": "markdown",
   "id": "9cf57fab-2ccf-4b22-9323-c15c83c103e5",
   "metadata": {},
   "source": [
    "## 1.2 Stop Words"
   ]
  },
  {
   "cell_type": "markdown",
   "id": "7de6d965-99d7-4eb5-9655-575efd02852e",
   "metadata": {},
   "source": [
    "> Stop words are top occurring words in documents that it does not make any siginificance to the prediction of target variable Y.\n",
    "\n",
    "> Noise in the text data that removal of stop words could improve the predictability of model. "
   ]
  },
  {
   "cell_type": "code",
   "execution_count": 28,
   "id": "93b84372-fa3c-4d11-a21b-5450f7df9b30",
   "metadata": {},
   "outputs": [
    {
     "name": "stdout",
     "output_type": "stream",
     "text": [
      "['i', 'me', 'my', 'myself', 'we', 'our', 'ours', 'ourselves', 'you', \"you're\", \"you've\", \"you'll\", \"you'd\", 'your', 'yours', 'yourself', 'yourselves', 'he', 'him', 'his', 'himself', 'she', \"she's\", 'her', 'hers', 'herself', 'it', \"it's\", 'its', 'itself', 'they', 'them', 'their', 'theirs', 'themselves', 'what', 'which', 'who', 'whom', 'this', 'that', \"that'll\", 'these', 'those', 'am', 'is', 'are', 'was', 'were', 'be', 'been', 'being', 'have', 'has', 'had', 'having', 'do', 'does', 'did', 'doing', 'a', 'an', 'the', 'and', 'but', 'if', 'or', 'because', 'as', 'until', 'while', 'of', 'at', 'by', 'for', 'with', 'about', 'against', 'between', 'into', 'through', 'during', 'before', 'after', 'above', 'below', 'to', 'from', 'up', 'down', 'in', 'out', 'on', 'off', 'over', 'under', 'again', 'further', 'then', 'once', 'here', 'there', 'when', 'where', 'why', 'how', 'all', 'any', 'both', 'each', 'few', 'more', 'most', 'other', 'some', 'such', 'no', 'nor', 'not', 'only', 'own', 'same', 'so', 'than', 'too', 'very', 's', 't', 'can', 'will', 'just', 'don', \"don't\", 'should', \"should've\", 'now', 'd', 'll', 'm', 'o', 're', 've', 'y', 'ain', 'aren', \"aren't\", 'couldn', \"couldn't\", 'didn', \"didn't\", 'doesn', \"doesn't\", 'hadn', \"hadn't\", 'hasn', \"hasn't\", 'haven', \"haven't\", 'isn', \"isn't\", 'ma', 'mightn', \"mightn't\", 'mustn', \"mustn't\", 'needn', \"needn't\", 'shan', \"shan't\", 'shouldn', \"shouldn't\", 'wasn', \"wasn't\", 'weren', \"weren't\", 'won', \"won't\", 'wouldn', \"wouldn't\"]\n"
     ]
    }
   ],
   "source": [
    "# Print English stopwords.\n",
    "print(stopwords.words(\"english\"))"
   ]
  },
  {
   "cell_type": "code",
   "execution_count": 29,
   "id": "3932bfd8-c956-4edd-aec0-bb1392bb53bf",
   "metadata": {},
   "outputs": [],
   "source": [
    "# Remove stopwords from 'comment' column\n",
    "def remove_stop_words(x):\n",
    "    stop_words = set(stopwords.words('english'))\n",
    "    tokens = word_tokenize(x)\n",
    "    non_stop_words = [token for token in tokens if token.lower() not in stop_words]\n",
    "    return non_stop_words"
   ]
  },
  {
   "cell_type": "code",
   "execution_count": 30,
   "id": "fdfdf153-60ff-4ab3-97a3-69f3cf2097d3",
   "metadata": {},
   "outputs": [],
   "source": [
    "# Apply the stop word removal function and join the remaining tokens\n",
    "df['comment'] = df['comment'].apply(remove_stop_words)\n",
    "df['comment'] = df['comment'].apply(lambda tokens: ' '.join(tokens))"
   ]
  },
  {
   "cell_type": "code",
   "execution_count": 37,
   "id": "e9db3b4a-e888-4da2-90c4-a243d6866a39",
   "metadata": {
    "scrolled": true
   },
   "outputs": [
    {
     "data": {
      "text/html": [
       "<div>\n",
       "<style scoped>\n",
       "    .dataframe tbody tr th:only-of-type {\n",
       "        vertical-align: middle;\n",
       "    }\n",
       "\n",
       "    .dataframe tbody tr th {\n",
       "        vertical-align: top;\n",
       "    }\n",
       "\n",
       "    .dataframe thead th {\n",
       "        text-align: right;\n",
       "    }\n",
       "</style>\n",
       "<table border=\"1\" class=\"dataframe\">\n",
       "  <thead>\n",
       "    <tr style=\"text-align: right;\">\n",
       "      <th></th>\n",
       "      <th>comment_id</th>\n",
       "      <th>author</th>\n",
       "      <th>likes</th>\n",
       "      <th>cleaned_comment</th>\n",
       "      <th>vader_compound</th>\n",
       "      <th>vader_label</th>\n",
       "      <th>label</th>\n",
       "      <th>comment</th>\n",
       "    </tr>\n",
       "  </thead>\n",
       "  <tbody>\n",
       "    <tr>\n",
       "      <th>0</th>\n",
       "      <td>UgxRNRfy58W4Z5XzyNh4AaABAg</td>\n",
       "      <td>The Diary Of A CEO</td>\n",
       "      <td>3341</td>\n",
       "      <td>mo is back and this is honestly a conversation...</td>\n",
       "      <td>0.9673</td>\n",
       "      <td>positive</td>\n",
       "      <td>1</td>\n",
       "      <td>mo back honestly conversation missed please sh...</td>\n",
       "    </tr>\n",
       "    <tr>\n",
       "      <th>1</th>\n",
       "      <td>UgxRNRfy58W4Z5XzyNh4AaABAg.9qPc3Mj_li_9siUH0VwDat</td>\n",
       "      <td>erNomic</td>\n",
       "      <td>0</td>\n",
       "      <td>wisdom and compassion come with experience the...</td>\n",
       "      <td>0.9184</td>\n",
       "      <td>positive</td>\n",
       "      <td>1</td>\n",
       "      <td>wisdom compassion come experience lack today w...</td>\n",
       "    </tr>\n",
       "    <tr>\n",
       "      <th>2</th>\n",
       "      <td>UgxRNRfy58W4Z5XzyNh4AaABAg.9qPc3Mj_li_9sddl685hN7</td>\n",
       "      <td>Puppet Master</td>\n",
       "      <td>0</td>\n",
       "      <td>yea and i noticed he has his notebook out for ...</td>\n",
       "      <td>0.4404</td>\n",
       "      <td>positive</td>\n",
       "      <td>1</td>\n",
       "      <td>yea noticed ha notebook time thats good interv...</td>\n",
       "    </tr>\n",
       "    <tr>\n",
       "      <th>3</th>\n",
       "      <td>UgxRNRfy58W4Z5XzyNh4AaABAg.9qPc3Mj_li_9s3h9LwfsIl</td>\n",
       "      <td>TrueNemesisPrime</td>\n",
       "      <td>0</td>\n",
       "      <td>jacque fresco was clearly years ahead of the c...</td>\n",
       "      <td>0.8905</td>\n",
       "      <td>positive</td>\n",
       "      <td>1</td>\n",
       "      <td>jacque fresco wa clearly year ahead curve venu...</td>\n",
       "    </tr>\n",
       "    <tr>\n",
       "      <th>4</th>\n",
       "      <td>UgxRNRfy58W4Z5XzyNh4AaABAg.9qPc3Mj_li_9rPcFroz8Xo</td>\n",
       "      <td>Student of Life</td>\n",
       "      <td>0</td>\n",
       "      <td>well said</td>\n",
       "      <td>0.2732</td>\n",
       "      <td>positive</td>\n",
       "      <td>1</td>\n",
       "      <td>well said</td>\n",
       "    </tr>\n",
       "    <tr>\n",
       "      <th>...</th>\n",
       "      <td>...</td>\n",
       "      <td>...</td>\n",
       "      <td>...</td>\n",
       "      <td>...</td>\n",
       "      <td>...</td>\n",
       "      <td>...</td>\n",
       "      <td>...</td>\n",
       "      <td>...</td>\n",
       "    </tr>\n",
       "    <tr>\n",
       "      <th>23132</th>\n",
       "      <td>UgwA5WFFLf95BBumMDF4AaABAg</td>\n",
       "      <td>Vicki</td>\n",
       "      <td>0</td>\n",
       "      <td>they truly are delusional</td>\n",
       "      <td>0.4404</td>\n",
       "      <td>positive</td>\n",
       "      <td>1</td>\n",
       "      <td>truly delusional</td>\n",
       "    </tr>\n",
       "    <tr>\n",
       "      <th>23133</th>\n",
       "      <td>UgzJamxrhuLi7r1tG154AaABAg</td>\n",
       "      <td>Mowlid Ahmed barre</td>\n",
       "      <td>6</td>\n",
       "      <td>it is beyond an emergency</td>\n",
       "      <td>-0.3818</td>\n",
       "      <td>negative</td>\n",
       "      <td>0</td>\n",
       "      <td>beyond emergency</td>\n",
       "    </tr>\n",
       "    <tr>\n",
       "      <th>23134</th>\n",
       "      <td>UgySod5MqpsBVy_PMrx4AaABAg</td>\n",
       "      <td>awkwardmochi.</td>\n",
       "      <td>5</td>\n",
       "      <td>thank you for this video a very needed convers...</td>\n",
       "      <td>0.3612</td>\n",
       "      <td>positive</td>\n",
       "      <td>1</td>\n",
       "      <td>thank video needed conversation indeed</td>\n",
       "    </tr>\n",
       "    <tr>\n",
       "      <th>23135</th>\n",
       "      <td>UgycItCNgwKO5RmnNaB4AaABAg</td>\n",
       "      <td>Alex Z</td>\n",
       "      <td>0</td>\n",
       "      <td>disgusting trying to destroy the traditional f...</td>\n",
       "      <td>-0.7845</td>\n",
       "      <td>negative</td>\n",
       "      <td>0</td>\n",
       "      <td>disgusting trying destroy traditional family</td>\n",
       "    </tr>\n",
       "    <tr>\n",
       "      <th>23136</th>\n",
       "      <td>Ugwwlx0bJsUdM9iwim94AaABAg</td>\n",
       "      <td>V B</td>\n",
       "      <td>1</td>\n",
       "      <td>dang</td>\n",
       "      <td>0.0000</td>\n",
       "      <td>negative</td>\n",
       "      <td>0</td>\n",
       "      <td>dang</td>\n",
       "    </tr>\n",
       "  </tbody>\n",
       "</table>\n",
       "<p>23137 rows × 8 columns</p>\n",
       "</div>"
      ],
      "text/plain": [
       "                                              comment_id              author  \\\n",
       "0                             UgxRNRfy58W4Z5XzyNh4AaABAg  The Diary Of A CEO   \n",
       "1      UgxRNRfy58W4Z5XzyNh4AaABAg.9qPc3Mj_li_9siUH0VwDat             erNomic   \n",
       "2      UgxRNRfy58W4Z5XzyNh4AaABAg.9qPc3Mj_li_9sddl685hN7       Puppet Master   \n",
       "3      UgxRNRfy58W4Z5XzyNh4AaABAg.9qPc3Mj_li_9s3h9LwfsIl    TrueNemesisPrime   \n",
       "4      UgxRNRfy58W4Z5XzyNh4AaABAg.9qPc3Mj_li_9rPcFroz8Xo     Student of Life   \n",
       "...                                                  ...                 ...   \n",
       "23132                         UgwA5WFFLf95BBumMDF4AaABAg               Vicki   \n",
       "23133                         UgzJamxrhuLi7r1tG154AaABAg  Mowlid Ahmed barre   \n",
       "23134                         UgySod5MqpsBVy_PMrx4AaABAg       awkwardmochi.   \n",
       "23135                         UgycItCNgwKO5RmnNaB4AaABAg              Alex Z   \n",
       "23136                         Ugwwlx0bJsUdM9iwim94AaABAg                 V B   \n",
       "\n",
       "       likes                                    cleaned_comment  \\\n",
       "0       3341  mo is back and this is honestly a conversation...   \n",
       "1          0  wisdom and compassion come with experience the...   \n",
       "2          0  yea and i noticed he has his notebook out for ...   \n",
       "3          0  jacque fresco was clearly years ahead of the c...   \n",
       "4          0                                         well said    \n",
       "...      ...                                                ...   \n",
       "23132      0                          they truly are delusional   \n",
       "23133      6                         it is beyond an emergency    \n",
       "23134      5  thank you for this video a very needed convers...   \n",
       "23135      0  disgusting trying to destroy the traditional f...   \n",
       "23136      1                                               dang   \n",
       "\n",
       "       vader_compound vader_label  label  \\\n",
       "0              0.9673    positive      1   \n",
       "1              0.9184    positive      1   \n",
       "2              0.4404    positive      1   \n",
       "3              0.8905    positive      1   \n",
       "4              0.2732    positive      1   \n",
       "...               ...         ...    ...   \n",
       "23132          0.4404    positive      1   \n",
       "23133         -0.3818    negative      0   \n",
       "23134          0.3612    positive      1   \n",
       "23135         -0.7845    negative      0   \n",
       "23136          0.0000    negative      0   \n",
       "\n",
       "                                                 comment  \n",
       "0      mo back honestly conversation missed please sh...  \n",
       "1      wisdom compassion come experience lack today w...  \n",
       "2      yea noticed ha notebook time thats good interv...  \n",
       "3      jacque fresco wa clearly year ahead curve venu...  \n",
       "4                                              well said  \n",
       "...                                                  ...  \n",
       "23132                                   truly delusional  \n",
       "23133                                   beyond emergency  \n",
       "23134             thank video needed conversation indeed  \n",
       "23135       disgusting trying destroy traditional family  \n",
       "23136                                               dang  \n",
       "\n",
       "[23137 rows x 8 columns]"
      ]
     },
     "execution_count": 37,
     "metadata": {},
     "output_type": "execute_result"
    }
   ],
   "source": [
    "df"
   ]
  },
  {
   "cell_type": "code",
   "execution_count": 32,
   "id": "cf5a3b38-43c8-47b2-8f97-c06f55915df0",
   "metadata": {},
   "outputs": [],
   "source": [
    "df.to_csv('data/pre_modelling.csv', index=False)"
   ]
  },
  {
   "cell_type": "markdown",
   "id": "baa40a11-adc7-4820-aef4-5e41f8188594",
   "metadata": {},
   "source": [
    "## 1.3 Function for model evaluation"
   ]
  },
  {
   "cell_type": "code",
   "execution_count": 33,
   "id": "3ba224a8-5d19-454e-a1eb-d5980860d2ba",
   "metadata": {},
   "outputs": [],
   "source": [
    "# Create a function for model evaluation metrics\n",
    "def model_metrics(model, X_test, y_test):\n",
    "    y_prediction = model.predict(X_test)\n",
    "    accuracy = accuracy_score(y_test, y_prediction)\n",
    "    print('Accuracy score: ', round(accuracy,4))\n",
    "    precision = precision_score(y_test, y_prediction)\n",
    "    print('Precision score: ', round(precision,4))\n",
    "    recall = recall_score(y_test, y_prediction)\n",
    "    print('Recall score: ', round(recall,4))\n",
    "    f1 = f1_score(y_test, y_prediction)\n",
    "    print('F1 score: ', round(f1,4))"
   ]
  },
  {
   "cell_type": "markdown",
   "id": "3694a960-02ca-44aa-8241-935b7a1d3965",
   "metadata": {},
   "source": [
    "## 1.4 Baseline Accuracy"
   ]
  },
  {
   "cell_type": "markdown",
   "id": "1e4d4013-63e7-4b68-8bc1-2610e2cc6b7e",
   "metadata": {},
   "source": [
    "> Baseline accuracy is benchmark against to assess whether my model performance is better than null model. "
   ]
  },
  {
   "cell_type": "code",
   "execution_count": 12,
   "id": "159a3e63-71bc-422a-b56a-ba939a520e14",
   "metadata": {},
   "outputs": [
    {
     "data": {
      "text/plain": [
       "0    0.528374\n",
       "1    0.471626\n",
       "Name: label, dtype: float64"
      ]
     },
     "execution_count": 12,
     "metadata": {},
     "output_type": "execute_result"
    }
   ],
   "source": [
    "# Baseline Accuracy as null model reference point\n",
    "df = pd.read_csv('data/pre_modelling.csv')\n",
    "df['label'].value_counts(normalize=True)"
   ]
  },
  {
   "cell_type": "markdown",
   "id": "9393c8cb-f65b-42f2-a2f8-a1c302bc6a45",
   "metadata": {},
   "source": [
    "> There are balanced dataset between positive and negative.  Hence no further action is required.\n",
    "\n",
    "> Next step is to train/test split the dataset into training and testing sets for vectorization, modelling and evaluation of performance.  "
   ]
  },
  {
   "cell_type": "markdown",
   "id": "c92a6914-2aff-4999-867a-b800863b0455",
   "metadata": {},
   "source": [
    "## 1.5 Train/Test Split"
   ]
  },
  {
   "cell_type": "markdown",
   "id": "ca32ffc4-be05-4c04-a5ab-19cf3c42b279",
   "metadata": {},
   "source": [
    "> Scikit-Learn Library 'train_test_split' is used to to split dataset into two parts, training sets and testing sets.\n",
    "\n",
    "> As my dataset consists of over 23,000 rows, there is sufficient for testing hence I chose to split 20% of the dataset for testing while the rest 80% for training the dataset.\n",
    "\n",
    "> Classification label 'positive' is set as 1, aim to assess whether comments are more receptive towards discussions on AI. "
   ]
  },
  {
   "cell_type": "code",
   "execution_count": 38,
   "id": "ef46caf2-9f8f-433d-98c2-abeb83f3d085",
   "metadata": {},
   "outputs": [],
   "source": [
    "# First, set up X and y.  \n",
    "X = df['comment']\n",
    "y = df['label']"
   ]
  },
  {
   "cell_type": "code",
   "execution_count": 39,
   "id": "1373d77c-a6bc-46f4-91f6-6d2bc2f71fe2",
   "metadata": {},
   "outputs": [],
   "source": [
    "# Split the data into the training and testing sets by 70:30.\n",
    "X_train, X_test, y_train, y_test = train_test_split(X,\n",
    "                                                    y,\n",
    "                                                    test_size=0.2,\n",
    "                                                    stratify=y,\n",
    "                                                    random_state=42)"
   ]
  },
  {
   "cell_type": "code",
   "execution_count": 40,
   "id": "e95d95b3-230d-4229-96a3-116ab9fb340b",
   "metadata": {},
   "outputs": [
    {
     "name": "stdout",
     "output_type": "stream",
     "text": [
      "The size of training and testing sets after Train/Test Split:\n",
      "X_train size: (18509,)\n",
      "X_test size: (4628,)\n",
      "y_train size: (18509,)\n",
      "y_train size: (4628,)\n"
     ]
    }
   ],
   "source": [
    "# Check the shape of training and testing sets.\n",
    "print(f'The size of training and testing sets after Train/Test Split:')\n",
    "print(f'X_train size: {X_train.shape}')\n",
    "print(f'X_test size: {X_test.shape}')\n",
    "print(f'y_train size: {y_train.shape}')\n",
    "print(f'y_train size: {y_test.shape}')"
   ]
  },
  {
   "cell_type": "markdown",
   "id": "3edc5e41-b0a7-450e-9447-88902ac71cca",
   "metadata": {},
   "source": [
    "# 3. Modelling"
   ]
  },
  {
   "cell_type": "markdown",
   "id": "c962b287-1ef5-4d02-9d20-75c5c3491bc1",
   "metadata": {},
   "source": [
    "## 3.1 TF-IDF Vectorizer and Multinomial Naive Bayes Model "
   ]
  },
  {
   "cell_type": "markdown",
   "id": "039e0e53-f4db-4745-be87-1f76880d68c6",
   "metadata": {},
   "source": [
    "> TF-IDF Vectorizer is chosen over Bag-of-Word, CountVectorizer or One Hot Encoding because:\n",
    "> 1. Discrete text representation in matrix form\n",
    "> 2. TF-IDF assigns weights to words that are important to one document, relative to all other documents.\n",
    "> 3. Premised on occurence of words in one document but don't occur in many other documents, contain more predictive power than those appearing in almost all docs.\n",
    "> 4. Penalize highly frequent words and low frequency words, hence reducing noise.  In a way, it has already performed Stop Words \n",
    "\n",
    "> MultinomialNB implements the naive Bayes algorithm for multinomially distributed data. It works best on text data classification for sentiment analysis because data can be represented by TF-IDF vector counts. And it is simple to implement with good interpretability. "
   ]
  },
  {
   "cell_type": "code",
   "execution_count": 41,
   "id": "2a8f1280-10b3-4723-820d-9dd89df5d6fe",
   "metadata": {},
   "outputs": [],
   "source": [
    "# Instantiate pipeline for TF-IDF Vectorizer as transformer and MultinomialNB classifier\n",
    "pipe1 = SklearnPipeline([\n",
    "    ('tvec', TfidfVectorizer()),  # Convert text to vectors\n",
    "    ('nb', MultinomialNB())     # Multinomial Naive Bayes classifier\n",
    "])"
   ]
  },
  {
   "cell_type": "code",
   "execution_count": 45,
   "id": "fad7b913-2387-4d5a-aa12-8ae5d9dd54b7",
   "metadata": {},
   "outputs": [],
   "source": [
    "# Set pipeline parameters for fine-tuning hyperparameters\n",
    "pipe1_params = {'tvec__min_df': [2],\n",
    "                'tvec__max_df': [0.98],\n",
    "                'tvec__ngram_range': [(1,1), (1,2)],\n",
    "                'nb__alpha': [ 10, 50]}"
   ]
  },
  {
   "cell_type": "code",
   "execution_count": 46,
   "id": "ceafd18d-035b-4de2-b895-977e842e2a7f",
   "metadata": {},
   "outputs": [],
   "source": [
    "# Instantiate GridSearchCV and fill in the hyperparameter tuning\n",
    "gs1 = GridSearchCV(pipe1,\n",
    "                   param_grid = pipe1_params, \n",
    "                   cv=5)      # 5-fold cross-validation."
   ]
  },
  {
   "cell_type": "code",
   "execution_count": 47,
   "id": "f235275b-e8c5-4370-bbf5-ce31b060d95e",
   "metadata": {},
   "outputs": [
    {
     "data": {
      "text/html": [
       "<style>#sk-container-id-1 {color: black;background-color: white;}#sk-container-id-1 pre{padding: 0;}#sk-container-id-1 div.sk-toggleable {background-color: white;}#sk-container-id-1 label.sk-toggleable__label {cursor: pointer;display: block;width: 100%;margin-bottom: 0;padding: 0.3em;box-sizing: border-box;text-align: center;}#sk-container-id-1 label.sk-toggleable__label-arrow:before {content: \"▸\";float: left;margin-right: 0.25em;color: #696969;}#sk-container-id-1 label.sk-toggleable__label-arrow:hover:before {color: black;}#sk-container-id-1 div.sk-estimator:hover label.sk-toggleable__label-arrow:before {color: black;}#sk-container-id-1 div.sk-toggleable__content {max-height: 0;max-width: 0;overflow: hidden;text-align: left;background-color: #f0f8ff;}#sk-container-id-1 div.sk-toggleable__content pre {margin: 0.2em;color: black;border-radius: 0.25em;background-color: #f0f8ff;}#sk-container-id-1 input.sk-toggleable__control:checked~div.sk-toggleable__content {max-height: 200px;max-width: 100%;overflow: auto;}#sk-container-id-1 input.sk-toggleable__control:checked~label.sk-toggleable__label-arrow:before {content: \"▾\";}#sk-container-id-1 div.sk-estimator input.sk-toggleable__control:checked~label.sk-toggleable__label {background-color: #d4ebff;}#sk-container-id-1 div.sk-label input.sk-toggleable__control:checked~label.sk-toggleable__label {background-color: #d4ebff;}#sk-container-id-1 input.sk-hidden--visually {border: 0;clip: rect(1px 1px 1px 1px);clip: rect(1px, 1px, 1px, 1px);height: 1px;margin: -1px;overflow: hidden;padding: 0;position: absolute;width: 1px;}#sk-container-id-1 div.sk-estimator {font-family: monospace;background-color: #f0f8ff;border: 1px dotted black;border-radius: 0.25em;box-sizing: border-box;margin-bottom: 0.5em;}#sk-container-id-1 div.sk-estimator:hover {background-color: #d4ebff;}#sk-container-id-1 div.sk-parallel-item::after {content: \"\";width: 100%;border-bottom: 1px solid gray;flex-grow: 1;}#sk-container-id-1 div.sk-label:hover label.sk-toggleable__label {background-color: #d4ebff;}#sk-container-id-1 div.sk-serial::before {content: \"\";position: absolute;border-left: 1px solid gray;box-sizing: border-box;top: 0;bottom: 0;left: 50%;z-index: 0;}#sk-container-id-1 div.sk-serial {display: flex;flex-direction: column;align-items: center;background-color: white;padding-right: 0.2em;padding-left: 0.2em;position: relative;}#sk-container-id-1 div.sk-item {position: relative;z-index: 1;}#sk-container-id-1 div.sk-parallel {display: flex;align-items: stretch;justify-content: center;background-color: white;position: relative;}#sk-container-id-1 div.sk-item::before, #sk-container-id-1 div.sk-parallel-item::before {content: \"\";position: absolute;border-left: 1px solid gray;box-sizing: border-box;top: 0;bottom: 0;left: 50%;z-index: -1;}#sk-container-id-1 div.sk-parallel-item {display: flex;flex-direction: column;z-index: 1;position: relative;background-color: white;}#sk-container-id-1 div.sk-parallel-item:first-child::after {align-self: flex-end;width: 50%;}#sk-container-id-1 div.sk-parallel-item:last-child::after {align-self: flex-start;width: 50%;}#sk-container-id-1 div.sk-parallel-item:only-child::after {width: 0;}#sk-container-id-1 div.sk-dashed-wrapped {border: 1px dashed gray;margin: 0 0.4em 0.5em 0.4em;box-sizing: border-box;padding-bottom: 0.4em;background-color: white;}#sk-container-id-1 div.sk-label label {font-family: monospace;font-weight: bold;display: inline-block;line-height: 1.2em;}#sk-container-id-1 div.sk-label-container {text-align: center;}#sk-container-id-1 div.sk-container {/* jupyter's `normalize.less` sets `[hidden] { display: none; }` but bootstrap.min.css set `[hidden] { display: none !important; }` so we also need the `!important` here to be able to override the default hidden behavior on the sphinx rendered scikit-learn.org. See: https://github.com/scikit-learn/scikit-learn/issues/21755 */display: inline-block !important;position: relative;}#sk-container-id-1 div.sk-text-repr-fallback {display: none;}</style><div id=\"sk-container-id-1\" class=\"sk-top-container\"><div class=\"sk-text-repr-fallback\"><pre>GridSearchCV(cv=5,\n",
       "             estimator=Pipeline(steps=[(&#x27;tvec&#x27;, TfidfVectorizer()),\n",
       "                                       (&#x27;nb&#x27;, MultinomialNB())]),\n",
       "             param_grid={&#x27;nb__alpha&#x27;: [10, 50], &#x27;tvec__max_df&#x27;: [0.98],\n",
       "                         &#x27;tvec__min_df&#x27;: [2],\n",
       "                         &#x27;tvec__ngram_range&#x27;: [(1, 1), (1, 2)]})</pre><b>In a Jupyter environment, please rerun this cell to show the HTML representation or trust the notebook. <br />On GitHub, the HTML representation is unable to render, please try loading this page with nbviewer.org.</b></div><div class=\"sk-container\" hidden><div class=\"sk-item sk-dashed-wrapped\"><div class=\"sk-label-container\"><div class=\"sk-label sk-toggleable\"><input class=\"sk-toggleable__control sk-hidden--visually\" id=\"sk-estimator-id-1\" type=\"checkbox\" ><label for=\"sk-estimator-id-1\" class=\"sk-toggleable__label sk-toggleable__label-arrow\">GridSearchCV</label><div class=\"sk-toggleable__content\"><pre>GridSearchCV(cv=5,\n",
       "             estimator=Pipeline(steps=[(&#x27;tvec&#x27;, TfidfVectorizer()),\n",
       "                                       (&#x27;nb&#x27;, MultinomialNB())]),\n",
       "             param_grid={&#x27;nb__alpha&#x27;: [10, 50], &#x27;tvec__max_df&#x27;: [0.98],\n",
       "                         &#x27;tvec__min_df&#x27;: [2],\n",
       "                         &#x27;tvec__ngram_range&#x27;: [(1, 1), (1, 2)]})</pre></div></div></div><div class=\"sk-parallel\"><div class=\"sk-parallel-item\"><div class=\"sk-item\"><div class=\"sk-label-container\"><div class=\"sk-label sk-toggleable\"><input class=\"sk-toggleable__control sk-hidden--visually\" id=\"sk-estimator-id-2\" type=\"checkbox\" ><label for=\"sk-estimator-id-2\" class=\"sk-toggleable__label sk-toggleable__label-arrow\">estimator: Pipeline</label><div class=\"sk-toggleable__content\"><pre>Pipeline(steps=[(&#x27;tvec&#x27;, TfidfVectorizer()), (&#x27;nb&#x27;, MultinomialNB())])</pre></div></div></div><div class=\"sk-serial\"><div class=\"sk-item\"><div class=\"sk-serial\"><div class=\"sk-item\"><div class=\"sk-estimator sk-toggleable\"><input class=\"sk-toggleable__control sk-hidden--visually\" id=\"sk-estimator-id-3\" type=\"checkbox\" ><label for=\"sk-estimator-id-3\" class=\"sk-toggleable__label sk-toggleable__label-arrow\">TfidfVectorizer</label><div class=\"sk-toggleable__content\"><pre>TfidfVectorizer()</pre></div></div></div><div class=\"sk-item\"><div class=\"sk-estimator sk-toggleable\"><input class=\"sk-toggleable__control sk-hidden--visually\" id=\"sk-estimator-id-4\" type=\"checkbox\" ><label for=\"sk-estimator-id-4\" class=\"sk-toggleable__label sk-toggleable__label-arrow\">MultinomialNB</label><div class=\"sk-toggleable__content\"><pre>MultinomialNB()</pre></div></div></div></div></div></div></div></div></div></div></div></div>"
      ],
      "text/plain": [
       "GridSearchCV(cv=5,\n",
       "             estimator=Pipeline(steps=[('tvec', TfidfVectorizer()),\n",
       "                                       ('nb', MultinomialNB())]),\n",
       "             param_grid={'nb__alpha': [10, 50], 'tvec__max_df': [0.98],\n",
       "                         'tvec__min_df': [2],\n",
       "                         'tvec__ngram_range': [(1, 1), (1, 2)]})"
      ]
     },
     "execution_count": 47,
     "metadata": {},
     "output_type": "execute_result"
    }
   ],
   "source": [
    "# Train model\n",
    "gs1.fit(X_train, y_train)"
   ]
  },
  {
   "cell_type": "markdown",
   "id": "448efe36-b854-4bd5-a365-6156717232bc",
   "metadata": {
    "jp-MarkdownHeadingCollapsed": true
   },
   "source": [
    "> Model Evaluation"
   ]
  },
  {
   "cell_type": "code",
   "execution_count": 48,
   "id": "9e4e44f3-b53d-4774-93da-2957ad1801c0",
   "metadata": {},
   "outputs": [
    {
     "name": "stdout",
     "output_type": "stream",
     "text": [
      "Accuracy score:  0.8419\n",
      "Precision score:  0.8248\n",
      "Recall score:  0.8441\n",
      "F1 score:  0.8343\n"
     ]
    }
   ],
   "source": [
    "# Evaluate train model\n",
    "model_metrics(gs1, X_train, y_train)"
   ]
  },
  {
   "cell_type": "code",
   "execution_count": 49,
   "id": "c130f673-8eb7-4bfc-a387-e4b195585521",
   "metadata": {},
   "outputs": [
    {
     "name": "stdout",
     "output_type": "stream",
     "text": [
      "Accuracy score:  0.7928\n",
      "Precision score:  0.7661\n",
      "Recall score:  0.8071\n",
      "F1 score:  0.7861\n"
     ]
    }
   ],
   "source": [
    "# Validate with test set \n",
    "model_metrics(gs1, X_test, y_test)"
   ]
  },
  {
   "cell_type": "code",
   "execution_count": 50,
   "id": "ce8a3369-1fe2-4ca8-a203-d3f9b992dcb8",
   "metadata": {},
   "outputs": [
    {
     "data": {
      "text/plain": [
       "<sklearn.metrics._plot.confusion_matrix.ConfusionMatrixDisplay at 0x2ab8efa41c0>"
      ]
     },
     "execution_count": 50,
     "metadata": {},
     "output_type": "execute_result"
    },
    {
     "data": {
      "image/png": "[encoded data removed]",
      "text/plain": [
       "<Figure size 640x480 with 2 Axes>"
      ]
     },
     "metadata": {},
     "output_type": "display_data"
    }
   ],
   "source": [
    "# View confusion matrix\n",
    "y_pred_gs1 = gs1.predict(X_test)\n",
    "cm = confusion_matrix(y_test, y_pred_gs1)\n",
    "disp = ConfusionMatrixDisplay(confusion_matrix=cm, display_labels=['negative','positive'])\n",
    "disp.plot()"
   ]
  },
  {
   "cell_type": "code",
   "execution_count": 51,
   "id": "7333298c-9f32-4267-a962-0ee3e1003109",
   "metadata": {},
   "outputs": [
    {
     "name": "stdout",
     "output_type": "stream",
     "text": [
      "ROC-AUC score: 0.8752560921116603\n",
      "Pipeline(steps=[('tvec', TfidfVectorizer(max_df=0.98, min_df=2)),\n",
      "                ('nb', MultinomialNB(alpha=10))])\n"
     ]
    }
   ],
   "source": [
    "# Check ROC-AUC and the estimators' parameters\n",
    "print(f'ROC-AUC score: {roc_auc_score(y_test, gs1.predict_proba(X_test)[:,1])}')\n",
    "print(gs1.best_estimator_)"
   ]
  },
  {
   "cell_type": "code",
   "execution_count": 52,
   "id": "b04c805b-034b-4b02-8ce3-a5d4745045fd",
   "metadata": {},
   "outputs": [
    {
     "data": {
      "image/png": "[encoded data removed]",
      "text/plain": [
       "<Figure size 640x480 with 1 Axes>"
      ]
     },
     "metadata": {},
     "output_type": "display_data"
    }
   ],
   "source": [
    "# Plot ROC curve\n",
    "RocCurveDisplay.from_estimator(gs1, X_test, y_test)\n",
    "plt.plot([0, 1], [0, 1], label=\"chance level (AUC = 0.5)\")\n",
    "plt.xlabel(\"False Positive Rate\")\n",
    "plt.ylabel(\"True Positive Rate\")\n",
    "plt.title('TF-IDF Vec and MultinomialNB')\n",
    "plt.legend()\n",
    "plt.show()"
   ]
  },
  {
   "cell_type": "markdown",
   "id": "0040f894-6e6d-4cce-97b5-2a002fd5e841",
   "metadata": {},
   "source": [
    "> Interpretation:\n",
    "> 1. the training score and test score of metrics vary within the range of 5%-7%, hence MultinomialNB model perform well at alpha 10 generated through GridSearchCV, where True Positive Rate is optimized.\n",
    "> 2. ROC-AUC score is 0.84 which is pretty good.\n",
    "> 3. As my data set is relatively balanced with 53% negative '0' vs 47% positive '1', hence accuracy score can give a good picture of model performance.\n",
    "> 4. This model can be used to test on other video comments. However, I would like to test the training sets on other models to see if any better model. "
   ]
  },
  {
   "cell_type": "markdown",
   "id": "d2fe36b9-c7de-4ad7-8c5a-8b682c33cd59",
   "metadata": {},
   "source": [
    "## 3.2 TF-IDF Vectorizer and Random Forest Model"
   ]
  },
  {
   "cell_type": "markdown",
   "id": "bcaa29d5-d145-48dc-bf51-66391e7147c2",
   "metadata": {},
   "source": [
    "> Random forest model operate as an ensemble of individual model (tree) through random resampling. Each model spits out a class prediction and the class with the most votes becomes the model’s prediction, for classification problem.  It average out the variance hence low bias and moderate variance.\n",
    "\n",
    "> Premised on the wisdom of crowds.  Bagged decisions trees tend to outperform single decision trees.  \n",
    "\n",
    "> Require little pre-processing and allow parallel runs, hence it is great with high dimensionality.  It might work well for my sentiment analysis because Youtube video comments are unstructured texts, and the dimension can get over-blown if vectorize/OHE. "
   ]
  },
  {
   "cell_type": "code",
   "execution_count": 53,
   "id": "9b893595-5fe2-46be-8d11-34055f86998c",
   "metadata": {},
   "outputs": [],
   "source": [
    "# Instantiate pipeline for TF-IDF vectorizer as transformer and RandomForest as classifier\n",
    "pipe2 = SklearnPipeline([('tvec', TfidfVectorizer()),\n",
    "                         ('rf', RandomForestClassifier())])"
   ]
  },
  {
   "cell_type": "code",
   "execution_count": 54,
   "id": "956ed66f-a473-4999-bb11-b999e007e866",
   "metadata": {},
   "outputs": [],
   "source": [
    "# Setting pipe parameters for fine-tuning \n",
    "pipe2_params = {'tvec__min_df': [2],\n",
    "                'tvec__max_df': [0.98],\n",
    "                'tvec__ngram_range': [(1,1), (1,2)],\n",
    "                'rf__n_estimators': [100, 150, 200],\n",
    "                'rf__max_depth': [5, 10, 20, 25]}"
   ]
  },
  {
   "cell_type": "code",
   "execution_count": 55,
   "id": "f649a013-3fda-41ab-bf44-e08b9df3152a",
   "metadata": {},
   "outputs": [],
   "source": [
    "# Instantiate Gridsearch\n",
    "gs2 = GridSearchCV(pipe2,\n",
    "                   param_grid = pipe2_params,\n",
    "                   cv=5)"
   ]
  },
  {
   "cell_type": "code",
   "execution_count": 56,
   "id": "20f74398-9142-4b87-ba5e-131624af4f6a",
   "metadata": {},
   "outputs": [
    {
     "data": {
      "text/html": [
       "<style>#sk-container-id-2 {color: black;background-color: white;}#sk-container-id-2 pre{padding: 0;}#sk-container-id-2 div.sk-toggleable {background-color: white;}#sk-container-id-2 label.sk-toggleable__label {cursor: pointer;display: block;width: 100%;margin-bottom: 0;padding: 0.3em;box-sizing: border-box;text-align: center;}#sk-container-id-2 label.sk-toggleable__label-arrow:before {content: \"▸\";float: left;margin-right: 0.25em;color: #696969;}#sk-container-id-2 label.sk-toggleable__label-arrow:hover:before {color: black;}#sk-container-id-2 div.sk-estimator:hover label.sk-toggleable__label-arrow:before {color: black;}#sk-container-id-2 div.sk-toggleable__content {max-height: 0;max-width: 0;overflow: hidden;text-align: left;background-color: #f0f8ff;}#sk-container-id-2 div.sk-toggleable__content pre {margin: 0.2em;color: black;border-radius: 0.25em;background-color: #f0f8ff;}#sk-container-id-2 input.sk-toggleable__control:checked~div.sk-toggleable__content {max-height: 200px;max-width: 100%;overflow: auto;}#sk-container-id-2 input.sk-toggleable__control:checked~label.sk-toggleable__label-arrow:before {content: \"▾\";}#sk-container-id-2 div.sk-estimator input.sk-toggleable__control:checked~label.sk-toggleable__label {background-color: #d4ebff;}#sk-container-id-2 div.sk-label input.sk-toggleable__control:checked~label.sk-toggleable__label {background-color: #d4ebff;}#sk-container-id-2 input.sk-hidden--visually {border: 0;clip: rect(1px 1px 1px 1px);clip: rect(1px, 1px, 1px, 1px);height: 1px;margin: -1px;overflow: hidden;padding: 0;position: absolute;width: 1px;}#sk-container-id-2 div.sk-estimator {font-family: monospace;background-color: #f0f8ff;border: 1px dotted black;border-radius: 0.25em;box-sizing: border-box;margin-bottom: 0.5em;}#sk-container-id-2 div.sk-estimator:hover {background-color: #d4ebff;}#sk-container-id-2 div.sk-parallel-item::after {content: \"\";width: 100%;border-bottom: 1px solid gray;flex-grow: 1;}#sk-container-id-2 div.sk-label:hover label.sk-toggleable__label {background-color: #d4ebff;}#sk-container-id-2 div.sk-serial::before {content: \"\";position: absolute;border-left: 1px solid gray;box-sizing: border-box;top: 0;bottom: 0;left: 50%;z-index: 0;}#sk-container-id-2 div.sk-serial {display: flex;flex-direction: column;align-items: center;background-color: white;padding-right: 0.2em;padding-left: 0.2em;position: relative;}#sk-container-id-2 div.sk-item {position: relative;z-index: 1;}#sk-container-id-2 div.sk-parallel {display: flex;align-items: stretch;justify-content: center;background-color: white;position: relative;}#sk-container-id-2 div.sk-item::before, #sk-container-id-2 div.sk-parallel-item::before {content: \"\";position: absolute;border-left: 1px solid gray;box-sizing: border-box;top: 0;bottom: 0;left: 50%;z-index: -1;}#sk-container-id-2 div.sk-parallel-item {display: flex;flex-direction: column;z-index: 1;position: relative;background-color: white;}#sk-container-id-2 div.sk-parallel-item:first-child::after {align-self: flex-end;width: 50%;}#sk-container-id-2 div.sk-parallel-item:last-child::after {align-self: flex-start;width: 50%;}#sk-container-id-2 div.sk-parallel-item:only-child::after {width: 0;}#sk-container-id-2 div.sk-dashed-wrapped {border: 1px dashed gray;margin: 0 0.4em 0.5em 0.4em;box-sizing: border-box;padding-bottom: 0.4em;background-color: white;}#sk-container-id-2 div.sk-label label {font-family: monospace;font-weight: bold;display: inline-block;line-height: 1.2em;}#sk-container-id-2 div.sk-label-container {text-align: center;}#sk-container-id-2 div.sk-container {/* jupyter's `normalize.less` sets `[hidden] { display: none; }` but bootstrap.min.css set `[hidden] { display: none !important; }` so we also need the `!important` here to be able to override the default hidden behavior on the sphinx rendered scikit-learn.org. See: https://github.com/scikit-learn/scikit-learn/issues/21755 */display: inline-block !important;position: relative;}#sk-container-id-2 div.sk-text-repr-fallback {display: none;}</style><div id=\"sk-container-id-2\" class=\"sk-top-container\"><div class=\"sk-text-repr-fallback\"><pre>GridSearchCV(cv=5,\n",
       "             estimator=Pipeline(steps=[(&#x27;tvec&#x27;, TfidfVectorizer()),\n",
       "                                       (&#x27;rf&#x27;, RandomForestClassifier())]),\n",
       "             param_grid={&#x27;rf__max_depth&#x27;: [5, 10, 20, 25],\n",
       "                         &#x27;rf__n_estimators&#x27;: [100, 150, 200],\n",
       "                         &#x27;tvec__max_df&#x27;: [0.98], &#x27;tvec__min_df&#x27;: [2],\n",
       "                         &#x27;tvec__ngram_range&#x27;: [(1, 1), (1, 2)]})</pre><b>In a Jupyter environment, please rerun this cell to show the HTML representation or trust the notebook. <br />On GitHub, the HTML representation is unable to render, please try loading this page with nbviewer.org.</b></div><div class=\"sk-container\" hidden><div class=\"sk-item sk-dashed-wrapped\"><div class=\"sk-label-container\"><div class=\"sk-label sk-toggleable\"><input class=\"sk-toggleable__control sk-hidden--visually\" id=\"sk-estimator-id-5\" type=\"checkbox\" ><label for=\"sk-estimator-id-5\" class=\"sk-toggleable__label sk-toggleable__label-arrow\">GridSearchCV</label><div class=\"sk-toggleable__content\"><pre>GridSearchCV(cv=5,\n",
       "             estimator=Pipeline(steps=[(&#x27;tvec&#x27;, TfidfVectorizer()),\n",
       "                                       (&#x27;rf&#x27;, RandomForestClassifier())]),\n",
       "             param_grid={&#x27;rf__max_depth&#x27;: [5, 10, 20, 25],\n",
       "                         &#x27;rf__n_estimators&#x27;: [100, 150, 200],\n",
       "                         &#x27;tvec__max_df&#x27;: [0.98], &#x27;tvec__min_df&#x27;: [2],\n",
       "                         &#x27;tvec__ngram_range&#x27;: [(1, 1), (1, 2)]})</pre></div></div></div><div class=\"sk-parallel\"><div class=\"sk-parallel-item\"><div class=\"sk-item\"><div class=\"sk-label-container\"><div class=\"sk-label sk-toggleable\"><input class=\"sk-toggleable__control sk-hidden--visually\" id=\"sk-estimator-id-6\" type=\"checkbox\" ><label for=\"sk-estimator-id-6\" class=\"sk-toggleable__label sk-toggleable__label-arrow\">estimator: Pipeline</label><div class=\"sk-toggleable__content\"><pre>Pipeline(steps=[(&#x27;tvec&#x27;, TfidfVectorizer()), (&#x27;rf&#x27;, RandomForestClassifier())])</pre></div></div></div><div class=\"sk-serial\"><div class=\"sk-item\"><div class=\"sk-serial\"><div class=\"sk-item\"><div class=\"sk-estimator sk-toggleable\"><input class=\"sk-toggleable__control sk-hidden--visually\" id=\"sk-estimator-id-7\" type=\"checkbox\" ><label for=\"sk-estimator-id-7\" class=\"sk-toggleable__label sk-toggleable__label-arrow\">TfidfVectorizer</label><div class=\"sk-toggleable__content\"><pre>TfidfVectorizer()</pre></div></div></div><div class=\"sk-item\"><div class=\"sk-estimator sk-toggleable\"><input class=\"sk-toggleable__control sk-hidden--visually\" id=\"sk-estimator-id-8\" type=\"checkbox\" ><label for=\"sk-estimator-id-8\" class=\"sk-toggleable__label sk-toggleable__label-arrow\">RandomForestClassifier</label><div class=\"sk-toggleable__content\"><pre>RandomForestClassifier()</pre></div></div></div></div></div></div></div></div></div></div></div></div>"
      ],
      "text/plain": [
       "GridSearchCV(cv=5,\n",
       "             estimator=Pipeline(steps=[('tvec', TfidfVectorizer()),\n",
       "                                       ('rf', RandomForestClassifier())]),\n",
       "             param_grid={'rf__max_depth': [5, 10, 20, 25],\n",
       "                         'rf__n_estimators': [100, 150, 200],\n",
       "                         'tvec__max_df': [0.98], 'tvec__min_df': [2],\n",
       "                         'tvec__ngram_range': [(1, 1), (1, 2)]})"
      ]
     },
     "execution_count": 56,
     "metadata": {},
     "output_type": "execute_result"
    }
   ],
   "source": [
    "# Train model\n",
    "gs2.fit(X_train,y_train)"
   ]
  },
  {
   "cell_type": "markdown",
   "id": "590268b2-af79-4359-8e4c-c1a6d4a27ed6",
   "metadata": {
    "jp-MarkdownHeadingCollapsed": true
   },
   "source": [
    "> Model Evaluation"
   ]
  },
  {
   "cell_type": "code",
   "execution_count": 57,
   "id": "e7c28c33-fed5-4e7f-b145-9a7c59f37707",
   "metadata": {},
   "outputs": [
    {
     "name": "stdout",
     "output_type": "stream",
     "text": [
      "Accuracy score:  0.8223\n",
      "Precision score:  0.9795\n",
      "Recall score:  0.6365\n",
      "F1 score:  0.7716\n"
     ]
    }
   ],
   "source": [
    "# Evaluate train model\n",
    "model_metrics(gs2, X_train, y_train)"
   ]
  },
  {
   "cell_type": "code",
   "execution_count": 58,
   "id": "1bcaa23a-61c0-43b7-ad71-0e43c2e1264d",
   "metadata": {},
   "outputs": [
    {
     "name": "stdout",
     "output_type": "stream",
     "text": [
      "Accuracy score:  0.7239\n",
      "Precision score:  0.7895\n",
      "Recall score:  0.5653\n",
      "F1 score:  0.6588\n"
     ]
    }
   ],
   "source": [
    "# Validate with test set \n",
    "model_metrics(gs2, X_test, y_test)"
   ]
  },
  {
   "cell_type": "code",
   "execution_count": 59,
   "id": "65088707-d93f-4dbb-b5cf-86008cafd756",
   "metadata": {},
   "outputs": [
    {
     "data": {
      "text/plain": [
       "<sklearn.metrics._plot.confusion_matrix.ConfusionMatrixDisplay at 0x2ab9ca096a0>"
      ]
     },
     "execution_count": 59,
     "metadata": {},
     "output_type": "execute_result"
    },
    {
     "data": {
      "image/png": "[encoded data removed]",
      "text/plain": [
       "<Figure size 640x480 with 2 Axes>"
      ]
     },
     "metadata": {},
     "output_type": "display_data"
    }
   ],
   "source": [
    "# View confusion matrix\n",
    "y_pred_gs2 = gs2.predict(X_test)\n",
    "cm = confusion_matrix(y_test, y_pred_gs2)\n",
    "disp = ConfusionMatrixDisplay(confusion_matrix=cm, display_labels=['negative','positive'])\n",
    "disp.plot()"
   ]
  },
  {
   "cell_type": "code",
   "execution_count": 60,
   "id": "18473ed6-9e1a-4982-89e0-1fab7fe8c111",
   "metadata": {},
   "outputs": [
    {
     "name": "stdout",
     "output_type": "stream",
     "text": [
      "ROC-AUC score: 0.8290922512405303\n",
      "Pipeline(steps=[('tvec', TfidfVectorizer(max_df=0.98, min_df=2)),\n",
      "                ('rf', RandomForestClassifier(max_depth=25, n_estimators=200))])\n"
     ]
    }
   ],
   "source": [
    "# Check ROC-AUC and the estimators' parameters\n",
    "print(f'ROC-AUC score: {roc_auc_score(y_test, gs2.predict_proba(X_test)[:,1])}')\n",
    "print(gs2.best_estimator_)"
   ]
  },
  {
   "cell_type": "code",
   "execution_count": 61,
   "id": "47728283-f655-4a4f-ba75-1463a994418d",
   "metadata": {},
   "outputs": [
    {
     "data": {
      "image/png": "[encoded data removed]",
      "text/plain": [
       "<Figure size 640x480 with 1 Axes>"
      ]
     },
     "metadata": {},
     "output_type": "display_data"
    }
   ],
   "source": [
    "# Plot ROC curve\n",
    "RocCurveDisplay.from_estimator(gs2, X_test, y_test)\n",
    "plt.plot([0, 1], [0, 1], label=\"chance level (AUC = 0.5)\")\n",
    "plt.xlabel(\"False Positive Rate\")\n",
    "plt.ylabel(\"True Positive Rate\")\n",
    "plt.title('TF-IDF Vec and Random Forest')\n",
    "plt.legend()\n",
    "plt.show()"
   ]
  },
  {
   "cell_type": "markdown",
   "id": "6724ebdd-a5bc-40e4-8bf1-cc851c7f12a0",
   "metadata": {},
   "source": [
    "> Interpretation:\n",
    "> 1. Random Forest optimized through GridSearchCV, with better Precision Score. It means it predict negative comments better than Naive Bayes.\n",
    "> 2. It overfits hence hyperparameters tuning (esp. add custom stop words) is required and it takes time (computer memory) to process. \n",
    "> 3. Model interpretability is not ideal, like a black box. "
   ]
  },
  {
   "cell_type": "code",
   "execution_count": 62,
   "id": "751cf0b3-442c-4112-a6f0-e2b21df52393",
   "metadata": {},
   "outputs": [
    {
     "data": {
      "text/html": [
       "<div>\n",
       "<style scoped>\n",
       "    .dataframe tbody tr th:only-of-type {\n",
       "        vertical-align: middle;\n",
       "    }\n",
       "\n",
       "    .dataframe tbody tr th {\n",
       "        vertical-align: top;\n",
       "    }\n",
       "\n",
       "    .dataframe thead th {\n",
       "        text-align: right;\n",
       "    }\n",
       "</style>\n",
       "<table border=\"1\" class=\"dataframe\">\n",
       "  <thead>\n",
       "    <tr style=\"text-align: right;\">\n",
       "      <th></th>\n",
       "      <th>feature</th>\n",
       "      <th>importance</th>\n",
       "    </tr>\n",
       "  </thead>\n",
       "  <tbody>\n",
       "    <tr>\n",
       "      <th>6275</th>\n",
       "      <td>love</td>\n",
       "      <td>0.027780</td>\n",
       "    </tr>\n",
       "    <tr>\n",
       "      <th>10494</th>\n",
       "      <td>thank</td>\n",
       "      <td>0.021835</td>\n",
       "    </tr>\n",
       "    <tr>\n",
       "      <th>1006</th>\n",
       "      <td>best</td>\n",
       "      <td>0.018766</td>\n",
       "    </tr>\n",
       "    <tr>\n",
       "      <th>6155</th>\n",
       "      <td>like</td>\n",
       "      <td>0.018460</td>\n",
       "    </tr>\n",
       "    <tr>\n",
       "      <th>5574</th>\n",
       "      <td>intelligence</td>\n",
       "      <td>0.017658</td>\n",
       "    </tr>\n",
       "    <tr>\n",
       "      <th>4612</th>\n",
       "      <td>great</td>\n",
       "      <td>0.016923</td>\n",
       "    </tr>\n",
       "    <tr>\n",
       "      <th>4530</th>\n",
       "      <td>good</td>\n",
       "      <td>0.014737</td>\n",
       "    </tr>\n",
       "    <tr>\n",
       "      <th>4507</th>\n",
       "      <td>god</td>\n",
       "      <td>0.012881</td>\n",
       "    </tr>\n",
       "    <tr>\n",
       "      <th>5575</th>\n",
       "      <td>intelligent</td>\n",
       "      <td>0.012595</td>\n",
       "    </tr>\n",
       "    <tr>\n",
       "      <th>10499</th>\n",
       "      <td>thanks</td>\n",
       "      <td>0.010834</td>\n",
       "    </tr>\n",
       "  </tbody>\n",
       "</table>\n",
       "</div>"
      ],
      "text/plain": [
       "            feature  importance\n",
       "6275           love    0.027780\n",
       "10494         thank    0.021835\n",
       "1006           best    0.018766\n",
       "6155           like    0.018460\n",
       "5574   intelligence    0.017658\n",
       "4612          great    0.016923\n",
       "4530           good    0.014737\n",
       "4507            god    0.012881\n",
       "5575    intelligent    0.012595\n",
       "10499        thanks    0.010834"
      ]
     },
     "execution_count": 62,
     "metadata": {},
     "output_type": "execute_result"
    }
   ],
   "source": [
    "# Extract the model's feature importances by Gini impurity \n",
    "rf = gs2.best_estimator_.named_steps['rf']\n",
    "feature_importances = rf.feature_importances_\n",
    "\n",
    "# Getting the feature names \n",
    "tvec = gs2.best_estimator_.named_steps['tvec']\n",
    "feature_names = tvec.get_feature_names_out()\n",
    "\n",
    "# display the feature importances\n",
    "fi_df = pd.DataFrame({'feature': feature_names, 'importance': feature_importances})\n",
    "fi_df.sort_values(by='importance', ascending=False, inplace=True)\n",
    "fi_df.head(10)"
   ]
  },
  {
   "cell_type": "markdown",
   "id": "159b0875-f530-4822-b4f6-d70556b8805a",
   "metadata": {},
   "source": [
    "## 3.3 TF-IDF Vectorizer and Logistic Regression Model"
   ]
  },
  {
   "cell_type": "markdown",
   "id": "e5ddbba9-e199-476e-8b6b-aa8bd272ce7c",
   "metadata": {},
   "source": [
    "> Logistic Regression works well on classification of sentiment analysis with its interpretability.\n",
    "\n",
    "> It can interpret model coefficients as indicators of feature importance.\n",
    "\n",
    "> Regularization to avoid overfitting. "
   ]
  },
  {
   "cell_type": "code",
   "execution_count": 63,
   "id": "07f32153-839c-4043-b969-5d17b51bd3c9",
   "metadata": {},
   "outputs": [],
   "source": [
    "# Instantiate pipeline for TF-IDF vectorizer as transformer and Logistic Regression as classifier\n",
    "pipe3 = SklearnPipeline([('tvec', TfidfVectorizer()),\n",
    "                         ('lr', LogisticRegression())])"
   ]
  },
  {
   "cell_type": "code",
   "execution_count": 64,
   "id": "3d09cd79-8989-4269-b247-19c10283e3ec",
   "metadata": {},
   "outputs": [],
   "source": [
    "# Setting pipe parameters for fine-tuning \n",
    "pipe3_params = {'tvec__min_df': [2],\n",
    "                'tvec__max_df': [0.98],\n",
    "                'tvec__ngram_range': [(1,1), (1,2)],\n",
    "                'lr__C': [0.5,1,3,5,10],\n",
    "                'lr__solver': ['liblinear'],\n",
    "                'lr__max_iter': [1000,2000]}"
   ]
  },
  {
   "cell_type": "code",
   "execution_count": 65,
   "id": "1014ebd2-f8f7-4632-9e94-66b3130a027b",
   "metadata": {},
   "outputs": [],
   "source": [
    "# Instantiate Gridsearch\n",
    "gs3 = GridSearchCV(pipe3,\n",
    "                   param_grid = pipe3_params,\n",
    "                   cv=5)"
   ]
  },
  {
   "cell_type": "code",
   "execution_count": 66,
   "id": "a39b7a23-e47e-4ad0-bfaa-1850ac93ae6e",
   "metadata": {},
   "outputs": [
    {
     "data": {
      "text/html": [
       "<style>#sk-container-id-3 {color: black;background-color: white;}#sk-container-id-3 pre{padding: 0;}#sk-container-id-3 div.sk-toggleable {background-color: white;}#sk-container-id-3 label.sk-toggleable__label {cursor: pointer;display: block;width: 100%;margin-bottom: 0;padding: 0.3em;box-sizing: border-box;text-align: center;}#sk-container-id-3 label.sk-toggleable__label-arrow:before {content: \"▸\";float: left;margin-right: 0.25em;color: #696969;}#sk-container-id-3 label.sk-toggleable__label-arrow:hover:before {color: black;}#sk-container-id-3 div.sk-estimator:hover label.sk-toggleable__label-arrow:before {color: black;}#sk-container-id-3 div.sk-toggleable__content {max-height: 0;max-width: 0;overflow: hidden;text-align: left;background-color: #f0f8ff;}#sk-container-id-3 div.sk-toggleable__content pre {margin: 0.2em;color: black;border-radius: 0.25em;background-color: #f0f8ff;}#sk-container-id-3 input.sk-toggleable__control:checked~div.sk-toggleable__content {max-height: 200px;max-width: 100%;overflow: auto;}#sk-container-id-3 input.sk-toggleable__control:checked~label.sk-toggleable__label-arrow:before {content: \"▾\";}#sk-container-id-3 div.sk-estimator input.sk-toggleable__control:checked~label.sk-toggleable__label {background-color: #d4ebff;}#sk-container-id-3 div.sk-label input.sk-toggleable__control:checked~label.sk-toggleable__label {background-color: #d4ebff;}#sk-container-id-3 input.sk-hidden--visually {border: 0;clip: rect(1px 1px 1px 1px);clip: rect(1px, 1px, 1px, 1px);height: 1px;margin: -1px;overflow: hidden;padding: 0;position: absolute;width: 1px;}#sk-container-id-3 div.sk-estimator {font-family: monospace;background-color: #f0f8ff;border: 1px dotted black;border-radius: 0.25em;box-sizing: border-box;margin-bottom: 0.5em;}#sk-container-id-3 div.sk-estimator:hover {background-color: #d4ebff;}#sk-container-id-3 div.sk-parallel-item::after {content: \"\";width: 100%;border-bottom: 1px solid gray;flex-grow: 1;}#sk-container-id-3 div.sk-label:hover label.sk-toggleable__label {background-color: #d4ebff;}#sk-container-id-3 div.sk-serial::before {content: \"\";position: absolute;border-left: 1px solid gray;box-sizing: border-box;top: 0;bottom: 0;left: 50%;z-index: 0;}#sk-container-id-3 div.sk-serial {display: flex;flex-direction: column;align-items: center;background-color: white;padding-right: 0.2em;padding-left: 0.2em;position: relative;}#sk-container-id-3 div.sk-item {position: relative;z-index: 1;}#sk-container-id-3 div.sk-parallel {display: flex;align-items: stretch;justify-content: center;background-color: white;position: relative;}#sk-container-id-3 div.sk-item::before, #sk-container-id-3 div.sk-parallel-item::before {content: \"\";position: absolute;border-left: 1px solid gray;box-sizing: border-box;top: 0;bottom: 0;left: 50%;z-index: -1;}#sk-container-id-3 div.sk-parallel-item {display: flex;flex-direction: column;z-index: 1;position: relative;background-color: white;}#sk-container-id-3 div.sk-parallel-item:first-child::after {align-self: flex-end;width: 50%;}#sk-container-id-3 div.sk-parallel-item:last-child::after {align-self: flex-start;width: 50%;}#sk-container-id-3 div.sk-parallel-item:only-child::after {width: 0;}#sk-container-id-3 div.sk-dashed-wrapped {border: 1px dashed gray;margin: 0 0.4em 0.5em 0.4em;box-sizing: border-box;padding-bottom: 0.4em;background-color: white;}#sk-container-id-3 div.sk-label label {font-family: monospace;font-weight: bold;display: inline-block;line-height: 1.2em;}#sk-container-id-3 div.sk-label-container {text-align: center;}#sk-container-id-3 div.sk-container {/* jupyter's `normalize.less` sets `[hidden] { display: none; }` but bootstrap.min.css set `[hidden] { display: none !important; }` so we also need the `!important` here to be able to override the default hidden behavior on the sphinx rendered scikit-learn.org. See: https://github.com/scikit-learn/scikit-learn/issues/21755 */display: inline-block !important;position: relative;}#sk-container-id-3 div.sk-text-repr-fallback {display: none;}</style><div id=\"sk-container-id-3\" class=\"sk-top-container\"><div class=\"sk-text-repr-fallback\"><pre>GridSearchCV(cv=5,\n",
       "             estimator=Pipeline(steps=[(&#x27;tvec&#x27;, TfidfVectorizer()),\n",
       "                                       (&#x27;lr&#x27;, LogisticRegression())]),\n",
       "             param_grid={&#x27;lr__C&#x27;: [0.5, 1, 3, 5, 10],\n",
       "                         &#x27;lr__max_iter&#x27;: [1000, 2000],\n",
       "                         &#x27;lr__solver&#x27;: [&#x27;liblinear&#x27;], &#x27;tvec__max_df&#x27;: [0.98],\n",
       "                         &#x27;tvec__min_df&#x27;: [2],\n",
       "                         &#x27;tvec__ngram_range&#x27;: [(1, 1), (1, 2)]})</pre><b>In a Jupyter environment, please rerun this cell to show the HTML representation or trust the notebook. <br />On GitHub, the HTML representation is unable to render, please try loading this page with nbviewer.org.</b></div><div class=\"sk-container\" hidden><div class=\"sk-item sk-dashed-wrapped\"><div class=\"sk-label-container\"><div class=\"sk-label sk-toggleable\"><input class=\"sk-toggleable__control sk-hidden--visually\" id=\"sk-estimator-id-9\" type=\"checkbox\" ><label for=\"sk-estimator-id-9\" class=\"sk-toggleable__label sk-toggleable__label-arrow\">GridSearchCV</label><div class=\"sk-toggleable__content\"><pre>GridSearchCV(cv=5,\n",
       "             estimator=Pipeline(steps=[(&#x27;tvec&#x27;, TfidfVectorizer()),\n",
       "                                       (&#x27;lr&#x27;, LogisticRegression())]),\n",
       "             param_grid={&#x27;lr__C&#x27;: [0.5, 1, 3, 5, 10],\n",
       "                         &#x27;lr__max_iter&#x27;: [1000, 2000],\n",
       "                         &#x27;lr__solver&#x27;: [&#x27;liblinear&#x27;], &#x27;tvec__max_df&#x27;: [0.98],\n",
       "                         &#x27;tvec__min_df&#x27;: [2],\n",
       "                         &#x27;tvec__ngram_range&#x27;: [(1, 1), (1, 2)]})</pre></div></div></div><div class=\"sk-parallel\"><div class=\"sk-parallel-item\"><div class=\"sk-item\"><div class=\"sk-label-container\"><div class=\"sk-label sk-toggleable\"><input class=\"sk-toggleable__control sk-hidden--visually\" id=\"sk-estimator-id-10\" type=\"checkbox\" ><label for=\"sk-estimator-id-10\" class=\"sk-toggleable__label sk-toggleable__label-arrow\">estimator: Pipeline</label><div class=\"sk-toggleable__content\"><pre>Pipeline(steps=[(&#x27;tvec&#x27;, TfidfVectorizer()), (&#x27;lr&#x27;, LogisticRegression())])</pre></div></div></div><div class=\"sk-serial\"><div class=\"sk-item\"><div class=\"sk-serial\"><div class=\"sk-item\"><div class=\"sk-estimator sk-toggleable\"><input class=\"sk-toggleable__control sk-hidden--visually\" id=\"sk-estimator-id-11\" type=\"checkbox\" ><label for=\"sk-estimator-id-11\" class=\"sk-toggleable__label sk-toggleable__label-arrow\">TfidfVectorizer</label><div class=\"sk-toggleable__content\"><pre>TfidfVectorizer()</pre></div></div></div><div class=\"sk-item\"><div class=\"sk-estimator sk-toggleable\"><input class=\"sk-toggleable__control sk-hidden--visually\" id=\"sk-estimator-id-12\" type=\"checkbox\" ><label for=\"sk-estimator-id-12\" class=\"sk-toggleable__label sk-toggleable__label-arrow\">LogisticRegression</label><div class=\"sk-toggleable__content\"><pre>LogisticRegression()</pre></div></div></div></div></div></div></div></div></div></div></div></div>"
      ],
      "text/plain": [
       "GridSearchCV(cv=5,\n",
       "             estimator=Pipeline(steps=[('tvec', TfidfVectorizer()),\n",
       "                                       ('lr', LogisticRegression())]),\n",
       "             param_grid={'lr__C': [0.5, 1, 3, 5, 10],\n",
       "                         'lr__max_iter': [1000, 2000],\n",
       "                         'lr__solver': ['liblinear'], 'tvec__max_df': [0.98],\n",
       "                         'tvec__min_df': [2],\n",
       "                         'tvec__ngram_range': [(1, 1), (1, 2)]})"
      ]
     },
     "execution_count": 66,
     "metadata": {},
     "output_type": "execute_result"
    }
   ],
   "source": [
    "# Train model\n",
    "gs3.fit(X_train,y_train)"
   ]
  },
  {
   "cell_type": "markdown",
   "id": "982c9d14-31dd-4cab-be09-48a169565bfe",
   "metadata": {
    "jp-MarkdownHeadingCollapsed": true
   },
   "source": [
    "> Model Evaluation"
   ]
  },
  {
   "cell_type": "code",
   "execution_count": 67,
   "id": "48e011fb-c2b9-41f8-90af-1f977c32e16a",
   "metadata": {},
   "outputs": [
    {
     "name": "stdout",
     "output_type": "stream",
     "text": [
      "Accuracy score:  0.9373\n",
      "Precision score:  0.9439\n",
      "Recall score:  0.9218\n",
      "F1 score:  0.9327\n"
     ]
    }
   ],
   "source": [
    "# Evaluate train model\n",
    "model_metrics(gs3, X_train, y_train)"
   ]
  },
  {
   "cell_type": "code",
   "execution_count": 68,
   "id": "d5075554-92f3-4135-b7e3-80715ddf65e5",
   "metadata": {},
   "outputs": [
    {
     "name": "stdout",
     "output_type": "stream",
     "text": [
      "Accuracy score:  0.8442\n",
      "Precision score:  0.858\n",
      "Recall score:  0.8026\n",
      "F1 score:  0.8293\n"
     ]
    }
   ],
   "source": [
    "# Validate with test set \n",
    "model_metrics(gs3, X_test, y_test)"
   ]
  },
  {
   "cell_type": "code",
   "execution_count": 69,
   "id": "444fb462-a274-42ff-ac35-d2dd507a5309",
   "metadata": {},
   "outputs": [
    {
     "data": {
      "text/plain": [
       "<sklearn.metrics._plot.confusion_matrix.ConfusionMatrixDisplay at 0x2ab99608ac0>"
      ]
     },
     "execution_count": 69,
     "metadata": {},
     "output_type": "execute_result"
    },
    {
     "data": {
      "image/png": "[encoded data removed]",
      "text/plain": [
       "<Figure size 640x480 with 2 Axes>"
      ]
     },
     "metadata": {},
     "output_type": "display_data"
    }
   ],
   "source": [
    "# View confusion matrix\n",
    "y_pred_gs3 = gs3.predict(X_test)\n",
    "cm = confusion_matrix(y_test, y_pred_gs3)\n",
    "disp = ConfusionMatrixDisplay(confusion_matrix=cm, display_labels=['negative','positive'])\n",
    "disp.plot()"
   ]
  },
  {
   "cell_type": "code",
   "execution_count": 70,
   "id": "785d1f92-b79d-4ad6-be81-0e6082f74aed",
   "metadata": {},
   "outputs": [
    {
     "name": "stdout",
     "output_type": "stream",
     "text": [
      "ROC-AUC score: 0.9173587125651179\n",
      "Pipeline(steps=[('tvec', TfidfVectorizer(max_df=0.98, min_df=2)),\n",
      "                ('lr',\n",
      "                 LogisticRegression(C=5, max_iter=1000, solver='liblinear'))])\n"
     ]
    }
   ],
   "source": [
    "# Check ROC-AUC and the estimators' parameters\n",
    "print(f'ROC-AUC score: {roc_auc_score(y_test, gs3.predict_proba(X_test)[:,1])}')\n",
    "print(gs3.best_estimator_)"
   ]
  },
  {
   "cell_type": "markdown",
   "id": "0ff63400-46e4-4fe8-beeb-033c1b2d32d4",
   "metadata": {},
   "source": [
    "> Interpretation:\n",
    "> 1. Features dimension can get overblown.\n",
    "> 2. Require texts preprocessing to train model. As there are more noises in real case, it can get time-consuming. \n",
    "> 3. Assume words are independant, which are not the case.  Words are highly correlated.\n",
    "> 4. Overfitting hence having challenges to generalize to new data. "
   ]
  },
  {
   "cell_type": "markdown",
   "id": "bbb085ee-f3a9-489a-ab7b-217b4a08288e",
   "metadata": {},
   "source": [
    "## 3.4 TF-IDF Vectorizer and Support Vector Machine Model"
   ]
  },
  {
   "cell_type": "markdown",
   "id": "640a0100-f867-4c2a-83a6-acf177a707e0",
   "metadata": {},
   "source": [
    "> Support Vector Machine (Linear) is best suited for sentiment analysis and text classification as it deals with large sparse data vectors. Able to handle a high dimensional features.\n",
    "\n",
    "> SVM text classification problems tend to be linearly separable and it takes less training time."
   ]
  },
  {
   "cell_type": "code",
   "execution_count": 71,
   "id": "2f038263-4177-4a30-a233-d077c6270116",
   "metadata": {},
   "outputs": [],
   "source": [
    "# Instantiate pipeline for TF-IDF vectorizer as transformer and Support Vector Machine as classifier\n",
    "pipe4 = SklearnPipeline([('tvec', TfidfVectorizer()),\n",
    "                         ('lsvc', LinearSVC())])"
   ]
  },
  {
   "cell_type": "code",
   "execution_count": 72,
   "id": "9e22b5ab-01f1-426d-914a-b3cebba3cbf2",
   "metadata": {},
   "outputs": [],
   "source": [
    "# Setting pipe parameters for fine-tuning \n",
    "pipe4_params = {'tvec__min_df': [2],\n",
    "                'tvec__max_df': [0.98],\n",
    "                'tvec__ngram_range': [(1,1), (1,2)],\n",
    "                'lsvc__max_iter': [20000,25000]}"
   ]
  },
  {
   "cell_type": "code",
   "execution_count": 73,
   "id": "5c911fb0-77d0-4088-9b73-fba76458b69d",
   "metadata": {},
   "outputs": [],
   "source": [
    "# Instantiate Gridsearch\n",
    "gs4 = GridSearchCV(pipe4,\n",
    "                   param_grid = pipe4_params,\n",
    "                   cv=5)"
   ]
  },
  {
   "cell_type": "code",
   "execution_count": 74,
   "id": "ad1dd047-0396-41db-ab8c-fe8fddb0ab48",
   "metadata": {},
   "outputs": [
    {
     "data": {
      "text/html": [
       "<style>#sk-container-id-4 {color: black;background-color: white;}#sk-container-id-4 pre{padding: 0;}#sk-container-id-4 div.sk-toggleable {background-color: white;}#sk-container-id-4 label.sk-toggleable__label {cursor: pointer;display: block;width: 100%;margin-bottom: 0;padding: 0.3em;box-sizing: border-box;text-align: center;}#sk-container-id-4 label.sk-toggleable__label-arrow:before {content: \"▸\";float: left;margin-right: 0.25em;color: #696969;}#sk-container-id-4 label.sk-toggleable__label-arrow:hover:before {color: black;}#sk-container-id-4 div.sk-estimator:hover label.sk-toggleable__label-arrow:before {color: black;}#sk-container-id-4 div.sk-toggleable__content {max-height: 0;max-width: 0;overflow: hidden;text-align: left;background-color: #f0f8ff;}#sk-container-id-4 div.sk-toggleable__content pre {margin: 0.2em;color: black;border-radius: 0.25em;background-color: #f0f8ff;}#sk-container-id-4 input.sk-toggleable__control:checked~div.sk-toggleable__content {max-height: 200px;max-width: 100%;overflow: auto;}#sk-container-id-4 input.sk-toggleable__control:checked~label.sk-toggleable__label-arrow:before {content: \"▾\";}#sk-container-id-4 div.sk-estimator input.sk-toggleable__control:checked~label.sk-toggleable__label {background-color: #d4ebff;}#sk-container-id-4 div.sk-label input.sk-toggleable__control:checked~label.sk-toggleable__label {background-color: #d4ebff;}#sk-container-id-4 input.sk-hidden--visually {border: 0;clip: rect(1px 1px 1px 1px);clip: rect(1px, 1px, 1px, 1px);height: 1px;margin: -1px;overflow: hidden;padding: 0;position: absolute;width: 1px;}#sk-container-id-4 div.sk-estimator {font-family: monospace;background-color: #f0f8ff;border: 1px dotted black;border-radius: 0.25em;box-sizing: border-box;margin-bottom: 0.5em;}#sk-container-id-4 div.sk-estimator:hover {background-color: #d4ebff;}#sk-container-id-4 div.sk-parallel-item::after {content: \"\";width: 100%;border-bottom: 1px solid gray;flex-grow: 1;}#sk-container-id-4 div.sk-label:hover label.sk-toggleable__label {background-color: #d4ebff;}#sk-container-id-4 div.sk-serial::before {content: \"\";position: absolute;border-left: 1px solid gray;box-sizing: border-box;top: 0;bottom: 0;left: 50%;z-index: 0;}#sk-container-id-4 div.sk-serial {display: flex;flex-direction: column;align-items: center;background-color: white;padding-right: 0.2em;padding-left: 0.2em;position: relative;}#sk-container-id-4 div.sk-item {position: relative;z-index: 1;}#sk-container-id-4 div.sk-parallel {display: flex;align-items: stretch;justify-content: center;background-color: white;position: relative;}#sk-container-id-4 div.sk-item::before, #sk-container-id-4 div.sk-parallel-item::before {content: \"\";position: absolute;border-left: 1px solid gray;box-sizing: border-box;top: 0;bottom: 0;left: 50%;z-index: -1;}#sk-container-id-4 div.sk-parallel-item {display: flex;flex-direction: column;z-index: 1;position: relative;background-color: white;}#sk-container-id-4 div.sk-parallel-item:first-child::after {align-self: flex-end;width: 50%;}#sk-container-id-4 div.sk-parallel-item:last-child::after {align-self: flex-start;width: 50%;}#sk-container-id-4 div.sk-parallel-item:only-child::after {width: 0;}#sk-container-id-4 div.sk-dashed-wrapped {border: 1px dashed gray;margin: 0 0.4em 0.5em 0.4em;box-sizing: border-box;padding-bottom: 0.4em;background-color: white;}#sk-container-id-4 div.sk-label label {font-family: monospace;font-weight: bold;display: inline-block;line-height: 1.2em;}#sk-container-id-4 div.sk-label-container {text-align: center;}#sk-container-id-4 div.sk-container {/* jupyter's `normalize.less` sets `[hidden] { display: none; }` but bootstrap.min.css set `[hidden] { display: none !important; }` so we also need the `!important` here to be able to override the default hidden behavior on the sphinx rendered scikit-learn.org. See: https://github.com/scikit-learn/scikit-learn/issues/21755 */display: inline-block !important;position: relative;}#sk-container-id-4 div.sk-text-repr-fallback {display: none;}</style><div id=\"sk-container-id-4\" class=\"sk-top-container\"><div class=\"sk-text-repr-fallback\"><pre>GridSearchCV(cv=5,\n",
       "             estimator=Pipeline(steps=[(&#x27;tvec&#x27;, TfidfVectorizer()),\n",
       "                                       (&#x27;lsvc&#x27;, LinearSVC())]),\n",
       "             param_grid={&#x27;lsvc__max_iter&#x27;: [20000, 25000],\n",
       "                         &#x27;tvec__max_df&#x27;: [0.98], &#x27;tvec__min_df&#x27;: [2],\n",
       "                         &#x27;tvec__ngram_range&#x27;: [(1, 1), (1, 2)]})</pre><b>In a Jupyter environment, please rerun this cell to show the HTML representation or trust the notebook. <br />On GitHub, the HTML representation is unable to render, please try loading this page with nbviewer.org.</b></div><div class=\"sk-container\" hidden><div class=\"sk-item sk-dashed-wrapped\"><div class=\"sk-label-container\"><div class=\"sk-label sk-toggleable\"><input class=\"sk-toggleable__control sk-hidden--visually\" id=\"sk-estimator-id-13\" type=\"checkbox\" ><label for=\"sk-estimator-id-13\" class=\"sk-toggleable__label sk-toggleable__label-arrow\">GridSearchCV</label><div class=\"sk-toggleable__content\"><pre>GridSearchCV(cv=5,\n",
       "             estimator=Pipeline(steps=[(&#x27;tvec&#x27;, TfidfVectorizer()),\n",
       "                                       (&#x27;lsvc&#x27;, LinearSVC())]),\n",
       "             param_grid={&#x27;lsvc__max_iter&#x27;: [20000, 25000],\n",
       "                         &#x27;tvec__max_df&#x27;: [0.98], &#x27;tvec__min_df&#x27;: [2],\n",
       "                         &#x27;tvec__ngram_range&#x27;: [(1, 1), (1, 2)]})</pre></div></div></div><div class=\"sk-parallel\"><div class=\"sk-parallel-item\"><div class=\"sk-item\"><div class=\"sk-label-container\"><div class=\"sk-label sk-toggleable\"><input class=\"sk-toggleable__control sk-hidden--visually\" id=\"sk-estimator-id-14\" type=\"checkbox\" ><label for=\"sk-estimator-id-14\" class=\"sk-toggleable__label sk-toggleable__label-arrow\">estimator: Pipeline</label><div class=\"sk-toggleable__content\"><pre>Pipeline(steps=[(&#x27;tvec&#x27;, TfidfVectorizer()), (&#x27;lsvc&#x27;, LinearSVC())])</pre></div></div></div><div class=\"sk-serial\"><div class=\"sk-item\"><div class=\"sk-serial\"><div class=\"sk-item\"><div class=\"sk-estimator sk-toggleable\"><input class=\"sk-toggleable__control sk-hidden--visually\" id=\"sk-estimator-id-15\" type=\"checkbox\" ><label for=\"sk-estimator-id-15\" class=\"sk-toggleable__label sk-toggleable__label-arrow\">TfidfVectorizer</label><div class=\"sk-toggleable__content\"><pre>TfidfVectorizer()</pre></div></div></div><div class=\"sk-item\"><div class=\"sk-estimator sk-toggleable\"><input class=\"sk-toggleable__control sk-hidden--visually\" id=\"sk-estimator-id-16\" type=\"checkbox\" ><label for=\"sk-estimator-id-16\" class=\"sk-toggleable__label sk-toggleable__label-arrow\">LinearSVC</label><div class=\"sk-toggleable__content\"><pre>LinearSVC()</pre></div></div></div></div></div></div></div></div></div></div></div></div>"
      ],
      "text/plain": [
       "GridSearchCV(cv=5,\n",
       "             estimator=Pipeline(steps=[('tvec', TfidfVectorizer()),\n",
       "                                       ('lsvc', LinearSVC())]),\n",
       "             param_grid={'lsvc__max_iter': [20000, 25000],\n",
       "                         'tvec__max_df': [0.98], 'tvec__min_df': [2],\n",
       "                         'tvec__ngram_range': [(1, 1), (1, 2)]})"
      ]
     },
     "execution_count": 74,
     "metadata": {},
     "output_type": "execute_result"
    }
   ],
   "source": [
    "# Train model\n",
    "gs4.fit(X_train,y_train)"
   ]
  },
  {
   "cell_type": "markdown",
   "id": "935ff268-41c7-45b2-8dff-7ec19f1f6bec",
   "metadata": {
    "jp-MarkdownHeadingCollapsed": true
   },
   "source": [
    "> Model Evaluation"
   ]
  },
  {
   "cell_type": "code",
   "execution_count": 75,
   "id": "183efdd3-a6fa-49d5-9d96-6295e82a3187",
   "metadata": {},
   "outputs": [
    {
     "name": "stdout",
     "output_type": "stream",
     "text": [
      "Accuracy score:  0.9527\n",
      "Precision score:  0.9572\n",
      "Recall score:  0.9419\n",
      "F1 score:  0.9495\n"
     ]
    }
   ],
   "source": [
    "# Evaluate train model\n",
    "model_metrics(gs4, X_train, y_train)"
   ]
  },
  {
   "cell_type": "code",
   "execution_count": 76,
   "id": "cf9861eb-1a83-4378-a406-d7b73d869309",
   "metadata": {},
   "outputs": [
    {
     "name": "stdout",
     "output_type": "stream",
     "text": [
      "Accuracy score:  0.8412\n",
      "Precision score:  0.8501\n",
      "Recall score:  0.8053\n",
      "F1 score:  0.8271\n"
     ]
    }
   ],
   "source": [
    "# Validate with test set \n",
    "model_metrics(gs4, X_test, y_test)"
   ]
  },
  {
   "cell_type": "code",
   "execution_count": 77,
   "id": "87f3df11-f981-402d-97a7-535de40d8f9d",
   "metadata": {},
   "outputs": [
    {
     "data": {
      "text/plain": [
       "<sklearn.metrics._plot.confusion_matrix.ConfusionMatrixDisplay at 0x2ab96823940>"
      ]
     },
     "execution_count": 77,
     "metadata": {},
     "output_type": "execute_result"
    },
    {
     "data": {
      "image/png": "[encoded data removed]",
      "text/plain": [
       "<Figure size 640x480 with 2 Axes>"
      ]
     },
     "metadata": {},
     "output_type": "display_data"
    }
   ],
   "source": [
    "# View confusion matrix\n",
    "y_pred_gs4 = gs4.predict(X_test)\n",
    "cm = confusion_matrix(y_test, y_pred_gs4)\n",
    "disp = ConfusionMatrixDisplay(confusion_matrix=cm, display_labels=['negative','positive'])\n",
    "disp.plot()"
   ]
  },
  {
   "cell_type": "code",
   "execution_count": 78,
   "id": "8bb48ff9-849a-44a0-8520-4ea538e483ca",
   "metadata": {},
   "outputs": [
    {
     "name": "stdout",
     "output_type": "stream",
     "text": [
      "Pipeline(steps=[('tvec', TfidfVectorizer(max_df=0.98, min_df=2)),\n",
      "                ('lsvc', LinearSVC(max_iter=20000))])\n"
     ]
    }
   ],
   "source": [
    "# Check estimators' parameters\n",
    "print(gs4.best_estimator_)"
   ]
  },
  {
   "cell_type": "markdown",
   "id": "f1de528c-0ab4-43d4-aff2-8764696363c4",
   "metadata": {},
   "source": [
    "Interpretation: \n",
    "1. The assumption that most the features are irrelevant, as aggressive feature selection tends to result in a loss of information.\n",
    "2. Overfitting issues hence foresee to have difficulty to generalize to new data."
   ]
  },
  {
   "cell_type": "markdown",
   "id": "f6771ce2-a765-49bb-83a0-ec08c5b9771b",
   "metadata": {},
   "source": [
    "# 4. Conclusions\n",
    "Based on my analysis and comparison of the 4 models, Multinomial Naive Bayes with TF-IDF Vectorizer fetchs the best results.  Other models seem to be overfitting.  \n",
    "\n",
    "Accuracy is a valid choice of evaluation for sentiment analysis on Mo Gawdat's Youtube videos because the datasets are fairly well balanced (53% negative vs 47% positive comments) and not skewed. Hence accuracy is a good measurement of true positives which is the problem statement trying to solve, i.e. those positive comments are correctly labeled so that the assessment of positive feedback from online users allow Mo Gawdat to assess the type of topics online listeners preferred.   \n",
    "\n",
    "Precision score is also considered as we cannot rely on accuracy score alone.  Precision is a useful metric in my case study where False Positive is a concern as I do not want to falsely classify negative comments as positive which will give a wrong picture on the receptiveness of online listeners.\n",
    "\n",
    "| Models                      | ROC-AUC Score| Accuracy Score                | Precision Score                  | Review                                                          |\n",
    "|---------------------------------|--------- |-------------------------------|----------------------------------|-----------------------------------------------------------------|\n",
    "| **Multinomial Naive Bayes**         |  0.8752  | Train: 0.8419<br>Test: 0.7928  | Train: 0.8248<br>Test: 0.7661 | The most balanced model. **Best Model**|                           |    \n",
    "| Random Forest                   |  0.8291 | Train: 0.8223<br>Test: 0.7239  | Train: 0.9795<br>Test: 0.7895 | Highest precision score, but massively overfit.                    |   \n",
    "| Logistic Regression             |  0.9174 | Train: 0.9373<br>Test: 0.8442  | Train: 0.9439<br>Test: 0.8580 | Overfit                                                            |\n",
    "| Support Vector Machine (Linear) |    -  | Train: 0.9527<br>Test: 0.8412 | Train: 0.9572<br>Test: 0.8501 | Highest accuracy score, but accuracy and precision scores overfitting.|\n",
    "\n"
   ]
  },
  {
   "cell_type": "markdown",
   "id": "f62cba1d-28ab-4b05-a3c1-4e13fbe68f22",
   "metadata": {},
   "source": [
    "# 5. Recommendations and Future works\n",
    "1. Train the best classification model (Multinomial Naive Bayes) on more Youtube videos to improve predictive capability of the model.\n",
    "2. Explore other classifier model that can categorize emojis which would be useful to have a more hollistic view of sentiment analysis. As emojis which can also be a form of expression.\n",
    "3. Explore Vader lexicon for any updates on social media buzzwords to improve prediction power. \n",
    "4. Continue to exhaust on hyperparameters tuning, and then proceed to gather more data for feature engineering, but it require more time invested to get improved performance.\n",
    "5. Expand the model to track sales of his book which relates to AI. The book titled 'Scary Smart: The Future of Artificial Intelligence and How You Can Save Our World' which was released in 2021.  It can be done as a classification project to assess if the positive comments on Youtube lead to increase in his book sales."
   ]
  }
 ],
 "metadata": {
  "kernelspec": {
   "display_name": "Python 3 (ipykernel)",
   "language": "python",
   "name": "python3"
  },
  "language_info": {
   "codemirror_mode": {
    "name": "ipython",
    "version": 3
   },
   "file_extension": ".py",
   "mimetype": "text/x-python",
   "name": "python",
   "nbconvert_exporter": "python",
   "pygments_lexer": "ipython3",
   "version": "3.8.16"
  }
 },
 "nbformat": 4,
 "nbformat_minor": 5
}
