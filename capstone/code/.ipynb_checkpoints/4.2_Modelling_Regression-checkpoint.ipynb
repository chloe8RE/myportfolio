{
 "cells": [
  {
   "cell_type": "markdown",
   "id": "6953930b-5066-4ed6-a213-f4c8de368e65",
   "metadata": {},
   "source": [
    "# Capstone: Customer Demand Forecasting"
   ]
  },
  {
   "cell_type": "markdown",
   "id": "e9c86763-053e-4785-9a61-89cc03d3cbb3",
   "metadata": {},
   "source": [
    "**Notebook 4.2 - Contents**<br>\n",
    "[Data Import](#Data-Import)<br>\n",
    "[Function for Model Evaluation](#Function-for-Model-Evaluation)<br>\n",
    "[Function for Visualisation](#Function-for-Visualisation)<br>\n",
    "[Preprocessing Data](#Pre-processing-data)<br>\n",
    "[Features Selection](#Features-Selection)<br>\n",
    "[Random Forest Model](#Random-Forest-Regression-Model)<br>\n",
    "[Evaluate Model](#Evaluate-Model)<br>"
   ]
  },
  {
   "cell_type": "markdown",
   "id": "55785342-ae36-4086-9695-c8a623d3d1b0",
   "metadata": {},
   "source": [
    "## Data Import"
   ]
  },
  {
   "cell_type": "markdown",
   "id": "2f483c88-c823-4a6f-adca-e6136d277563",
   "metadata": {},
   "source": [
    "Import Libraries"
   ]
  },
  {
   "cell_type": "code",
   "execution_count": 51,
   "id": "8abca286-9eb8-46ad-a1cd-2e5ab48bd086",
   "metadata": {},
   "outputs": [],
   "source": [
    "import numpy as np\n",
    "import pandas as pd\n",
    "import seaborn as sns\n",
    "import matplotlib.pyplot as plt\n",
    "import pickle\n",
    "import math\n",
    "\n",
    "from sklearn.compose import ColumnTransformer\n",
    "from sklearn.preprocessing import StandardScaler, OneHotEncoder\n",
    "from sklearn.model_selection import train_test_split, GridSearchCV\n",
    "from sklearn.metrics import mean_absolute_percentage_error, mean_squared_error, mean_absolute_error\n",
    "from sklearn.ensemble import RandomForestRegressor\n",
    "from sklearn.pipeline import Pipeline"
   ]
  },
  {
   "cell_type": "markdown",
   "id": "2772d6dc-488c-45fe-bb25-d953dde4d0bd",
   "metadata": {},
   "source": [
    "Import Dataframe that was set up with X features and resampled and reindex during ARIMAX modeling."
   ]
  },
  {
   "cell_type": "code",
   "execution_count": 3,
   "id": "19702c86-efb1-4b61-9c08-8c730555fc68",
   "metadata": {},
   "outputs": [],
   "source": [
    "pd.set_option('display.max_columns', None)"
   ]
  },
  {
   "cell_type": "code",
   "execution_count": 4,
   "id": "f9fdb582-26b1-4c6c-acc4-43c7bc676934",
   "metadata": {},
   "outputs": [],
   "source": [
    "mobiles_df = pickle.load(open('../pkl/mobiles_sales_exog.pkl', 'rb'))"
   ]
  },
  {
   "cell_type": "code",
   "execution_count": 5,
   "id": "35c1e9ef-7a1f-4681-a3a3-15fb0db81627",
   "metadata": {},
   "outputs": [
    {
     "data": {
      "text/html": [
       "<div>\n",
       "<style scoped>\n",
       "    .dataframe tbody tr th:only-of-type {\n",
       "        vertical-align: middle;\n",
       "    }\n",
       "\n",
       "    .dataframe tbody tr th {\n",
       "        vertical-align: top;\n",
       "    }\n",
       "\n",
       "    .dataframe thead th {\n",
       "        text-align: right;\n",
       "    }\n",
       "</style>\n",
       "<table border=\"1\" class=\"dataframe\">\n",
       "  <thead>\n",
       "    <tr style=\"text-align: right;\">\n",
       "      <th></th>\n",
       "      <th>order_qty</th>\n",
       "      <th>price</th>\n",
       "      <th>discount_amount</th>\n",
       "      <th>payment_method</th>\n",
       "      <th>full_name</th>\n",
       "      <th>gender</th>\n",
       "      <th>age</th>\n",
       "      <th>state</th>\n",
       "      <th>region</th>\n",
       "    </tr>\n",
       "  </thead>\n",
       "  <tbody>\n",
       "    <tr>\n",
       "      <th>2020-10-01</th>\n",
       "      <td>46</td>\n",
       "      <td>233.673684</td>\n",
       "      <td>7.368421</td>\n",
       "      <td>cod</td>\n",
       "      <td>Starkey, Stephan</td>\n",
       "      <td>F</td>\n",
       "      <td>42.473684</td>\n",
       "      <td>CA</td>\n",
       "      <td>South</td>\n",
       "    </tr>\n",
       "    <tr>\n",
       "      <th>2020-10-02</th>\n",
       "      <td>65</td>\n",
       "      <td>176.762069</td>\n",
       "      <td>5.265034</td>\n",
       "      <td>cod</td>\n",
       "      <td>Guillaume, Alton</td>\n",
       "      <td>F</td>\n",
       "      <td>43.620690</td>\n",
       "      <td>NY</td>\n",
       "      <td>Midwest</td>\n",
       "    </tr>\n",
       "    <tr>\n",
       "      <th>2020-10-03</th>\n",
       "      <td>140</td>\n",
       "      <td>834.051923</td>\n",
       "      <td>279.100192</td>\n",
       "      <td>cod</td>\n",
       "      <td>Agin, Winona</td>\n",
       "      <td>M</td>\n",
       "      <td>44.519231</td>\n",
       "      <td>CA</td>\n",
       "      <td>South</td>\n",
       "    </tr>\n",
       "    <tr>\n",
       "      <th>2020-10-04</th>\n",
       "      <td>34</td>\n",
       "      <td>388.966667</td>\n",
       "      <td>187.574417</td>\n",
       "      <td>cod</td>\n",
       "      <td>Clausing, Rafael</td>\n",
       "      <td>M</td>\n",
       "      <td>47.583333</td>\n",
       "      <td>CA</td>\n",
       "      <td>South</td>\n",
       "    </tr>\n",
       "    <tr>\n",
       "      <th>2020-10-05</th>\n",
       "      <td>32</td>\n",
       "      <td>461.153846</td>\n",
       "      <td>221.538462</td>\n",
       "      <td>cod</td>\n",
       "      <td>Gratton, Raul</td>\n",
       "      <td>F</td>\n",
       "      <td>46.692308</td>\n",
       "      <td>CA</td>\n",
       "      <td>South</td>\n",
       "    </tr>\n",
       "    <tr>\n",
       "      <th>...</th>\n",
       "      <td>...</td>\n",
       "      <td>...</td>\n",
       "      <td>...</td>\n",
       "      <td>...</td>\n",
       "      <td>...</td>\n",
       "      <td>...</td>\n",
       "      <td>...</td>\n",
       "      <td>...</td>\n",
       "      <td>...</td>\n",
       "    </tr>\n",
       "    <tr>\n",
       "      <th>2021-09-26</th>\n",
       "      <td>2</td>\n",
       "      <td>150.000000</td>\n",
       "      <td>0.000000</td>\n",
       "      <td>cod</td>\n",
       "      <td>Crimmins, Lauren</td>\n",
       "      <td>M</td>\n",
       "      <td>62.000000</td>\n",
       "      <td>KY</td>\n",
       "      <td>South</td>\n",
       "    </tr>\n",
       "    <tr>\n",
       "      <th>2021-09-27</th>\n",
       "      <td>2</td>\n",
       "      <td>150.000000</td>\n",
       "      <td>0.000000</td>\n",
       "      <td>cod</td>\n",
       "      <td>Crimmins, Lauren</td>\n",
       "      <td>M</td>\n",
       "      <td>62.000000</td>\n",
       "      <td>KY</td>\n",
       "      <td>South</td>\n",
       "    </tr>\n",
       "    <tr>\n",
       "      <th>2021-09-28</th>\n",
       "      <td>2</td>\n",
       "      <td>150.000000</td>\n",
       "      <td>0.000000</td>\n",
       "      <td>cod</td>\n",
       "      <td>Crimmins, Lauren</td>\n",
       "      <td>M</td>\n",
       "      <td>62.000000</td>\n",
       "      <td>KY</td>\n",
       "      <td>South</td>\n",
       "    </tr>\n",
       "    <tr>\n",
       "      <th>2021-09-29</th>\n",
       "      <td>2</td>\n",
       "      <td>150.000000</td>\n",
       "      <td>0.000000</td>\n",
       "      <td>cod</td>\n",
       "      <td>Crimmins, Lauren</td>\n",
       "      <td>M</td>\n",
       "      <td>62.000000</td>\n",
       "      <td>KY</td>\n",
       "      <td>South</td>\n",
       "    </tr>\n",
       "    <tr>\n",
       "      <th>2021-09-30</th>\n",
       "      <td>2</td>\n",
       "      <td>150.000000</td>\n",
       "      <td>0.000000</td>\n",
       "      <td>cod</td>\n",
       "      <td>Crimmins, Lauren</td>\n",
       "      <td>M</td>\n",
       "      <td>62.000000</td>\n",
       "      <td>KY</td>\n",
       "      <td>South</td>\n",
       "    </tr>\n",
       "  </tbody>\n",
       "</table>\n",
       "<p>365 rows × 9 columns</p>\n",
       "</div>"
      ],
      "text/plain": [
       "            order_qty       price  discount_amount payment_method  \\\n",
       "2020-10-01         46  233.673684         7.368421            cod   \n",
       "2020-10-02         65  176.762069         5.265034            cod   \n",
       "2020-10-03        140  834.051923       279.100192            cod   \n",
       "2020-10-04         34  388.966667       187.574417            cod   \n",
       "2020-10-05         32  461.153846       221.538462            cod   \n",
       "...               ...         ...              ...            ...   \n",
       "2021-09-26          2  150.000000         0.000000            cod   \n",
       "2021-09-27          2  150.000000         0.000000            cod   \n",
       "2021-09-28          2  150.000000         0.000000            cod   \n",
       "2021-09-29          2  150.000000         0.000000            cod   \n",
       "2021-09-30          2  150.000000         0.000000            cod   \n",
       "\n",
       "                   full_name gender        age state   region  \n",
       "2020-10-01  Starkey, Stephan      F  42.473684    CA    South  \n",
       "2020-10-02  Guillaume, Alton      F  43.620690    NY  Midwest  \n",
       "2020-10-03      Agin, Winona      M  44.519231    CA    South  \n",
       "2020-10-04  Clausing, Rafael      M  47.583333    CA    South  \n",
       "2020-10-05     Gratton, Raul      F  46.692308    CA    South  \n",
       "...                      ...    ...        ...   ...      ...  \n",
       "2021-09-26  Crimmins, Lauren      M  62.000000    KY    South  \n",
       "2021-09-27  Crimmins, Lauren      M  62.000000    KY    South  \n",
       "2021-09-28  Crimmins, Lauren      M  62.000000    KY    South  \n",
       "2021-09-29  Crimmins, Lauren      M  62.000000    KY    South  \n",
       "2021-09-30  Crimmins, Lauren      M  62.000000    KY    South  \n",
       "\n",
       "[365 rows x 9 columns]"
      ]
     },
     "execution_count": 5,
     "metadata": {},
     "output_type": "execute_result"
    }
   ],
   "source": [
    "mobiles_df"
   ]
  },
  {
   "cell_type": "markdown",
   "id": "441b8904-56a2-4e4b-a133-f78c7ed4dbf4",
   "metadata": {},
   "source": [
    "Check for nulls before train test split"
   ]
  },
  {
   "cell_type": "code",
   "execution_count": 6,
   "id": "bbd6a2cc-3963-445e-bb40-28421b8a828e",
   "metadata": {},
   "outputs": [
    {
     "data": {
      "text/plain": [
       "order_qty          0\n",
       "price              0\n",
       "discount_amount    0\n",
       "payment_method     0\n",
       "full_name          0\n",
       "gender             0\n",
       "age                0\n",
       "state              0\n",
       "region             0\n",
       "dtype: int64"
      ]
     },
     "execution_count": 6,
     "metadata": {},
     "output_type": "execute_result"
    }
   ],
   "source": [
    "mobiles_df.isnull().sum()"
   ]
  },
  {
   "cell_type": "markdown",
   "id": "652d0035-34d6-4229-b8e2-1b4033422e0c",
   "metadata": {},
   "source": [
    "## Function for visualisation"
   ]
  },
  {
   "cell_type": "code",
   "execution_count": 7,
   "id": "86d9e6a9-72f3-41e2-ac34-504ed49898ad",
   "metadata": {},
   "outputs": [],
   "source": [
    "def plot_forecast(y_train, y_test, model, period, X_train, X_test):\n",
    "    y_pred_train = model.predict(X_train)\n",
    "    y_pred_test = model.predict(X_test[:period])\n",
    "    rmse_train= np.sqrt(mean_squared_error(y_train, y_pred_train))\n",
    "    rmse_test = np.sqrt(mean_squared_error(y_test[:period], y_pred_test))\n",
    "    \n",
    "    plt.figure(figsize=(20,6))\n",
    "    plt.plot(y_train, color='cornflowerblue', label='y_train')\n",
    "    plt.plot(y_test, color='orange', label='y_test', alpha = 0.7)\n",
    "    plt.plot(X_train.index, y_pred_train, color='green', alpha = 0.9, ls = '--')\n",
    "    plt.plot(X_test[:period].index, y_pred_test, color='green', label='y_pred', alpha = 0.9, ls = '--')\n",
    "    \n",
    "    plt.xlabel('Period')\n",
    "    plt.ylabel('Sales Quantity')\n",
    "    plt.title(label = f'Mobiles & Tablets - Sales Quantity Predictions\\n\\n Train RMSE:{rmse_train:.2f};  Test RMSE: {rmse_test:.2f}', fontsize=12)\n",
    "    plt.legend(fontsize = 9, loc = 'upper left'); "
   ]
  },
  {
   "cell_type": "markdown",
   "id": "46a53604-3660-4411-a232-df77db03a3df",
   "metadata": {},
   "source": [
    "## Features Creation"
   ]
  },
  {
   "cell_type": "markdown",
   "id": "cc0447a6-9f93-4392-99e8-25d3e5b8dc4c",
   "metadata": {},
   "source": [
    "From EDA, we noticed that day of week and week in month play a significant role in order quantity increase hence these features are created for modelling. "
   ]
  },
  {
   "cell_type": "code",
   "execution_count": 8,
   "id": "0c4db053-96cb-4275-8450-d7b93f1424e0",
   "metadata": {},
   "outputs": [],
   "source": [
    "# for mapping of day of the week and month to their corresponding name\n",
    "weekday_names = ['Monday', 'Tuesday', 'Wednesday', 'Thursday', 'Friday', 'Saturday', 'Sunday']\n",
    "\n",
    "# Extract day of week from datetime index\n",
    "mobiles_df['day_of_week'] = mobiles_df.index.dayofweek\n",
    "mobiles_df['day_of_week'] = mobiles_df['day_of_week'].apply(lambda x: weekday_names[x])\n",
    "\n",
    "# Extract week in month from datetime index\n",
    "mobiles_df['week_in_month'] = mobiles_df.index.day/7\n",
    "mobiles_df['week_in_month'] = mobiles_df['week_in_month'].apply(lambda x: math.ceil(x)).astype(str)"
   ]
  },
  {
   "cell_type": "code",
   "execution_count": 9,
   "id": "d1b47ee6-d8b4-4248-bee1-3f848e103ab0",
   "metadata": {},
   "outputs": [
    {
     "data": {
      "text/html": [
       "<div>\n",
       "<style scoped>\n",
       "    .dataframe tbody tr th:only-of-type {\n",
       "        vertical-align: middle;\n",
       "    }\n",
       "\n",
       "    .dataframe tbody tr th {\n",
       "        vertical-align: top;\n",
       "    }\n",
       "\n",
       "    .dataframe thead th {\n",
       "        text-align: right;\n",
       "    }\n",
       "</style>\n",
       "<table border=\"1\" class=\"dataframe\">\n",
       "  <thead>\n",
       "    <tr style=\"text-align: right;\">\n",
       "      <th></th>\n",
       "      <th>order_qty</th>\n",
       "      <th>price</th>\n",
       "      <th>discount_amount</th>\n",
       "      <th>payment_method</th>\n",
       "      <th>full_name</th>\n",
       "      <th>gender</th>\n",
       "      <th>age</th>\n",
       "      <th>state</th>\n",
       "      <th>region</th>\n",
       "      <th>day_of_week</th>\n",
       "      <th>week_in_month</th>\n",
       "    </tr>\n",
       "  </thead>\n",
       "  <tbody>\n",
       "    <tr>\n",
       "      <th>2020-10-01</th>\n",
       "      <td>46</td>\n",
       "      <td>233.673684</td>\n",
       "      <td>7.368421</td>\n",
       "      <td>cod</td>\n",
       "      <td>Starkey, Stephan</td>\n",
       "      <td>F</td>\n",
       "      <td>42.473684</td>\n",
       "      <td>CA</td>\n",
       "      <td>South</td>\n",
       "      <td>Thursday</td>\n",
       "      <td>1</td>\n",
       "    </tr>\n",
       "    <tr>\n",
       "      <th>2020-10-02</th>\n",
       "      <td>65</td>\n",
       "      <td>176.762069</td>\n",
       "      <td>5.265034</td>\n",
       "      <td>cod</td>\n",
       "      <td>Guillaume, Alton</td>\n",
       "      <td>F</td>\n",
       "      <td>43.620690</td>\n",
       "      <td>NY</td>\n",
       "      <td>Midwest</td>\n",
       "      <td>Friday</td>\n",
       "      <td>1</td>\n",
       "    </tr>\n",
       "    <tr>\n",
       "      <th>2020-10-03</th>\n",
       "      <td>140</td>\n",
       "      <td>834.051923</td>\n",
       "      <td>279.100192</td>\n",
       "      <td>cod</td>\n",
       "      <td>Agin, Winona</td>\n",
       "      <td>M</td>\n",
       "      <td>44.519231</td>\n",
       "      <td>CA</td>\n",
       "      <td>South</td>\n",
       "      <td>Saturday</td>\n",
       "      <td>1</td>\n",
       "    </tr>\n",
       "    <tr>\n",
       "      <th>2020-10-04</th>\n",
       "      <td>34</td>\n",
       "      <td>388.966667</td>\n",
       "      <td>187.574417</td>\n",
       "      <td>cod</td>\n",
       "      <td>Clausing, Rafael</td>\n",
       "      <td>M</td>\n",
       "      <td>47.583333</td>\n",
       "      <td>CA</td>\n",
       "      <td>South</td>\n",
       "      <td>Sunday</td>\n",
       "      <td>1</td>\n",
       "    </tr>\n",
       "    <tr>\n",
       "      <th>2020-10-05</th>\n",
       "      <td>32</td>\n",
       "      <td>461.153846</td>\n",
       "      <td>221.538462</td>\n",
       "      <td>cod</td>\n",
       "      <td>Gratton, Raul</td>\n",
       "      <td>F</td>\n",
       "      <td>46.692308</td>\n",
       "      <td>CA</td>\n",
       "      <td>South</td>\n",
       "      <td>Monday</td>\n",
       "      <td>1</td>\n",
       "    </tr>\n",
       "    <tr>\n",
       "      <th>...</th>\n",
       "      <td>...</td>\n",
       "      <td>...</td>\n",
       "      <td>...</td>\n",
       "      <td>...</td>\n",
       "      <td>...</td>\n",
       "      <td>...</td>\n",
       "      <td>...</td>\n",
       "      <td>...</td>\n",
       "      <td>...</td>\n",
       "      <td>...</td>\n",
       "      <td>...</td>\n",
       "    </tr>\n",
       "    <tr>\n",
       "      <th>2021-09-26</th>\n",
       "      <td>2</td>\n",
       "      <td>150.000000</td>\n",
       "      <td>0.000000</td>\n",
       "      <td>cod</td>\n",
       "      <td>Crimmins, Lauren</td>\n",
       "      <td>M</td>\n",
       "      <td>62.000000</td>\n",
       "      <td>KY</td>\n",
       "      <td>South</td>\n",
       "      <td>Sunday</td>\n",
       "      <td>4</td>\n",
       "    </tr>\n",
       "    <tr>\n",
       "      <th>2021-09-27</th>\n",
       "      <td>2</td>\n",
       "      <td>150.000000</td>\n",
       "      <td>0.000000</td>\n",
       "      <td>cod</td>\n",
       "      <td>Crimmins, Lauren</td>\n",
       "      <td>M</td>\n",
       "      <td>62.000000</td>\n",
       "      <td>KY</td>\n",
       "      <td>South</td>\n",
       "      <td>Monday</td>\n",
       "      <td>4</td>\n",
       "    </tr>\n",
       "    <tr>\n",
       "      <th>2021-09-28</th>\n",
       "      <td>2</td>\n",
       "      <td>150.000000</td>\n",
       "      <td>0.000000</td>\n",
       "      <td>cod</td>\n",
       "      <td>Crimmins, Lauren</td>\n",
       "      <td>M</td>\n",
       "      <td>62.000000</td>\n",
       "      <td>KY</td>\n",
       "      <td>South</td>\n",
       "      <td>Tuesday</td>\n",
       "      <td>4</td>\n",
       "    </tr>\n",
       "    <tr>\n",
       "      <th>2021-09-29</th>\n",
       "      <td>2</td>\n",
       "      <td>150.000000</td>\n",
       "      <td>0.000000</td>\n",
       "      <td>cod</td>\n",
       "      <td>Crimmins, Lauren</td>\n",
       "      <td>M</td>\n",
       "      <td>62.000000</td>\n",
       "      <td>KY</td>\n",
       "      <td>South</td>\n",
       "      <td>Wednesday</td>\n",
       "      <td>5</td>\n",
       "    </tr>\n",
       "    <tr>\n",
       "      <th>2021-09-30</th>\n",
       "      <td>2</td>\n",
       "      <td>150.000000</td>\n",
       "      <td>0.000000</td>\n",
       "      <td>cod</td>\n",
       "      <td>Crimmins, Lauren</td>\n",
       "      <td>M</td>\n",
       "      <td>62.000000</td>\n",
       "      <td>KY</td>\n",
       "      <td>South</td>\n",
       "      <td>Thursday</td>\n",
       "      <td>5</td>\n",
       "    </tr>\n",
       "  </tbody>\n",
       "</table>\n",
       "<p>365 rows × 11 columns</p>\n",
       "</div>"
      ],
      "text/plain": [
       "            order_qty       price  discount_amount payment_method  \\\n",
       "2020-10-01         46  233.673684         7.368421            cod   \n",
       "2020-10-02         65  176.762069         5.265034            cod   \n",
       "2020-10-03        140  834.051923       279.100192            cod   \n",
       "2020-10-04         34  388.966667       187.574417            cod   \n",
       "2020-10-05         32  461.153846       221.538462            cod   \n",
       "...               ...         ...              ...            ...   \n",
       "2021-09-26          2  150.000000         0.000000            cod   \n",
       "2021-09-27          2  150.000000         0.000000            cod   \n",
       "2021-09-28          2  150.000000         0.000000            cod   \n",
       "2021-09-29          2  150.000000         0.000000            cod   \n",
       "2021-09-30          2  150.000000         0.000000            cod   \n",
       "\n",
       "                   full_name gender        age state   region day_of_week  \\\n",
       "2020-10-01  Starkey, Stephan      F  42.473684    CA    South    Thursday   \n",
       "2020-10-02  Guillaume, Alton      F  43.620690    NY  Midwest      Friday   \n",
       "2020-10-03      Agin, Winona      M  44.519231    CA    South    Saturday   \n",
       "2020-10-04  Clausing, Rafael      M  47.583333    CA    South      Sunday   \n",
       "2020-10-05     Gratton, Raul      F  46.692308    CA    South      Monday   \n",
       "...                      ...    ...        ...   ...      ...         ...   \n",
       "2021-09-26  Crimmins, Lauren      M  62.000000    KY    South      Sunday   \n",
       "2021-09-27  Crimmins, Lauren      M  62.000000    KY    South      Monday   \n",
       "2021-09-28  Crimmins, Lauren      M  62.000000    KY    South     Tuesday   \n",
       "2021-09-29  Crimmins, Lauren      M  62.000000    KY    South   Wednesday   \n",
       "2021-09-30  Crimmins, Lauren      M  62.000000    KY    South    Thursday   \n",
       "\n",
       "           week_in_month  \n",
       "2020-10-01             1  \n",
       "2020-10-02             1  \n",
       "2020-10-03             1  \n",
       "2020-10-04             1  \n",
       "2020-10-05             1  \n",
       "...                  ...  \n",
       "2021-09-26             4  \n",
       "2021-09-27             4  \n",
       "2021-09-28             4  \n",
       "2021-09-29             5  \n",
       "2021-09-30             5  \n",
       "\n",
       "[365 rows x 11 columns]"
      ]
     },
     "execution_count": 9,
     "metadata": {},
     "output_type": "execute_result"
    }
   ],
   "source": [
    "# Check results\n",
    "mobiles_df"
   ]
  },
  {
   "cell_type": "code",
   "execution_count": 10,
   "id": "22074468-6cae-41db-b182-24f8a1fd04c3",
   "metadata": {},
   "outputs": [
    {
     "name": "stdout",
     "output_type": "stream",
     "text": [
      "<class 'pandas.core.frame.DataFrame'>\n",
      "DatetimeIndex: 365 entries, 2020-10-01 to 2021-09-30\n",
      "Freq: D\n",
      "Data columns (total 11 columns):\n",
      " #   Column           Non-Null Count  Dtype  \n",
      "---  ------           --------------  -----  \n",
      " 0   order_qty        365 non-null    int64  \n",
      " 1   price            365 non-null    float64\n",
      " 2   discount_amount  365 non-null    float64\n",
      " 3   payment_method   365 non-null    object \n",
      " 4   full_name        365 non-null    object \n",
      " 5   gender           365 non-null    object \n",
      " 6   age              365 non-null    float64\n",
      " 7   state            365 non-null    object \n",
      " 8   region           365 non-null    object \n",
      " 9   day_of_week      365 non-null    object \n",
      " 10  week_in_month    365 non-null    object \n",
      "dtypes: float64(3), int64(1), object(7)\n",
      "memory usage: 34.2+ KB\n"
     ]
    }
   ],
   "source": [
    "mobiles_df.info()"
   ]
  },
  {
   "cell_type": "markdown",
   "id": "ca9a9999-0cbf-46f9-bbb7-8298da3823a5",
   "metadata": {},
   "source": [
    "## Train Test Split"
   ]
  },
  {
   "cell_type": "markdown",
   "id": "e0f03e3a-d904-478b-b6c5-03f46782fb67",
   "metadata": {},
   "source": [
    "Filtered the data to cut off at 2021-06-30 per time series modeling to enable comparison"
   ]
  },
  {
   "cell_type": "code",
   "execution_count": 11,
   "id": "4ea39e13-0076-4f5b-a8e9-4950b10df0ef",
   "metadata": {},
   "outputs": [
    {
     "data": {
      "text/html": [
       "<div>\n",
       "<style scoped>\n",
       "    .dataframe tbody tr th:only-of-type {\n",
       "        vertical-align: middle;\n",
       "    }\n",
       "\n",
       "    .dataframe tbody tr th {\n",
       "        vertical-align: top;\n",
       "    }\n",
       "\n",
       "    .dataframe thead th {\n",
       "        text-align: right;\n",
       "    }\n",
       "</style>\n",
       "<table border=\"1\" class=\"dataframe\">\n",
       "  <thead>\n",
       "    <tr style=\"text-align: right;\">\n",
       "      <th></th>\n",
       "      <th>order_qty</th>\n",
       "      <th>price</th>\n",
       "      <th>discount_amount</th>\n",
       "      <th>payment_method</th>\n",
       "      <th>full_name</th>\n",
       "      <th>gender</th>\n",
       "      <th>age</th>\n",
       "      <th>state</th>\n",
       "      <th>region</th>\n",
       "      <th>day_of_week</th>\n",
       "      <th>week_in_month</th>\n",
       "    </tr>\n",
       "  </thead>\n",
       "  <tbody>\n",
       "    <tr>\n",
       "      <th>2020-10-01</th>\n",
       "      <td>46</td>\n",
       "      <td>233.673684</td>\n",
       "      <td>7.368421</td>\n",
       "      <td>cod</td>\n",
       "      <td>Starkey, Stephan</td>\n",
       "      <td>F</td>\n",
       "      <td>42.473684</td>\n",
       "      <td>CA</td>\n",
       "      <td>South</td>\n",
       "      <td>Thursday</td>\n",
       "      <td>1</td>\n",
       "    </tr>\n",
       "    <tr>\n",
       "      <th>2020-10-02</th>\n",
       "      <td>65</td>\n",
       "      <td>176.762069</td>\n",
       "      <td>5.265034</td>\n",
       "      <td>cod</td>\n",
       "      <td>Guillaume, Alton</td>\n",
       "      <td>F</td>\n",
       "      <td>43.620690</td>\n",
       "      <td>NY</td>\n",
       "      <td>Midwest</td>\n",
       "      <td>Friday</td>\n",
       "      <td>1</td>\n",
       "    </tr>\n",
       "    <tr>\n",
       "      <th>2020-10-03</th>\n",
       "      <td>140</td>\n",
       "      <td>834.051923</td>\n",
       "      <td>279.100192</td>\n",
       "      <td>cod</td>\n",
       "      <td>Agin, Winona</td>\n",
       "      <td>M</td>\n",
       "      <td>44.519231</td>\n",
       "      <td>CA</td>\n",
       "      <td>South</td>\n",
       "      <td>Saturday</td>\n",
       "      <td>1</td>\n",
       "    </tr>\n",
       "    <tr>\n",
       "      <th>2020-10-04</th>\n",
       "      <td>34</td>\n",
       "      <td>388.966667</td>\n",
       "      <td>187.574417</td>\n",
       "      <td>cod</td>\n",
       "      <td>Clausing, Rafael</td>\n",
       "      <td>M</td>\n",
       "      <td>47.583333</td>\n",
       "      <td>CA</td>\n",
       "      <td>South</td>\n",
       "      <td>Sunday</td>\n",
       "      <td>1</td>\n",
       "    </tr>\n",
       "    <tr>\n",
       "      <th>2020-10-05</th>\n",
       "      <td>32</td>\n",
       "      <td>461.153846</td>\n",
       "      <td>221.538462</td>\n",
       "      <td>cod</td>\n",
       "      <td>Gratton, Raul</td>\n",
       "      <td>F</td>\n",
       "      <td>46.692308</td>\n",
       "      <td>CA</td>\n",
       "      <td>South</td>\n",
       "      <td>Monday</td>\n",
       "      <td>1</td>\n",
       "    </tr>\n",
       "    <tr>\n",
       "      <th>...</th>\n",
       "      <td>...</td>\n",
       "      <td>...</td>\n",
       "      <td>...</td>\n",
       "      <td>...</td>\n",
       "      <td>...</td>\n",
       "      <td>...</td>\n",
       "      <td>...</td>\n",
       "      <td>...</td>\n",
       "      <td>...</td>\n",
       "      <td>...</td>\n",
       "      <td>...</td>\n",
       "    </tr>\n",
       "    <tr>\n",
       "      <th>2021-06-26</th>\n",
       "      <td>0</td>\n",
       "      <td>1749.900000</td>\n",
       "      <td>0.000000</td>\n",
       "      <td>cod</td>\n",
       "      <td>Leeson, Nakia</td>\n",
       "      <td>F</td>\n",
       "      <td>25.000000</td>\n",
       "      <td>AZ</td>\n",
       "      <td>West</td>\n",
       "      <td>Saturday</td>\n",
       "      <td>4</td>\n",
       "    </tr>\n",
       "    <tr>\n",
       "      <th>2021-06-27</th>\n",
       "      <td>6</td>\n",
       "      <td>6017.533333</td>\n",
       "      <td>0.000000</td>\n",
       "      <td>customercredit</td>\n",
       "      <td>Pedrosa, Haydee</td>\n",
       "      <td>F</td>\n",
       "      <td>37.000000</td>\n",
       "      <td>MO</td>\n",
       "      <td>Midwest</td>\n",
       "      <td>Sunday</td>\n",
       "      <td>4</td>\n",
       "    </tr>\n",
       "    <tr>\n",
       "      <th>2021-06-28</th>\n",
       "      <td>0</td>\n",
       "      <td>6017.533333</td>\n",
       "      <td>0.000000</td>\n",
       "      <td>customercredit</td>\n",
       "      <td>Pedrosa, Haydee</td>\n",
       "      <td>F</td>\n",
       "      <td>37.000000</td>\n",
       "      <td>MO</td>\n",
       "      <td>Midwest</td>\n",
       "      <td>Monday</td>\n",
       "      <td>4</td>\n",
       "    </tr>\n",
       "    <tr>\n",
       "      <th>2021-06-29</th>\n",
       "      <td>6</td>\n",
       "      <td>59.900000</td>\n",
       "      <td>0.000000</td>\n",
       "      <td>cod</td>\n",
       "      <td>Funches, Raymond</td>\n",
       "      <td>M</td>\n",
       "      <td>54.000000</td>\n",
       "      <td>VA</td>\n",
       "      <td>South</td>\n",
       "      <td>Tuesday</td>\n",
       "      <td>5</td>\n",
       "    </tr>\n",
       "    <tr>\n",
       "      <th>2021-06-30</th>\n",
       "      <td>0</td>\n",
       "      <td>59.900000</td>\n",
       "      <td>0.000000</td>\n",
       "      <td>cod</td>\n",
       "      <td>Funches, Raymond</td>\n",
       "      <td>M</td>\n",
       "      <td>54.000000</td>\n",
       "      <td>VA</td>\n",
       "      <td>South</td>\n",
       "      <td>Wednesday</td>\n",
       "      <td>5</td>\n",
       "    </tr>\n",
       "  </tbody>\n",
       "</table>\n",
       "<p>273 rows × 11 columns</p>\n",
       "</div>"
      ],
      "text/plain": [
       "            order_qty        price  discount_amount  payment_method  \\\n",
       "2020-10-01         46   233.673684         7.368421             cod   \n",
       "2020-10-02         65   176.762069         5.265034             cod   \n",
       "2020-10-03        140   834.051923       279.100192             cod   \n",
       "2020-10-04         34   388.966667       187.574417             cod   \n",
       "2020-10-05         32   461.153846       221.538462             cod   \n",
       "...               ...          ...              ...             ...   \n",
       "2021-06-26          0  1749.900000         0.000000             cod   \n",
       "2021-06-27          6  6017.533333         0.000000  customercredit   \n",
       "2021-06-28          0  6017.533333         0.000000  customercredit   \n",
       "2021-06-29          6    59.900000         0.000000             cod   \n",
       "2021-06-30          0    59.900000         0.000000             cod   \n",
       "\n",
       "                   full_name gender        age state   region day_of_week  \\\n",
       "2020-10-01  Starkey, Stephan      F  42.473684    CA    South    Thursday   \n",
       "2020-10-02  Guillaume, Alton      F  43.620690    NY  Midwest      Friday   \n",
       "2020-10-03      Agin, Winona      M  44.519231    CA    South    Saturday   \n",
       "2020-10-04  Clausing, Rafael      M  47.583333    CA    South      Sunday   \n",
       "2020-10-05     Gratton, Raul      F  46.692308    CA    South      Monday   \n",
       "...                      ...    ...        ...   ...      ...         ...   \n",
       "2021-06-26     Leeson, Nakia      F  25.000000    AZ     West    Saturday   \n",
       "2021-06-27   Pedrosa, Haydee      F  37.000000    MO  Midwest      Sunday   \n",
       "2021-06-28   Pedrosa, Haydee      F  37.000000    MO  Midwest      Monday   \n",
       "2021-06-29  Funches, Raymond      M  54.000000    VA    South     Tuesday   \n",
       "2021-06-30  Funches, Raymond      M  54.000000    VA    South   Wednesday   \n",
       "\n",
       "           week_in_month  \n",
       "2020-10-01             1  \n",
       "2020-10-02             1  \n",
       "2020-10-03             1  \n",
       "2020-10-04             1  \n",
       "2020-10-05             1  \n",
       "...                  ...  \n",
       "2021-06-26             4  \n",
       "2021-06-27             4  \n",
       "2021-06-28             4  \n",
       "2021-06-29             5  \n",
       "2021-06-30             5  \n",
       "\n",
       "[273 rows x 11 columns]"
      ]
     },
     "execution_count": 11,
     "metadata": {},
     "output_type": "execute_result"
    }
   ],
   "source": [
    "mobiles_df = mobiles_df[mobiles_df.index<='2021-06-30']\n",
    "mobiles_df"
   ]
  },
  {
   "cell_type": "code",
   "execution_count": 12,
   "id": "94a6fe9a-f517-4d6d-aa9b-bc793b68b95a",
   "metadata": {},
   "outputs": [],
   "source": [
    "X = mobiles_df[['price','discount_amount','age','day_of_week','week_in_month','payment_method','gender','state','region']]\n",
    "y = mobiles_df[['order_qty']]"
   ]
  },
  {
   "cell_type": "code",
   "execution_count": 13,
   "id": "9a80e7cf-3941-435c-b501-f10013bdff0b",
   "metadata": {},
   "outputs": [],
   "source": [
    "X_train = X[:182]\n",
    "X_test = X[182:]\n",
    "y_train = y[:182]\n",
    "y_test = y[182:]"
   ]
  },
  {
   "cell_type": "code",
   "execution_count": 14,
   "id": "d0d3811a-109d-4d74-980d-97966420d736",
   "metadata": {},
   "outputs": [
    {
     "name": "stdout",
     "output_type": "stream",
     "text": [
      "X_train dataframe rows, columns:  (182, 9)\n",
      "y_train rows:  (182, 1)\n",
      "X_test dataframe rows, columns:  (91, 9)\n",
      "y_test rows:  (91, 1)\n"
     ]
    }
   ],
   "source": [
    "# Check the split is correct\n",
    "print('X_train dataframe rows, columns: ', X_train.shape)\n",
    "print('y_train rows: ', y_train.shape)\n",
    "print('X_test dataframe rows, columns: ', X_test.shape)\n",
    "print('y_test rows: ', y_test.shape)"
   ]
  },
  {
   "cell_type": "code",
   "execution_count": 15,
   "id": "12edbdeb-b85d-41b3-933c-8fff52034ac0",
   "metadata": {},
   "outputs": [
    {
     "data": {
      "text/plain": [
       "(DatetimeIndex(['2020-10-01', '2020-10-02', '2020-10-03', '2020-10-04',\n",
       "                '2020-10-05', '2020-10-06', '2020-10-07', '2020-10-08',\n",
       "                '2020-10-09', '2020-10-10',\n",
       "                ...\n",
       "                '2021-03-22', '2021-03-23', '2021-03-24', '2021-03-25',\n",
       "                '2021-03-26', '2021-03-27', '2021-03-28', '2021-03-29',\n",
       "                '2021-03-30', '2021-03-31'],\n",
       "               dtype='datetime64[ns]', length=182, freq='D'),\n",
       " DatetimeIndex(['2021-04-01', '2021-04-02', '2021-04-03', '2021-04-04',\n",
       "                '2021-04-05', '2021-04-06', '2021-04-07', '2021-04-08',\n",
       "                '2021-04-09', '2021-04-10', '2021-04-11', '2021-04-12',\n",
       "                '2021-04-13', '2021-04-14', '2021-04-15', '2021-04-16',\n",
       "                '2021-04-17', '2021-04-18', '2021-04-19', '2021-04-20',\n",
       "                '2021-04-21', '2021-04-22', '2021-04-23', '2021-04-24',\n",
       "                '2021-04-25', '2021-04-26', '2021-04-27', '2021-04-28',\n",
       "                '2021-04-29', '2021-04-30', '2021-05-01', '2021-05-02',\n",
       "                '2021-05-03', '2021-05-04', '2021-05-05', '2021-05-06',\n",
       "                '2021-05-07', '2021-05-08', '2021-05-09', '2021-05-10',\n",
       "                '2021-05-11', '2021-05-12', '2021-05-13', '2021-05-14',\n",
       "                '2021-05-15', '2021-05-16', '2021-05-17', '2021-05-18',\n",
       "                '2021-05-19', '2021-05-20', '2021-05-21', '2021-05-22',\n",
       "                '2021-05-23', '2021-05-24', '2021-05-25', '2021-05-26',\n",
       "                '2021-05-27', '2021-05-28', '2021-05-29', '2021-05-30',\n",
       "                '2021-05-31', '2021-06-01', '2021-06-02', '2021-06-03',\n",
       "                '2021-06-04', '2021-06-05', '2021-06-06', '2021-06-07',\n",
       "                '2021-06-08', '2021-06-09', '2021-06-10', '2021-06-11',\n",
       "                '2021-06-12', '2021-06-13', '2021-06-14', '2021-06-15',\n",
       "                '2021-06-16', '2021-06-17', '2021-06-18', '2021-06-19',\n",
       "                '2021-06-20', '2021-06-21', '2021-06-22', '2021-06-23',\n",
       "                '2021-06-24', '2021-06-25', '2021-06-26', '2021-06-27',\n",
       "                '2021-06-28', '2021-06-29', '2021-06-30'],\n",
       "               dtype='datetime64[ns]', freq='D'))"
      ]
     },
     "execution_count": 15,
     "metadata": {},
     "output_type": "execute_result"
    }
   ],
   "source": [
    "# Check split datetime\n",
    "y_train.index, y_test.index"
   ]
  },
  {
   "cell_type": "markdown",
   "id": "210fc189-3e4f-4026-9152-f711912e3d80",
   "metadata": {},
   "source": [
    "## Random Forest Regression Model"
   ]
  },
  {
   "cell_type": "markdown",
   "id": "1393b1f2-2b09-4236-bad2-6d80c5cc7eb0",
   "metadata": {},
   "source": [
    "1. Random Forest model is an ensemble of decision tree algorithms that can be used for classification and regression problems.\n",
    "2. In this model, bootstrap aggregation (bagging) creates a number of decision trees samples with replacement.  Some variables will appear more than once in sample.\n",
    "3. Random forest select a subset of input features (columns) at each split point to construct decision trees. \n",
    "4. Each decision tree is unpruned and slightly overfits to make prediction errors from each tree unique and less correlated.\n",
    "5. The final prediction is averaged across all decision trees resulting in better performance than bagged decision tree models.\n",
    "6. Random Forest model can capture complex relationships in dataset and they are robust for short-term forecasts. It is also scalable to include additional features like promotional events and holidays etc when these info are made available in future. "
   ]
  },
  {
   "cell_type": "markdown",
   "id": "0f64f74e-538f-46e3-9f6b-4b4b11156337",
   "metadata": {},
   "source": [
    "Create the list for categorical and numerical for the selected features respectively for the transformers"
   ]
  },
  {
   "cell_type": "code",
   "execution_count": 16,
   "id": "7d9425bb-5aea-4e7e-8a2b-8f0bc2d9c1cc",
   "metadata": {},
   "outputs": [],
   "source": [
    "categorical_col = ['day_of_week','week_in_month','payment_method','gender','region']\n",
    "numerical_col = ['price','discount_amount','age']"
   ]
  },
  {
   "cell_type": "markdown",
   "id": "7589d0d0-6b65-49c3-8916-d22d0ccdae8a",
   "metadata": {},
   "source": [
    "Create transformers"
   ]
  },
  {
   "cell_type": "code",
   "execution_count": 17,
   "id": "89d11d28-afec-4c0c-9b60-43ad0272885b",
   "metadata": {},
   "outputs": [],
   "source": [
    "preprocessor = ColumnTransformer(\n",
    "    transformers=[('ohe', OneHotEncoder(handle_unknown='infrequent_if_exist',drop='first',min_frequency=0.01), categorical_col),\n",
    "                  ('ss', StandardScaler(), numerical_col)\n",
    "                 ])"
   ]
  },
  {
   "cell_type": "markdown",
   "id": "8ff4bf9b-99f1-4fcf-9dc2-bbeb53a076bd",
   "metadata": {},
   "source": [
    "Create Pipeline for transformers and estimator"
   ]
  },
  {
   "cell_type": "code",
   "execution_count": 18,
   "id": "44f30d30-bafb-49c9-9668-9f8b29a77179",
   "metadata": {},
   "outputs": [],
   "source": [
    "pipe_rf = Pipeline([('pp', preprocessor),\n",
    "                    ('rf', RandomForestRegressor())])"
   ]
  },
  {
   "cell_type": "markdown",
   "id": "ee926ce3-b50a-443f-91e1-41240f23d8a2",
   "metadata": {},
   "source": [
    "Setting up parameters for model"
   ]
  },
  {
   "cell_type": "code",
   "execution_count": 19,
   "id": "7a169161-288f-4f61-acf8-b8ca999959c1",
   "metadata": {},
   "outputs": [],
   "source": [
    "pipe_rf_params = {'rf__max_depth': [6, 7],\n",
    "                  'rf__n_estimators':[3, 5],\n",
    "                  'rf__min_samples_split':[3, 4, 5],\n",
    "                  'rf__min_samples_leaf':[2],\n",
    "                  'rf__random_state': [42]}"
   ]
  },
  {
   "cell_type": "markdown",
   "id": "5dbda42d-515a-43a2-87cb-1fe2bb89d288",
   "metadata": {},
   "source": [
    "GridSearch based on parameters"
   ]
  },
  {
   "cell_type": "code",
   "execution_count": 20,
   "id": "82524894-f664-40e5-b188-6c3135fbfb70",
   "metadata": {},
   "outputs": [],
   "source": [
    "gs_rf  = GridSearchCV(pipe_rf,\n",
    "                      param_grid=pipe_rf_params,\n",
    "                      cv=3)"
   ]
  },
  {
   "cell_type": "markdown",
   "id": "ffdc3e71-7101-4527-9699-05d6c3466178",
   "metadata": {},
   "source": [
    "Fit train data into GridSearch Random Foreast Model"
   ]
  },
  {
   "cell_type": "code",
   "execution_count": 21,
   "id": "7f074459-45b0-424a-b054-37eac2330801",
   "metadata": {
    "scrolled": true
   },
   "outputs": [
    {
     "name": "stderr",
     "output_type": "stream",
     "text": [
      "C:\\Users\\chloe\\mambaforge\\envs\\dsi-sg\\lib\\site-packages\\sklearn\\preprocessing\\_encoders.py:202: UserWarning: Found unknown categories in columns [2] during transform. These unknown categories will be encoded as all zeros\n",
      "  warnings.warn(\n",
      "C:\\Users\\chloe\\mambaforge\\envs\\dsi-sg\\lib\\site-packages\\sklearn\\preprocessing\\_encoders.py:202: UserWarning: Found unknown categories in columns [2] during transform. These unknown categories will be encoded as all zeros\n",
      "  warnings.warn(\n",
      "C:\\Users\\chloe\\mambaforge\\envs\\dsi-sg\\lib\\site-packages\\sklearn\\preprocessing\\_encoders.py:202: UserWarning: Found unknown categories in columns [2] during transform. These unknown categories will be encoded as all zeros\n",
      "  warnings.warn(\n",
      "C:\\Users\\chloe\\mambaforge\\envs\\dsi-sg\\lib\\site-packages\\sklearn\\preprocessing\\_encoders.py:202: UserWarning: Found unknown categories in columns [2] during transform. These unknown categories will be encoded as all zeros\n",
      "  warnings.warn(\n",
      "C:\\Users\\chloe\\mambaforge\\envs\\dsi-sg\\lib\\site-packages\\sklearn\\preprocessing\\_encoders.py:202: UserWarning: Found unknown categories in columns [2] during transform. These unknown categories will be encoded as all zeros\n",
      "  warnings.warn(\n",
      "C:\\Users\\chloe\\mambaforge\\envs\\dsi-sg\\lib\\site-packages\\sklearn\\preprocessing\\_encoders.py:202: UserWarning: Found unknown categories in columns [2] during transform. These unknown categories will be encoded as all zeros\n",
      "  warnings.warn(\n",
      "C:\\Users\\chloe\\mambaforge\\envs\\dsi-sg\\lib\\site-packages\\sklearn\\preprocessing\\_encoders.py:202: UserWarning: Found unknown categories in columns [2] during transform. These unknown categories will be encoded as all zeros\n",
      "  warnings.warn(\n",
      "C:\\Users\\chloe\\mambaforge\\envs\\dsi-sg\\lib\\site-packages\\sklearn\\preprocessing\\_encoders.py:202: UserWarning: Found unknown categories in columns [2] during transform. These unknown categories will be encoded as all zeros\n",
      "  warnings.warn(\n",
      "C:\\Users\\chloe\\mambaforge\\envs\\dsi-sg\\lib\\site-packages\\sklearn\\preprocessing\\_encoders.py:202: UserWarning: Found unknown categories in columns [2] during transform. These unknown categories will be encoded as all zeros\n",
      "  warnings.warn(\n",
      "C:\\Users\\chloe\\mambaforge\\envs\\dsi-sg\\lib\\site-packages\\sklearn\\preprocessing\\_encoders.py:202: UserWarning: Found unknown categories in columns [2] during transform. These unknown categories will be encoded as all zeros\n",
      "  warnings.warn(\n",
      "C:\\Users\\chloe\\mambaforge\\envs\\dsi-sg\\lib\\site-packages\\sklearn\\preprocessing\\_encoders.py:202: UserWarning: Found unknown categories in columns [2] during transform. These unknown categories will be encoded as all zeros\n",
      "  warnings.warn(\n",
      "C:\\Users\\chloe\\mambaforge\\envs\\dsi-sg\\lib\\site-packages\\sklearn\\preprocessing\\_encoders.py:202: UserWarning: Found unknown categories in columns [2] during transform. These unknown categories will be encoded as all zeros\n",
      "  warnings.warn(\n"
     ]
    }
   ],
   "source": [
    "gs_rf = gs_rf.fit(X_train, y_train.values.ravel())"
   ]
  },
  {
   "cell_type": "markdown",
   "id": "16f10751-42f7-446e-8049-73343546b1eb",
   "metadata": {},
   "source": [
    "### Evaluate Model"
   ]
  },
  {
   "cell_type": "code",
   "execution_count": 22,
   "id": "a1506643-6c78-4667-a789-1d318311ba64",
   "metadata": {},
   "outputs": [
    {
     "data": {
      "text/html": [
       "<div>\n",
       "<style scoped>\n",
       "    .dataframe tbody tr th:only-of-type {\n",
       "        vertical-align: middle;\n",
       "    }\n",
       "\n",
       "    .dataframe tbody tr th {\n",
       "        vertical-align: top;\n",
       "    }\n",
       "\n",
       "    .dataframe thead th {\n",
       "        text-align: right;\n",
       "    }\n",
       "</style>\n",
       "<table border=\"1\" class=\"dataframe\">\n",
       "  <thead>\n",
       "    <tr style=\"text-align: right;\">\n",
       "      <th></th>\n",
       "      <th>mean_fit_time</th>\n",
       "      <th>std_fit_time</th>\n",
       "      <th>mean_score_time</th>\n",
       "      <th>std_score_time</th>\n",
       "      <th>param_rf__max_depth</th>\n",
       "      <th>param_rf__min_samples_leaf</th>\n",
       "      <th>param_rf__min_samples_split</th>\n",
       "      <th>param_rf__n_estimators</th>\n",
       "      <th>param_rf__random_state</th>\n",
       "      <th>params</th>\n",
       "      <th>split0_test_score</th>\n",
       "      <th>split1_test_score</th>\n",
       "      <th>split2_test_score</th>\n",
       "      <th>mean_test_score</th>\n",
       "      <th>std_test_score</th>\n",
       "      <th>rank_test_score</th>\n",
       "    </tr>\n",
       "  </thead>\n",
       "  <tbody>\n",
       "    <tr>\n",
       "      <th>6</th>\n",
       "      <td>0.008297</td>\n",
       "      <td>0.000180</td>\n",
       "      <td>0.003021</td>\n",
       "      <td>0.000020</td>\n",
       "      <td>7</td>\n",
       "      <td>2</td>\n",
       "      <td>3</td>\n",
       "      <td>3</td>\n",
       "      <td>42</td>\n",
       "      <td>{'rf__max_depth': 7, 'rf__min_samples_leaf': 2...</td>\n",
       "      <td>-0.029936</td>\n",
       "      <td>0.480518</td>\n",
       "      <td>-2.158306</td>\n",
       "      <td>-0.569241</td>\n",
       "      <td>1.142800</td>\n",
       "      <td>11</td>\n",
       "    </tr>\n",
       "    <tr>\n",
       "      <th>8</th>\n",
       "      <td>0.008341</td>\n",
       "      <td>0.000479</td>\n",
       "      <td>0.002001</td>\n",
       "      <td>0.001415</td>\n",
       "      <td>7</td>\n",
       "      <td>2</td>\n",
       "      <td>4</td>\n",
       "      <td>3</td>\n",
       "      <td>42</td>\n",
       "      <td>{'rf__max_depth': 7, 'rf__min_samples_leaf': 2...</td>\n",
       "      <td>-0.029936</td>\n",
       "      <td>0.480518</td>\n",
       "      <td>-2.158306</td>\n",
       "      <td>-0.569241</td>\n",
       "      <td>1.142800</td>\n",
       "      <td>11</td>\n",
       "    </tr>\n",
       "    <tr>\n",
       "      <th>0</th>\n",
       "      <td>0.011026</td>\n",
       "      <td>0.000943</td>\n",
       "      <td>0.004506</td>\n",
       "      <td>0.000403</td>\n",
       "      <td>6</td>\n",
       "      <td>2</td>\n",
       "      <td>3</td>\n",
       "      <td>3</td>\n",
       "      <td>42</td>\n",
       "      <td>{'rf__max_depth': 6, 'rf__min_samples_leaf': 2...</td>\n",
       "      <td>-0.070294</td>\n",
       "      <td>0.482218</td>\n",
       "      <td>-2.061922</td>\n",
       "      <td>-0.549999</td>\n",
       "      <td>1.092626</td>\n",
       "      <td>9</td>\n",
       "    </tr>\n",
       "    <tr>\n",
       "      <th>2</th>\n",
       "      <td>0.008335</td>\n",
       "      <td>0.000472</td>\n",
       "      <td>0.003001</td>\n",
       "      <td>0.000001</td>\n",
       "      <td>6</td>\n",
       "      <td>2</td>\n",
       "      <td>4</td>\n",
       "      <td>3</td>\n",
       "      <td>42</td>\n",
       "      <td>{'rf__max_depth': 6, 'rf__min_samples_leaf': 2...</td>\n",
       "      <td>-0.070294</td>\n",
       "      <td>0.482218</td>\n",
       "      <td>-2.061922</td>\n",
       "      <td>-0.549999</td>\n",
       "      <td>1.092626</td>\n",
       "      <td>9</td>\n",
       "    </tr>\n",
       "    <tr>\n",
       "      <th>10</th>\n",
       "      <td>0.014969</td>\n",
       "      <td>0.005068</td>\n",
       "      <td>0.002026</td>\n",
       "      <td>0.001433</td>\n",
       "      <td>7</td>\n",
       "      <td>2</td>\n",
       "      <td>5</td>\n",
       "      <td>3</td>\n",
       "      <td>42</td>\n",
       "      <td>{'rf__max_depth': 7, 'rf__min_samples_leaf': 2...</td>\n",
       "      <td>-0.050850</td>\n",
       "      <td>0.480238</td>\n",
       "      <td>-1.228074</td>\n",
       "      <td>-0.266229</td>\n",
       "      <td>0.713850</td>\n",
       "      <td>8</td>\n",
       "    </tr>\n",
       "  </tbody>\n",
       "</table>\n",
       "</div>"
      ],
      "text/plain": [
       "    mean_fit_time  std_fit_time  mean_score_time  std_score_time  \\\n",
       "6        0.008297      0.000180         0.003021        0.000020   \n",
       "8        0.008341      0.000479         0.002001        0.001415   \n",
       "0        0.011026      0.000943         0.004506        0.000403   \n",
       "2        0.008335      0.000472         0.003001        0.000001   \n",
       "10       0.014969      0.005068         0.002026        0.001433   \n",
       "\n",
       "   param_rf__max_depth param_rf__min_samples_leaf param_rf__min_samples_split  \\\n",
       "6                    7                          2                           3   \n",
       "8                    7                          2                           4   \n",
       "0                    6                          2                           3   \n",
       "2                    6                          2                           4   \n",
       "10                   7                          2                           5   \n",
       "\n",
       "   param_rf__n_estimators param_rf__random_state  \\\n",
       "6                       3                     42   \n",
       "8                       3                     42   \n",
       "0                       3                     42   \n",
       "2                       3                     42   \n",
       "10                      3                     42   \n",
       "\n",
       "                                               params  split0_test_score  \\\n",
       "6   {'rf__max_depth': 7, 'rf__min_samples_leaf': 2...          -0.029936   \n",
       "8   {'rf__max_depth': 7, 'rf__min_samples_leaf': 2...          -0.029936   \n",
       "0   {'rf__max_depth': 6, 'rf__min_samples_leaf': 2...          -0.070294   \n",
       "2   {'rf__max_depth': 6, 'rf__min_samples_leaf': 2...          -0.070294   \n",
       "10  {'rf__max_depth': 7, 'rf__min_samples_leaf': 2...          -0.050850   \n",
       "\n",
       "    split1_test_score  split2_test_score  mean_test_score  std_test_score  \\\n",
       "6            0.480518          -2.158306        -0.569241        1.142800   \n",
       "8            0.480518          -2.158306        -0.569241        1.142800   \n",
       "0            0.482218          -2.061922        -0.549999        1.092626   \n",
       "2            0.482218          -2.061922        -0.549999        1.092626   \n",
       "10           0.480238          -1.228074        -0.266229        0.713850   \n",
       "\n",
       "    rank_test_score  \n",
       "6                11  \n",
       "8                11  \n",
       "0                 9  \n",
       "2                 9  \n",
       "10                8  "
      ]
     },
     "execution_count": 22,
     "metadata": {},
     "output_type": "execute_result"
    }
   ],
   "source": [
    "rf_result = pd.DataFrame(gs_rf.cv_results_).sort_values('rank_test_score',ascending=False)\n",
    "rf_result.head()"
   ]
  },
  {
   "cell_type": "markdown",
   "id": "3e2aad50-f1b4-43b0-96dd-88f46d1382ee",
   "metadata": {},
   "source": [
    "Export model as pickle file"
   ]
  },
  {
   "cell_type": "code",
   "execution_count": 23,
   "id": "4e47baa3-7ebc-4d74-8312-794bbb0b6ba6",
   "metadata": {},
   "outputs": [],
   "source": [
    "# pickle the model\n",
    "pickle.dump(gs_rf, open('../pkl/randomforest_model.pkl', 'wb'))"
   ]
  },
  {
   "cell_type": "markdown",
   "id": "7ecbecf8-1b96-428e-b7ac-148b5bfb8546",
   "metadata": {},
   "source": [
    "### Visualization"
   ]
  },
  {
   "cell_type": "markdown",
   "id": "bd2211c5-87fe-4d0c-ba88-5edcf1299474",
   "metadata": {},
   "source": [
    "Forecasting for next 91 days"
   ]
  },
  {
   "cell_type": "code",
   "execution_count": 24,
   "id": "6acf02ec-2674-4fdc-b4c0-796d18dc6897",
   "metadata": {},
   "outputs": [
    {
     "name": "stderr",
     "output_type": "stream",
     "text": [
      "C:\\Users\\chloe\\mambaforge\\envs\\dsi-sg\\lib\\site-packages\\sklearn\\preprocessing\\_encoders.py:202: UserWarning: Found unknown categories in columns [2] during transform. These unknown categories will be encoded as all zeros\n",
      "  warnings.warn(\n"
     ]
    },
    {
     "data": {
      "image/png": "[encoded data removed]",
      "text/plain": [
       "<Figure size 2000x600 with 1 Axes>"
      ]
     },
     "metadata": {},
     "output_type": "display_data"
    }
   ],
   "source": [
    "plot_forecast(y_train, y_test, gs_rf, 91, X_train, X_test)"
   ]
  },
  {
   "cell_type": "markdown",
   "id": "312094e3-9ad3-4812-a521-ace492e63026",
   "metadata": {},
   "source": [
    "Forecasting for next 60 days"
   ]
  },
  {
   "cell_type": "code",
   "execution_count": 25,
   "id": "302f22d2-ddc2-462e-b6f4-9746bf40edce",
   "metadata": {},
   "outputs": [
    {
     "name": "stderr",
     "output_type": "stream",
     "text": [
      "C:\\Users\\chloe\\mambaforge\\envs\\dsi-sg\\lib\\site-packages\\sklearn\\preprocessing\\_encoders.py:202: UserWarning: Found unknown categories in columns [2] during transform. These unknown categories will be encoded as all zeros\n",
      "  warnings.warn(\n"
     ]
    },
    {
     "data": {
      "image/png": "[encoded data removed]",
      "text/plain": [
       "<Figure size 2000x600 with 1 Axes>"
      ]
     },
     "metadata": {},
     "output_type": "display_data"
    }
   ],
   "source": [
    "plot_forecast(y_train, y_test, gs_rf, 60, X_train, X_test)"
   ]
  },
  {
   "cell_type": "markdown",
   "id": "4e70f5a8-dc3b-4075-b796-132135deb819",
   "metadata": {},
   "source": [
    "### Feature Importance"
   ]
  },
  {
   "cell_type": "markdown",
   "id": "07df6c95-86d2-4e84-86d5-c6bace814661",
   "metadata": {},
   "source": [
    "Extract the model's feature importances based on Gini impurity"
   ]
  },
  {
   "cell_type": "code",
   "execution_count": 26,
   "id": "78e2907c-2cf2-4643-9978-d7bea8b17640",
   "metadata": {},
   "outputs": [],
   "source": [
    "feature_importances = gs_rf.best_estimator_.named_steps['rf'].feature_importances_"
   ]
  },
  {
   "cell_type": "markdown",
   "id": "70d896ae-57e4-4ee5-b1dd-9be98f507f0e",
   "metadata": {},
   "source": [
    "Getting the feature names from best estimator"
   ]
  },
  {
   "cell_type": "code",
   "execution_count": 27,
   "id": "5b68ccdd-8c35-4f4d-9cf3-f4482552921a",
   "metadata": {},
   "outputs": [],
   "source": [
    "feature_names = gs_rf.best_estimator_.named_steps['pp'].get_feature_names_out()"
   ]
  },
  {
   "cell_type": "markdown",
   "id": "de54d4cc-9b48-4c09-b850-f4bf49957820",
   "metadata": {},
   "source": [
    "Display the feature importances by most importance."
   ]
  },
  {
   "cell_type": "code",
   "execution_count": 28,
   "id": "801bf068-dbcc-4cc0-8247-9547e16e66d6",
   "metadata": {},
   "outputs": [
    {
     "data": {
      "text/html": [
       "<div>\n",
       "<style scoped>\n",
       "    .dataframe tbody tr th:only-of-type {\n",
       "        vertical-align: middle;\n",
       "    }\n",
       "\n",
       "    .dataframe tbody tr th {\n",
       "        vertical-align: top;\n",
       "    }\n",
       "\n",
       "    .dataframe thead th {\n",
       "        text-align: right;\n",
       "    }\n",
       "</style>\n",
       "<table border=\"1\" class=\"dataframe\">\n",
       "  <thead>\n",
       "    <tr style=\"text-align: right;\">\n",
       "      <th></th>\n",
       "      <th>feature</th>\n",
       "      <th>importance</th>\n",
       "    </tr>\n",
       "  </thead>\n",
       "  <tbody>\n",
       "    <tr>\n",
       "      <th>12</th>\n",
       "      <td>ohe__payment_method_easypay_voucher</td>\n",
       "      <td>0.580876</td>\n",
       "    </tr>\n",
       "    <tr>\n",
       "      <th>19</th>\n",
       "      <td>ss__discount_amount</td>\n",
       "      <td>0.170587</td>\n",
       "    </tr>\n",
       "    <tr>\n",
       "      <th>18</th>\n",
       "      <td>ss__price</td>\n",
       "      <td>0.118421</td>\n",
       "    </tr>\n",
       "    <tr>\n",
       "      <th>20</th>\n",
       "      <td>ss__age</td>\n",
       "      <td>0.095245</td>\n",
       "    </tr>\n",
       "    <tr>\n",
       "      <th>2</th>\n",
       "      <td>ohe__day_of_week_Sunday</td>\n",
       "      <td>0.021822</td>\n",
       "    </tr>\n",
       "    <tr>\n",
       "      <th>10</th>\n",
       "      <td>ohe__payment_method_Payaxis</td>\n",
       "      <td>0.006424</td>\n",
       "    </tr>\n",
       "    <tr>\n",
       "      <th>5</th>\n",
       "      <td>ohe__day_of_week_Wednesday</td>\n",
       "      <td>0.005296</td>\n",
       "    </tr>\n",
       "    <tr>\n",
       "      <th>11</th>\n",
       "      <td>ohe__payment_method_cod</td>\n",
       "      <td>0.000543</td>\n",
       "    </tr>\n",
       "    <tr>\n",
       "      <th>16</th>\n",
       "      <td>ohe__region_South</td>\n",
       "      <td>0.000337</td>\n",
       "    </tr>\n",
       "    <tr>\n",
       "      <th>14</th>\n",
       "      <td>ohe__gender_M</td>\n",
       "      <td>0.000133</td>\n",
       "    </tr>\n",
       "  </tbody>\n",
       "</table>\n",
       "</div>"
      ],
      "text/plain": [
       "                                feature  importance\n",
       "12  ohe__payment_method_easypay_voucher    0.580876\n",
       "19                  ss__discount_amount    0.170587\n",
       "18                            ss__price    0.118421\n",
       "20                              ss__age    0.095245\n",
       "2               ohe__day_of_week_Sunday    0.021822\n",
       "10          ohe__payment_method_Payaxis    0.006424\n",
       "5            ohe__day_of_week_Wednesday    0.005296\n",
       "11              ohe__payment_method_cod    0.000543\n",
       "16                    ohe__region_South    0.000337\n",
       "14                        ohe__gender_M    0.000133"
      ]
     },
     "execution_count": 28,
     "metadata": {},
     "output_type": "execute_result"
    }
   ],
   "source": [
    "fi_df = pd.DataFrame({'feature': feature_names, 'importance': feature_importances})\n",
    "fi_df.sort_values(by='importance', ascending=False, inplace=True)\n",
    "fi_df.head(10)"
   ]
  },
  {
   "cell_type": "markdown",
   "id": "b34732f7-76f1-4584-b439-5c775abaf1ff",
   "metadata": {},
   "source": [
    "Findings from Random Forest model:\n",
    "1. Hyperparameter tuning enables fine-tuning for best results with no overfitting and underfitting issues.\n",
    "2. Hyperparameters can be adjusted according to the forecasted periods (60 days, 90 days or any other) to achive optimal results for each specific period.\n",
    "3. From the plots above, it shows that shorter periods yield better model performance with better generalization of data.\n",
    "4. It also faciliate feature importance study to allow organization to identify driver for order quantity in a specific periods."
   ]
  },
  {
   "cell_type": "markdown",
   "id": "54f3bf48-0562-4868-9c74-acaa652888bb",
   "metadata": {},
   "source": [
    "## Summary of Model Performance"
   ]
  },
  {
   "cell_type": "markdown",
   "id": "a9fd4e4c-98de-447c-90a7-a3c51a1a332d",
   "metadata": {},
   "source": [
    "Based on analysis and comparison of the 5 models, Random Forest Regression model shows the better fit and yields the lowest RMSE on test data hence it is our best model. \n",
    "Incorporating exogenous factors into modelling help contributed to lower RMSE.  And Random Forest Regressor handle complexity better and generalize to new data better than time series models.\n",
    "\n",
    "| Models                    | RMSE                   | Review        |\n",
    "|---------------------------|------------------------|---------------|\n",
    "| ARIMA                     | Train: 430; Test: 247  | Baseline model   |    \n",
    "| ARIMAX                    | Train: 273; Test: 198  | Slightly overfits  |\n",
    "| SARIMA                    | Train: 388; Test: 260  | Massively overfits  |}\n",
    "| SARIMAX                   | Train: 262; Test: 196  | Slightly overfits  |\n",
    "| Random Forest             | Train: 216; Test: 186  | Good fit.  Lowest RMSE. **Best Model**    |   "
   ]
  }
 ],
 "metadata": {
  "kernelspec": {
   "display_name": "Python 3 (ipykernel)",
   "language": "python",
   "name": "python3"
  },
  "language_info": {
   "codemirror_mode": {
    "name": "ipython",
    "version": 3
   },
   "file_extension": ".py",
   "mimetype": "text/x-python",
   "name": "python",
   "nbconvert_exporter": "python",
   "pygments_lexer": "ipython3",
   "version": "3.8.16"
  }
 },
 "nbformat": 4,
 "nbformat_minor": 5
}
