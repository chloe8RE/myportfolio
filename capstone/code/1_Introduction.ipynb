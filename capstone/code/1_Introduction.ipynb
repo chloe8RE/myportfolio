{
 "cells": [
  {
   "cell_type": "markdown",
   "id": "3a0b8beb-413b-4a53-b56c-79d693998e93",
   "metadata": {},
   "source": [
    "# Capstone: Customer Demand Forecasting"
   ]
  },
  {
   "cell_type": "markdown",
   "id": "69de1263-1e7c-4d52-a577-8aed59d96803",
   "metadata": {},
   "source": [
    "**Notebook 1 - Contents**<br>\n",
    "[Introduction](#Introduction)<br>\n",
    "[Problem Statement](#Problem-Statement)<br>\n",
    "[Methodology](#Methodology)<br>\n",
    "[Model Selection](#Model-Selection)<br>\n",
    "[Metrics](#Metrics)<br>"
   ]
  },
  {
   "cell_type": "markdown",
   "id": "3fb79b67-5cd4-48bd-8138-a8843e1f17d7",
   "metadata": {},
   "source": [
    "## Introduction"
   ]
  },
  {
   "cell_type": "markdown",
   "id": "8b85173e-9d23-4008-b676-72caf19fbfdf",
   "metadata": {},
   "source": [
    "[Demand Forecasting](https://en.wikipedia.org/wiki/Demand_forecasting) refers to the process of making sales estimation about customer demand for a specific product and services over a certain time period.  It is crucial process in business environment as it provides both quantitative and qualitative insights of the product positioning in the target market so as to faciliate companies to make informed decisions on business growth, strategies, pricing and marketing initiatives. Failing of which leads to detrimental impact on customer satisfaction, business competitiveness, profitability and longevity. "
   ]
  },
  {
   "cell_type": "markdown",
   "id": "c7cbbf6b-a1a6-4b85-ba0f-acefae59f0e6",
   "metadata": {},
   "source": [
    "### Methods of Demand Forecasting"
   ]
  },
  {
   "cell_type": "markdown",
   "id": "89bd9c5e-7ea4-4fc0-8599-46b9bd65ae98",
   "metadata": {},
   "source": [
    "1. Passive:\n",
    "   - it is an easy and straigh-forward prediction of future values based simply on past historical data with assumption future values dependant on past values with more emphasis placed upon latest sales. Normally used by companies with long histical data and relatively stable sales.\n",
    "3. Active:\n",
    "   - this type of regular demand planning used by startup businesses, growing companies and competitive industries.  \n",
    "5. Short-term:\n",
    "   - this method involves forecating at a small window of time in order to inform the day-to-day decision e.g. inventory planning for a Black Friday promotion.\n",
    "   - it is useful for managing a just-in-time (JIT) supply chain or a product lineup that changes frequently.\n",
    "   - However, most businesses will only use it in conjunction with longer-term projections. \n",
    "7. Long-term:\n",
    "   - It covers longer horizon of trends, seasonality and growth analysis which drive corporate level planning on production capacity, capital investment and expansion strategies.  \n",
    "9. Macro and micro:\n",
    "    - Macro leval forecasting looks into external forces e.g. economic conditions, competition and customer perference to identify opportunies and challenges facing organizations. Micron level drills down to specific market segments or region which the product and services serve or interested to explore.\n",
    "11. Internal:\n",
    "    - Internal capacity planning to meet the long-term and short term business demands which covers human resources and infrastucture.  "
   ]
  },
  {
   "cell_type": "markdown",
   "id": "bb57dcf5-62e7-47b7-8456-53f7fd6cbcc5",
   "metadata": {},
   "source": [
    "### Importance of Demand Forecasting"
   ]
  },
  {
   "attachments": {},
   "cell_type": "markdown",
   "id": "de682c43-e1d5-4161-aaa5-0f60ba466d1c",
   "metadata": {},
   "source": [
    "1. Resources optimization: If the company is able to identify expected demand levels for its product or services, it allows them to make necessary preparations, be it tightening belts, staying on course or expand production.  This geared businesses towards optimization of resources utilization (finances, human resource and time).  \n",
    "2. Efficient inventory management: Accurate demand forecasting help companies kept stocks at right balance.  Insufficient stocks resulted in customer dissatisfaction and revenue loss, and may lead to loss of future businesses.  On the other hand, overstocking incurs additional storage and logistics costs and would lead to stock obsolescence.\n",
    "3. Operational efficiency : Demand forecasting helps align production with anticipated demand and reduce production downtime and idle resources. Efficient production planning also reduces waste and lowers production costs, contributing to higher margins.\n",
    "4. SME business: Demand forecasting is particularly crucial for small- and medium-sized enterprises (SMEs).  Flawed demand planning may cost the loss of opportunity to fill big orders.  Excessively ambitious forecasts, on the other hand, leads to scaling too rapidly for demand that could not materialize as expected. SMEs also do not have the size of big organizations to cushion the impact of bad forecasting with the success in other business areas.\n",
    "5. Customer satisfaction: Demand forecasting enables businesses to meet customer demand consistently and timely. This is crucial for customer satisfaction.  Accurate forecasts enable businesses to fulfill orders promptly, resulting in happy and loyal customers. By understanding customer preferences and trends, companies can tailor their products and services to better meet the evolving needs of their target audience.\r\n"
   ]
  },
  {
   "cell_type": "markdown",
   "id": "ffd545b2-e74b-4fdf-b8c9-38274e62e57e",
   "metadata": {},
   "source": [
    "### Challenges of Demand Forecasting"
   ]
  },
  {
   "cell_type": "markdown",
   "id": "d8d14bea-d180-41d8-b47d-4ed9c0bfec74",
   "metadata": {},
   "source": [
    "1. Data collection: We need good past historical data to predict future trends.  However, data collection is not smooth-sailing especially companies with legacy systems and work processes.\n",
    "2. Human errors and bias: data collection and forecasting process are subjected to human errors and biases. There is tendency to focus on certain data based on individual perception.  Stakeholders conflicting interests gets in the way of successful demand forecasting as the sales leaders may want miximize sales but finance manager takes conservative approach towards costs control.\n",
    "3. Data quality: Data formats may not be ideal for forecasting if it lacks consistency and necessary details.  However it can be time consuming to gather historical data of granularity.  Even more challenging if the company has high employee turnover rate.\n",
    "4. **Seasonality**: Even with sufficient data of quality, forecasting demand into future can still be challenging as most companies are using rule-based forecasting which does not predict seasonality.\n",
    "5. **Complexity**: We are not able to accurately predict customer preference, competitors strategies, new technology, government policies, unexpected pandemic and many other factors (micro and macro) that are out of control, but predicting trends and directions are beneficial to assist with operational planning. \n",
    "6. Lack expertise: Some companies lack expertise in the sphere of data analysis, statistics and domain knowledge in demand forecasting.  Technology capability is also one  factor that is absent in companies.  Human resorces is necessary to train existing employees to manage the machine learning models and make sense out of it.\n",
    "7. Supply chain: Supply chain have become more complex with global sourcing and interdependency.  Disruptions in the supply chain resulted in delays and shortages. This poses challenges on companies implementing accurate demand forecasting facing the increasingly intricate supply networks.  "
   ]
  },
  {
   "cell_type": "markdown",
   "id": "405ee74c-51bf-4b06-af0c-863b36fc6b0e",
   "metadata": {},
   "source": [
    "## Problem Statement"
   ]
  },
  {
   "cell_type": "markdown",
   "id": "2e5170de-1fcf-4961-a7b6-deed7dd3d7c2",
   "metadata": {},
   "source": [
    "I would like to explore machine learning algorithms to develop an effective **short-term demand forecasting model** to help organizations to plan for demand surge for next 3 months, as current rule-based not able to predict seasonality and cannot handle complex and nonlinear relationships.  Demand surge happens when there are upcoming promotions or special events (Superbowl, Amazon Prime Day etc) so that they can swiftly act upon inventory planning and logistics to minimize costs.  "
   ]
  },
  {
   "cell_type": "markdown",
   "id": "4abfd812-3927-4a1a-a39e-2272167b197e",
   "metadata": {},
   "source": [
    "## Methodology"
   ]
  },
  {
   "cell_type": "markdown",
   "id": "edb3827d-015e-4602-9607-c0e823a917d3",
   "metadata": {},
   "source": [
    "### Data Sources"
   ]
  },
  {
   "cell_type": "markdown",
   "id": "9b3e4ac2-1b51-4f7e-b5b0-10e509a4f790",
   "metadata": {},
   "source": [
    "https://www.kaggle.com/datasets/earthfromtop/amazon-sales-fy202021"
   ]
  },
  {
   "cell_type": "markdown",
   "id": "b9834b96-292f-4f32-877e-c8cd46494899",
   "metadata": {},
   "source": [
    "### Information sources:"
   ]
  },
  {
   "cell_type": "markdown",
   "id": "0427bab6-d0e2-4273-ba13-c6b8298f91dc",
   "metadata": {},
   "source": [
    "1. https://en.wikipedia.org/wiki/Demand_forecasting\n",
    "2. https://medium.com/@futureanalytica/importance-of-demand-forecasting-86c1a4753dc0\n",
    "3. https://www.netsuite.com/portal/resource/articles/inventory-management/demand-forecasting.shtml\n",
    "4. https://www.thefulfillmentlab.com/blog/demand-forecasting\n",
    "5. https://www.unitedstateszipcodes.org/\n",
    "6. https://www.machinelearningplus.com/time-series/time-series-analysis-python/\n",
    "7. https://machinelearningmastery.com/random-forest-for-time-series-forecasting/\n",
    "8. https://machinelearningmastery.com/time-series-forecasting-with-prophet-in-python/"
   ]
  },
  {
   "cell_type": "markdown",
   "id": "45e8e62c-1649-4dc4-9c63-fb522e3cedc1",
   "metadata": {},
   "source": [
    "### Workflow"
   ]
  },
  {
   "attachments": {
    "c2ad9374-58d8-4360-b589-b98f4f32ebb0.png": {
     "image/png": "[encoded data removed]"
    }
   },
   "cell_type": "markdown",
   "id": "81c60697-384c-4fe8-b7f5-4b97a8e03bb1",
   "metadata": {},
   "source": [
    "![workflow.png](attachment:c2ad9374-58d8-4360-b589-b98f4f32ebb0.png)"
   ]
  },
  {
   "cell_type": "markdown",
   "id": "25363e2c-7487-45ce-b90d-74b222d0928c",
   "metadata": {},
   "source": [
    "## Model Selection"
   ]
  },
  {
   "cell_type": "markdown",
   "id": "dde88a5a-d1cf-4f40-8cc0-9b76c26af7bb",
   "metadata": {},
   "source": [
    "1. Time Series:\n",
    "   - The classical methods, ARIMA, ARIMAX, SARIMA and SARIMAX, are used for modelling.\n",
    "   - ARIMA and SARIMA refers to univariate time series forecasting models that are capable of capturing short-term patterns and seasonality with a limited past history data of 12 months.  The models consider recent past observations and don't rely on large amounts of historical data like other machine learning approaches.\n",
    "   - ARIMAX and SARIMAX are the extension of traditional ARIMA and SARIMA respecitively. These extended models include both past values of target responses and additional features to make prediction of future values.  It accounts for features that are exogenous which means external factors that might be potential demand driver. This enables incorporating external factors to establish relationships between the factors and demand, so that I could utilize the features available in the datasets in modelling.\n",
    "2. Regression:\n",
    "   - Random Forest is an ensemble decision tree model that is used for classification and regression predictive modelling.\n",
    "   - it can capture complex relationships in dataset and they are robust for short-term forecasts. \n",
    "   - It selects input variable randomly to create decision trees hence prediction errors from each tree is more different and less correlated.\n",
    "   - The final prediction is drawn by averaged across all decision trees and I believe this would result in better performance than other bagged decision tree models."
   ]
  },
  {
   "cell_type": "markdown",
   "id": "4bd254ca-a2ac-4705-b23b-863b63a7b017",
   "metadata": {},
   "source": [
    "## Risks"
   ]
  },
  {
   "cell_type": "markdown",
   "id": "c5c3379d-e574-4088-b552-dcf6e5b34cfe",
   "metadata": {},
   "source": [
    "1. Overfitting: this risk is deemed high when dealing with smaller datasets. Overfitting occurs when models capture noises in the dataset rather than underlying patterns.  Hence continous improvement through further data colleciton and feature engineering would solve the overfitting issue.\n",
    "2. Data quality: inaccurate and incomplete data affect quality of forecasting models. Data preprocessing and cleaning can mitigate the risk.\n",
    "3. Feature selection: select irrelevant input features or omit important features run the risk of affecting modelling predicitve capability.\n",
    "4. Model complexity: complex models may not generalize well to new data and can lead to overfitting.\n",
    "5. Interpretability: blackbox models that are difficult to explain may be a concern for application in practice.\n",
    "6. External factors: unforeseen circumstances e.g. pandemic or economic crises can be challenging to anticipate and incorporate into modelling."
   ]
  },
  {
   "cell_type": "markdown",
   "id": "ab925d19-a3b9-4d7e-a9dd-d789bed833c1",
   "metadata": {},
   "source": [
    "## Metrics"
   ]
  },
  {
   "attachments": {
    "8cbb15cf-b193-4d05-8b7c-b1bea2324b82.png": {
     "image/png": "[encoded data removed]"
    }
   },
   "cell_type": "markdown",
   "id": "6df46466-c084-429c-8824-4db45a38086c",
   "metadata": {},
   "source": [
    "![RMSE.png](attachment:8cbb15cf-b193-4d05-8b7c-b1bea2324b82.png)"
   ]
  },
  {
   "cell_type": "markdown",
   "id": "280aaf5d-2e9e-492d-a581-8fe8b78534d0",
   "metadata": {},
   "source": [
    "For optimisation and selection of models, **RMSE** (Root Mean Squared Errors) is used due to the reasons as follows: <br>\n",
    "1. Simplicity: RMSE is a relatively simple and straightforward metric to compute, making it practical for evaluation of forecasting models.\n",
    "2. Popularity: RMSE is a widely accepted metric in the field of time series forecasting and machine learning to compare the performance of different models across the industry.\n",
    "3. Interpretability: RMSE is expressed in the same units as the target variable (order quantity), which makes it easy to interpret and stakeholders are able to grasp the magnitude of forecasting errors.\n",
    "4. Sensitivity to errors: RMSE assigns more weight to larger errors (as errors are squared) compared to other metrics like MAE (mean absolute error) and MAPE (mean absolute percentage error).\n",
    "   - In this case, the target variable (order quantity) has a range of peaks and lulls, larger errors are expected at the peak in absolute values.\n",
    "   - Furthermore, we are more focused on capturing the demand spikes. Therefore RMSE is particularly suitable for highlighting larger forecasting errors that have significant financial impact in supply chain management."
   ]
  },
  {
   "cell_type": "code",
   "execution_count": null,
   "id": "5e6ff06d-e890-4a51-a85c-cfa3fa6d7357",
   "metadata": {},
   "outputs": [],
   "source": []
  }
 ],
 "metadata": {
  "kernelspec": {
   "display_name": "Python 3 (ipykernel)",
   "language": "python",
   "name": "python3"
  },
  "language_info": {
   "codemirror_mode": {
    "name": "ipython",
    "version": 3
   },
   "file_extension": ".py",
   "mimetype": "text/x-python",
   "name": "python",
   "nbconvert_exporter": "python",
   "pygments_lexer": "ipython3",
   "version": "3.8.16"
  }
 },
 "nbformat": 4,
 "nbformat_minor": 5
}
