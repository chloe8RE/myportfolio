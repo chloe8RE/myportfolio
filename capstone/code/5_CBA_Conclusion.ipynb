{
 "cells": [
  {
   "cell_type": "markdown",
   "id": "ebc5c5f8-d109-4d11-9bc0-6c5d6f45d596",
   "metadata": {},
   "source": [
    "# Capstone: Customer Demand Forecasting"
   ]
  },
  {
   "cell_type": "markdown",
   "id": "c9075633-379c-4c43-94d6-1b19f96b019a",
   "metadata": {},
   "source": [
    "**Notebook 5 - Contents**<br>\n",
    "[Objective](#Objective)<br>\n",
    "[Cost and Benefits Analysis](#Cost-and-Benefits-Analysis)<br>\n",
    "[Conclusion](#Conclusion)<br>\n",
    "[Recommendation](#Recommendation)<br>"
   ]
  },
  {
   "cell_type": "markdown",
   "id": "89cbfb02-7d17-4e58-b489-58821e430183",
   "metadata": {},
   "source": [
    "## Objective"
   ]
  },
  {
   "cell_type": "markdown",
   "id": "95b9a7a8-7fc4-4aa2-acf8-417528111dfa",
   "metadata": {},
   "source": [
    "The forecasting reliability or forecast accuracy is key indicator in demand planning.  Robust implementation of forecasting process will reward business with benefits of minimizing stock-outs, improve service rate and reduce costs of supply chain. This is crucial in meeting customer expectation which leads to customer satisfaction and loyalty.  Ultimately business will enjoy growth and longevity. \n",
    "\n",
    "In this case study, RMSE is used for model performance assessment hence it will be used to conduct costs-benefits analysis to assess whether the costs of these forecasting errors outweigh the benefits of accurate forecasting. "
   ]
  },
  {
   "cell_type": "markdown",
   "id": "087df300-78c9-47c0-8bc3-bf7463911f19",
   "metadata": {},
   "source": [
    "## Cost and Benefits Analysis"
   ]
  },
  {
   "cell_type": "markdown",
   "id": "ac80f5af-7c51-4e35-8440-f6ec72051255",
   "metadata": {},
   "source": [
    "### Determine Costs and Benefits "
   ]
  },
  {
   "cell_type": "markdown",
   "id": "218aa480-93c6-4150-9be9-06a9934027d9",
   "metadata": {},
   "source": [
    "Costs associated with demand forecasting: \n",
    "- Costs of maintaining and monitoring forecasting model (labour)\n",
    "- Costs of data collection and processing (labour)\n",
    "- Costs of software and technology used for forecasting\n",
    "- Training costs\n",
    "\n",
    "Benefits of accurate forecasting: \n",
    "- Reduction in excess inventory carrying costs\n",
    "- Reduction in stockouts, lost sales and backorders\n",
    "- Reduction in wastages and obsolencence\n",
    "- Improved production planning\n",
    "- Improved supply chain efficiency (logistics and storage)\n",
    "- Efficient resource allocation (human resource, finances, labour hours)\n",
    "- Enhanced customer satistaction and retention"
   ]
  },
  {
   "cell_type": "markdown",
   "id": "5c976cd5-112c-4800-a849-307ecab5b691",
   "metadata": {},
   "source": [
    "### Assumptions: \n"
   ]
  },
  {
   "cell_type": "markdown",
   "id": "b105e9b6-46fe-45b8-8ad6-9cf031ecb7e0",
   "metadata": {},
   "source": [
    "1. Prediction is based on 90 days window.\n",
    "2. Current state is based on past historical mean to do projection for next 3 months.\n",
    "3. Product margins are not available in the datasets and data sources hence I will use the latest quarterly sales data from the biggest smartphone maker in US, i.e. [Apple](https://finance.yahoo.com/quote/AAPL/financials#:~:text=Annual-,Quarterly,-Income%20Statement).  Gross margin from Apple is 43% hence product costs is 57% (1 - gross margin).\n",
    "4. Average price of Mobiles & Tablets from the datasets is \\\\$712.\n",
    "6. Storage cost is \\\\$0.36 per unit per month as per [Amazon website](https://supplychain.amazon.com/pricing#storage:~:text=%240.13/mo-,%240.36/mo,-%240.09/mo).\n",
    "7. Fulfillment freight cost is \\\\$5 per unit per [freight price list.](https://www.shipbob.com/blog/amazon-fba-fees/#:~:text=Amazon%20FBA%20Fees%20table)"
   ]
  },
  {
   "cell_type": "code",
   "execution_count": 1,
   "id": "78d3c8cd-ee12-4363-a96e-f0e30d8d0f6c",
   "metadata": {},
   "outputs": [],
   "source": [
    "# import libraries \n",
    "import numpy as np\n",
    "import pandas as pd\n",
    "import pickle"
   ]
  },
  {
   "cell_type": "code",
   "execution_count": 2,
   "id": "9a8d215b-c6c0-44fa-95e6-1e3e7d32f8c7",
   "metadata": {},
   "outputs": [],
   "source": [
    "# import data for Mobiles & Tablets\n",
    "mobiles_sales = pickle.load(open('../pkl/mobiles_sales_exog.pkl', 'rb'))"
   ]
  },
  {
   "cell_type": "markdown",
   "id": "fb71e722-ee8e-4af9-9499-a9c333c44194",
   "metadata": {},
   "source": [
    "### Current State"
   ]
  },
  {
   "cell_type": "markdown",
   "id": "b660de8e-6308-400c-a9b4-a3b897c3ca57",
   "metadata": {},
   "source": [
    "Use historical mean to do projection for next 3 months"
   ]
  },
  {
   "cell_type": "code",
   "execution_count": 19,
   "id": "eded3cc7-4a25-4118-9255-baa60354971b",
   "metadata": {},
   "outputs": [
    {
     "data": {
      "text/plain": [
       "169"
      ]
     },
     "execution_count": 19,
     "metadata": {},
     "output_type": "execute_result"
    }
   ],
   "source": [
    "# Historical daily mean\n",
    "round(mobiles_sales[mobiles_sales.index<='2021-06-30']['order_qty'].mean())"
   ]
  },
  {
   "cell_type": "code",
   "execution_count": 20,
   "id": "3c796563-dcc9-409c-b824-9a636f2950cd",
   "metadata": {},
   "outputs": [
    {
     "data": {
      "text/plain": [
       "15210"
      ]
     },
     "execution_count": 20,
     "metadata": {},
     "output_type": "execute_result"
    }
   ],
   "source": [
    "# prediction for next 3 months based on historical mean\n",
    "currentstate_y_pred = round(mobiles_sales[mobiles_sales.index<='2021-06-30']['order_qty'].mean()) * 90\n",
    "currentstate_y_pred"
   ]
  },
  {
   "cell_type": "code",
   "execution_count": 23,
   "id": "45cbb7a6-dbb8-414c-ba03-0bd6b7645bbd",
   "metadata": {},
   "outputs": [
    {
     "data": {
      "text/plain": [
       "25349"
      ]
     },
     "execution_count": 23,
     "metadata": {},
     "output_type": "execute_result"
    }
   ],
   "source": [
    "# Actual order quantity during peak season\n",
    "y_true = round(mobiles_sales[(mobiles_sales.index>='2020-10-01') & (mobiles_sales.index<='2020-12-31')]['order_qty'].sum())\n",
    "y_true"
   ]
  },
  {
   "cell_type": "code",
   "execution_count": 24,
   "id": "318e8f5b-3e9f-4e48-9362-cee4b2d09a61",
   "metadata": {},
   "outputs": [
    {
     "data": {
      "text/plain": [
       "10139"
      ]
     },
     "execution_count": 24,
     "metadata": {},
     "output_type": "execute_result"
    }
   ],
   "source": [
    "# loss of business\n",
    "y_true - currentstate_y_pred "
   ]
  },
  {
   "cell_type": "code",
   "execution_count": 4,
   "id": "0d13fdf2-8c2a-4b0b-98e1-c820180d477a",
   "metadata": {},
   "outputs": [
    {
     "data": {
      "text/plain": [
       "0.4344924765518984"
      ]
     },
     "execution_count": 4,
     "metadata": {},
     "output_type": "execute_result"
    }
   ],
   "source": [
    "# Gross margin from Apples latest quarterly sales\n",
    "gross_margin = 166816 / 383933\n",
    "gross_margin"
   ]
  },
  {
   "cell_type": "code",
   "execution_count": 5,
   "id": "3f0651f4-e680-4f85-877b-1173bcf365bc",
   "metadata": {},
   "outputs": [
    {
     "data": {
      "text/plain": [
       "712"
      ]
     },
     "execution_count": 5,
     "metadata": {},
     "output_type": "execute_result"
    }
   ],
   "source": [
    "# Calculate average cost per Mobiles & Tablets\n",
    "avg_price = round(mobiles_sales['price'].mean())\n",
    "avg_price"
   ]
  },
  {
   "cell_type": "code",
   "execution_count": 6,
   "id": "bcd9ccde-dea7-4cb5-b473-5a135b3e7aa5",
   "metadata": {},
   "outputs": [
    {
     "data": {
      "text/plain": [
       "403"
      ]
     },
     "execution_count": 6,
     "metadata": {},
     "output_type": "execute_result"
    }
   ],
   "source": [
    "avg_cost = round(avg_price * (1 - gross_margin))\n",
    "avg_cost"
   ]
  },
  {
   "cell_type": "code",
   "execution_count": 26,
   "id": "bb96fad4-7c96-4614-9ecd-98f72b024d84",
   "metadata": {},
   "outputs": [
    {
     "data": {
      "text/plain": [
       "3136587"
      ]
     },
     "execution_count": 26,
     "metadata": {},
     "output_type": "execute_result"
    }
   ],
   "source": [
    "# Product margin loss\n",
    "round((y_true - currentstate_y_pred) * avg_price * gross_margin)"
   ]
  },
  {
   "cell_type": "markdown",
   "id": "255209fa-cbd4-44a8-b51a-825c82e4cc28",
   "metadata": {},
   "source": [
    "**Best Model = Random Forest Regressor = RMSE: 186 units**"
   ]
  },
  {
   "cell_type": "code",
   "execution_count": 7,
   "id": "cd015ada-e98f-4f9b-939e-6355e84f9608",
   "metadata": {},
   "outputs": [],
   "source": [
    "RMSE = 179"
   ]
  },
  {
   "cell_type": "markdown",
   "id": "2153bb49-0dec-412e-b67e-bde792e9daf9",
   "metadata": {},
   "source": [
    "Scenario 1 - over-forecasting"
   ]
  },
  {
   "cell_type": "code",
   "execution_count": 8,
   "id": "e9a90a98-0700-4707-8443-56665abfb435",
   "metadata": {},
   "outputs": [
    {
     "data": {
      "text/plain": [
       "72073"
      ]
     },
     "execution_count": 8,
     "metadata": {},
     "output_type": "execute_result"
    }
   ],
   "source": [
    "inventory_cost = round(avg_price*(1-gross_margin)*RMSE)\n",
    "inventory_cost"
   ]
  },
  {
   "cell_type": "code",
   "execution_count": 9,
   "id": "393c4451-5305-4b12-8ca9-f18073842da7",
   "metadata": {},
   "outputs": [
    {
     "data": {
      "text/plain": [
       "5800"
      ]
     },
     "execution_count": 9,
     "metadata": {},
     "output_type": "execute_result"
    }
   ],
   "source": [
    "storage = round(RMSE*30*0.36*3)  # RMSE * 30 days a month * storage cost * 3 months\n",
    "storage"
   ]
  },
  {
   "cell_type": "code",
   "execution_count": 27,
   "id": "378dd99a-85c4-4063-b2e6-4901945314a7",
   "metadata": {},
   "outputs": [
    {
     "data": {
      "text/plain": [
       "10740"
      ]
     },
     "execution_count": 27,
     "metadata": {},
     "output_type": "execute_result"
    }
   ],
   "source": [
    "freight = round(RMSE*30*2)  # RMSE * 30 days a month * freight cost * 1 way\n",
    "freight"
   ]
  },
  {
   "cell_type": "code",
   "execution_count": 11,
   "id": "5616873f-25bd-46df-bc7c-44b181839343",
   "metadata": {},
   "outputs": [
    {
     "data": {
      "text/plain": [
       "88613"
      ]
     },
     "execution_count": 11,
     "metadata": {},
     "output_type": "execute_result"
    }
   ],
   "source": [
    "over_forecast = inventory_cost + storage + freight\n",
    "over_forecast"
   ]
  },
  {
   "cell_type": "markdown",
   "id": "53f1cb13-4be2-491d-924a-27a90a96bef2",
   "metadata": {},
   "source": [
    "Scenario 2 - under-forecasting"
   ]
  },
  {
   "cell_type": "code",
   "execution_count": 12,
   "id": "8fd2b356-9dbc-4caa-93d3-f9d71aef4967",
   "metadata": {},
   "outputs": [
    {
     "data": {
      "text/plain": [
       "55375"
      ]
     },
     "execution_count": 12,
     "metadata": {},
     "output_type": "execute_result"
    }
   ],
   "source": [
    "margin_loss = round(avg_price*gross_margin*RMSE)\n",
    "margin_loss"
   ]
  },
  {
   "cell_type": "code",
   "execution_count": 13,
   "id": "b679bdf8-ae52-4aa7-9763-5bce3e61f8d9",
   "metadata": {},
   "outputs": [
    {
     "data": {
      "text/plain": [
       "55375"
      ]
     },
     "execution_count": 13,
     "metadata": {},
     "output_type": "execute_result"
    }
   ],
   "source": [
    "business_loss = round(avg_price*gross_margin*RMSE)\n",
    "business_loss"
   ]
  },
  {
   "cell_type": "code",
   "execution_count": 14,
   "id": "6430d273-80df-4b99-acd1-a80db6bf85dc",
   "metadata": {},
   "outputs": [
    {
     "data": {
      "text/plain": [
       "94210"
      ]
     },
     "execution_count": 14,
     "metadata": {},
     "output_type": "execute_result"
    }
   ],
   "source": [
    "under_forecast = margin_loss - storage - freight + business_loss\n",
    "under_forecast"
   ]
  },
  {
   "cell_type": "code",
   "execution_count": 30,
   "id": "f407f485-0810-45e4-a2c1-7267aefeb0e2",
   "metadata": {},
   "outputs": [
    {
     "data": {
      "text/plain": [
       "5597"
      ]
     },
     "execution_count": 30,
     "metadata": {},
     "output_type": "execute_result"
    }
   ],
   "source": [
    "# Under_forecast costs more than over_forecast\n",
    "under_forecast - over_forecast"
   ]
  },
  {
   "cell_type": "markdown",
   "id": "78912568-2a23-42c6-8278-eea9d81a9375",
   "metadata": {},
   "source": [
    "## Conclusion"
   ]
  },
  {
   "cell_type": "markdown",
   "id": "eaad2e8d-19c8-4e44-917b-d681c952aa05",
   "metadata": {},
   "source": [
    "1. Based on model comparison, the best fit model is Random Forest model with RMSE of 179. This model is able to handle complex relationship of features and predict seasonality from limited historical data due to its robust algorithms and hyperparameter tuning features.  It also extract features importance with payment method 'easypay' being the highest importance followed by discount and pricing.\n",
    "   \n",
    "2. This findings from feature importance from Random Forest model complements the EDA which highlights the price and discounts relationship with demand.\n",
    "\n",
    "3. EDA also shows that Sundays and December month play a signicant role on driving the demand. \n",
    " \n",
    "4. As time series model produces overfitting results, it suggests that demand are less time dependant but more driven by liberate pricing effort, discounts program as well as payment method made available to customer for convenience of purchasing.  \n",
    "\n",
    "5. Current state historical mean to forecast for peak season leads to under-forecasting of 10,0000 units and business loss of $3.1mil based on 43% product margin.  Although we save on storage costs and freight charges but there is risk of future business loss as customer will shift to competitors brands and other available alternatives and business lost the opportunity to build customer relationship.  Machine learning capability of forecasting seasonality will help with forecasting accuracy. \n",
    "\n",
    "6. Other external factors are not available from the datasets which could be the main driver of demand. These factors can be economic condition, holidays, festive promotions such as Christmas, Black Friday or Amazon Prime Day which are the initiatives by external parties.\n",
    "\n"
   ]
  },
  {
   "cell_type": "markdown",
   "id": "3e8f3f55-9826-4862-aa93-14826084eb97",
   "metadata": {},
   "source": [
    "## Recommendation"
   ]
  },
  {
   "cell_type": "markdown",
   "id": "b032b529-b305-42c9-ab8c-d9bc6d48e09d",
   "metadata": {},
   "source": [
    "1. It is recommended to collect more historical data to train the model. Also, efforts should focus on improving the data quality used for modeling. Identify and address any data anomalies, missing values, or outliers to optimize model performance.\n",
    "   \n",
    "2. Feature engineering to create interactive terms between features or variables to further fine-tune the model performance.\n",
    "\n",
    "3. We could gather more information on products attributes such as color, brand and size.  Other information that would help with accurate demand forecasting are promotions program, other co-purchased products (market basket analysis), holiday seasons, special events (Formula 1 race, Olympics Game etc), weather data as well as external economic indicators (GDP, unemployment rate, interest rate)\n",
    "\n",
    "4. We could train the datasets on other advanced models such as XGBoost or Prophet models and continue to finetune the models until optimum results."
   ]
  }
 ],
 "metadata": {
  "kernelspec": {
   "display_name": "Python 3 (ipykernel)",
   "language": "python",
   "name": "python3"
  },
  "language_info": {
   "codemirror_mode": {
    "name": "ipython",
    "version": 3
   },
   "file_extension": ".py",
   "mimetype": "text/x-python",
   "name": "python",
   "nbconvert_exporter": "python",
   "pygments_lexer": "ipython3",
   "version": "3.8.16"
  }
 },
 "nbformat": 4,
 "nbformat_minor": 5
}
